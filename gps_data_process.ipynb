{
 "cells": [
  {
   "cell_type": "markdown",
   "id": "6a079093-9aa8-425a-8b05-684917048932",
   "metadata": {},
   "source": [
    "# Analysis of US Coastguard GPS disruption data"
   ]
  },
  {
   "cell_type": "markdown",
   "id": "f93a3faf-35cd-44f7-bf47-00a7a94184b7",
   "metadata": {},
   "source": [
    "## Prerequisites"
   ]
  },
  {
   "cell_type": "code",
   "execution_count": 2,
   "id": "09bbb9e4-54e4-46a3-8cbb-3430adfcad01",
   "metadata": {},
   "outputs": [],
   "source": [
    "import pandas as pd\n",
    "from datetime import datetime as dt"
   ]
  },
  {
   "cell_type": "code",
   "execution_count": 4,
   "id": "7703d7d6-2cb6-46a3-a09e-2c6c042eb3a9",
   "metadata": {},
   "outputs": [
    {
     "name": "stdout",
     "output_type": "stream",
     "text": [
      "Collecting lxml\n",
      "  Downloading lxml-4.9.1-cp310-cp310-manylinux_2_17_x86_64.manylinux2014_x86_64.manylinux_2_24_x86_64.whl (6.9 MB)\n",
      "\u001b[2K     \u001b[90m━━━━━━━━━━━━━━━━━━━━━━━━━━━━━━━━━━━━━━━━\u001b[0m \u001b[32m6.9/6.9 MB\u001b[0m \u001b[31m50.1 MB/s\u001b[0m eta \u001b[36m0:00:00\u001b[0m:00:01\u001b[0m00:01\u001b[0m\n",
      "\u001b[?25hInstalling collected packages: lxml\n",
      "Successfully installed lxml-4.9.1\n",
      "\n",
      "\u001b[1m[\u001b[0m\u001b[34;49mnotice\u001b[0m\u001b[1;39;49m]\u001b[0m\u001b[39;49m A new release of pip available: \u001b[0m\u001b[31;49m22.3\u001b[0m\u001b[39;49m -> \u001b[0m\u001b[32;49m22.3.1\u001b[0m\n",
      "\u001b[1m[\u001b[0m\u001b[34;49mnotice\u001b[0m\u001b[1;39;49m]\u001b[0m\u001b[39;49m To update, run: \u001b[0m\u001b[32;49mpython3 -m pip install --upgrade pip\u001b[0m\n",
      "Note: you may need to restart the kernel to use updated packages.\n"
     ]
    }
   ],
   "source": [
    "%pip install lxml"
   ]
  },
  {
   "cell_type": "markdown",
   "id": "400e0bb0-700b-477e-bec0-5505b7da33e4",
   "metadata": {},
   "source": [
    "## Webscrape\n",
    "Run this to webscrape the data to files. If you already have the data locally, skip this section."
   ]
  },
  {
   "cell_type": "markdown",
   "id": "2ca17ead-3145-4925-b3c7-65226f4cc0b9",
   "metadata": {},
   "source": [
    "### Web scrape GPS interruptions"
   ]
  },
  {
   "cell_type": "code",
   "execution_count": 2,
   "id": "3ec7a4d4-671d-4057-b174-8fa8e9810751",
   "metadata": {},
   "outputs": [],
   "source": [
    "table_list = pd.read_html(r'https://navcen.uscg.gov/gps-problem-report-status')\n",
    "table_list[0].to_csv('gps_navcen.csv',index=False)"
   ]
  },
  {
   "cell_type": "markdown",
   "id": "7560a2a1-b006-4f8a-9847-66d9b2eba912",
   "metadata": {},
   "source": [
    "### Web scrape wikipedia \n",
    "#### US state codes"
   ]
  },
  {
   "cell_type": "code",
   "execution_count": 2,
   "id": "a25e6e01-62c1-47e4-9b0c-7fb228179f7a",
   "metadata": {},
   "outputs": [],
   "source": [
    "table_list_iso3166= pd.read_html('https://en.wikipedia.org/wiki/ISO_3166-2:US')"
   ]
  },
  {
   "cell_type": "code",
   "execution_count": 4,
   "id": "611a8c12-0d0d-47c5-875f-b778f3cad45c",
   "metadata": {},
   "outputs": [],
   "source": [
    "US_states_iso3166=table_list_iso3166[0]\n",
    "US_states_iso3166['clean_state']=US_states_iso3166['Code'].apply(lambda x: x.split('-')[1])\n",
    "US_states_iso3166.to_csv('US_states_iso3166.csv',index=False)"
   ]
  },
  {
   "cell_type": "markdown",
   "id": "77465824-d22a-4e64-910b-28caafe867c1",
   "metadata": {},
   "source": [
    "#### List of sovereign states"
   ]
  },
  {
   "cell_type": "code",
   "execution_count": 8,
   "id": "29d10c65-ca6f-4500-bd32-510a9868cd52",
   "metadata": {},
   "outputs": [],
   "source": [
    "sovereign_states_list= pd.read_html('https://en.wikipedia.org/wiki/ISO_3166-1_alpha-2')[2]\n",
    "sovereign_states_list[sovereign_states_list['Country name (using title case)'].notna()].to_csv('sovereign_states.csv',index=False)"
   ]
  },
  {
   "cell_type": "markdown",
   "id": "03c0f507-03d9-49f2-a783-dfe72a305925",
   "metadata": {},
   "source": [
    "#### Web scrape UN LOCODE"
   ]
  },
  {
   "cell_type": "code",
   "execution_count": 4,
   "id": "ac9d9c0d-7df0-4d01-9a4f-ad372eeec05a",
   "metadata": {},
   "outputs": [],
   "source": [
    "un_locode_df= pd.read_html(r'https://service.unece.org/trade/locode/2022-1%20SubdivisionCodes.htm')"
   ]
  },
  {
   "cell_type": "code",
   "execution_count": 8,
   "id": "9fcf7b20-ec4b-4b5b-8a14-8471659a8281",
   "metadata": {},
   "outputs": [],
   "source": [
    "un_locode_df[0].to_csv('UN_LOCODE.csv',index=False)"
   ]
  },
  {
   "cell_type": "markdown",
   "id": "21079639-93d7-4b29-8578-35bc7945d574",
   "metadata": {},
   "source": [
    "## Processing and Analysis"
   ]
  },
  {
   "cell_type": "markdown",
   "id": "9b6e2c48-2566-4369-bf82-5f35a582d794",
   "metadata": {},
   "source": [
    "### Load from csv files"
   ]
  },
  {
   "cell_type": "code",
   "execution_count": 63,
   "id": "f0c07b05-a645-400f-919e-f2260bfc56ab",
   "metadata": {},
   "outputs": [],
   "source": [
    "gps_disruption_df=pd.read_csv('gps_navcen.csv')\n",
    "two_letter_codes=pd.read_csv('US_states_iso3166.csv')\n",
    "sovereign_states=pd.read_csv('sovereign_states.csv')\n",
    "UN_locodes=pd.read_csv('UN_LOCODE.csv')"
   ]
  },
  {
   "cell_type": "code",
   "execution_count": 64,
   "id": "82947d92-9898-423f-be62-8a744ff38c8e",
   "metadata": {},
   "outputs": [],
   "source": [
    "gps_disruption_df['User']=gps_disruption_df['Description'].apply(lambda x: x.split('NAVCEN')[0])\n",
    "gps_disruption_df['NAVCEN']=gps_disruption_df['Description'].apply(lambda x: x.split('NAVCEN')[1] if len(x.split('NAVCEN'))>1 else '')"
   ]
  },
  {
   "cell_type": "code",
   "execution_count": 65,
   "id": "29a65651-5871-410a-aa3c-24889de04d51",
   "metadata": {},
   "outputs": [
    {
     "data": {
      "text/html": [
       "<div>\n",
       "<style scoped>\n",
       "    .dataframe tbody tr th:only-of-type {\n",
       "        vertical-align: middle;\n",
       "    }\n",
       "\n",
       "    .dataframe tbody tr th {\n",
       "        vertical-align: top;\n",
       "    }\n",
       "\n",
       "    .dataframe thead th {\n",
       "        text-align: right;\n",
       "    }\n",
       "</style>\n",
       "<table border=\"1\" class=\"dataframe\">\n",
       "  <thead>\n",
       "    <tr style=\"text-align: right;\">\n",
       "      <th></th>\n",
       "      <th>Disruption Date/Time</th>\n",
       "      <th>Location</th>\n",
       "      <th>Type</th>\n",
       "      <th>Description</th>\n",
       "      <th>Cause</th>\n",
       "      <th>Closed Date</th>\n",
       "      <th>User</th>\n",
       "      <th>NAVCEN</th>\n",
       "    </tr>\n",
       "  </thead>\n",
       "  <tbody>\n",
       "    <tr>\n",
       "      <th>0</th>\n",
       "      <td>10/16/2022 14:13:00 CST</td>\n",
       "      <td>Independence</td>\n",
       "      <td>Automobile</td>\n",
       "      <td>USER: My mapping services are constantly searc...</td>\n",
       "      <td>Mapping Issue</td>\n",
       "      <td>10/25/2022</td>\n",
       "      <td>USER: My mapping services are constantly searc...</td>\n",
       "      <td>sent data mapping information.</td>\n",
       "    </tr>\n",
       "    <tr>\n",
       "      <th>1</th>\n",
       "      <td>10/06/2022 09:15:00 CST</td>\n",
       "      <td>Dallas, TX by Southern Methodist University</td>\n",
       "      <td>Other</td>\n",
       "      <td>USER: For several years now, on and off throug...</td>\n",
       "      <td>Insufficient Information</td>\n",
       "      <td>10/25/2022</td>\n",
       "      <td>USER: For several years now, on and off throug...</td>\n",
       "      <td>: The GPS Operations Center reviewed the GPS C...</td>\n",
       "    </tr>\n",
       "    <tr>\n",
       "      <th>2</th>\n",
       "      <td>09/17/2022 13:00:00 EST</td>\n",
       "      <td>Navy Yard, Washington DC</td>\n",
       "      <td>None</td>\n",
       "      <td>USER: Our car navigation system and our mobile...</td>\n",
       "      <td>Insufficient Information</td>\n",
       "      <td>10/25/2022</td>\n",
       "      <td>USER: Our car navigation system and our mobile...</td>\n",
       "      <td>: The GPS Operations Center reviewed the GPS C...</td>\n",
       "    </tr>\n",
       "    <tr>\n",
       "      <th>3</th>\n",
       "      <td>09/10/2022 09:45:00 CST</td>\n",
       "      <td>Chicago</td>\n",
       "      <td>Automobile</td>\n",
       "      <td>USER: Both my standalone gps and phone gps rep...</td>\n",
       "      <td>Insufficient Information</td>\n",
       "      <td>10/25/2022</td>\n",
       "      <td>USER: Both my standalone gps and phone gps rep...</td>\n",
       "      <td>: The GPS Operations Center reviewed the GPS C...</td>\n",
       "    </tr>\n",
       "    <tr>\n",
       "      <th>4</th>\n",
       "      <td>09/07/2022 13:15:00 EST</td>\n",
       "      <td>I-20 near Columbia, SC</td>\n",
       "      <td>Automobile</td>\n",
       "      <td>USER: Several times, most recently yesterday, ...</td>\n",
       "      <td>Mapping Issue</td>\n",
       "      <td>09/13/2022</td>\n",
       "      <td>USER: Several times, most recently yesterday, ...</td>\n",
       "      <td>sent data mapping information.</td>\n",
       "    </tr>\n",
       "    <tr>\n",
       "      <th>...</th>\n",
       "      <td>...</td>\n",
       "      <td>...</td>\n",
       "      <td>...</td>\n",
       "      <td>...</td>\n",
       "      <td>...</td>\n",
       "      <td>...</td>\n",
       "      <td>...</td>\n",
       "      <td>...</td>\n",
       "    </tr>\n",
       "    <tr>\n",
       "      <th>414</th>\n",
       "      <td>01/05/2017 4:35 UTC</td>\n",
       "      <td>Chile</td>\n",
       "      <td>Law Enforcement</td>\n",
       "      <td>User: There were large spikes in geozone alarm...</td>\n",
       "      <td>User Equipment</td>\n",
       "      <td>05/20/2019</td>\n",
       "      <td>User: There were large spikes in geozone alarm...</td>\n",
       "      <td>: The GPS Operations Center reviewed the GPS C...</td>\n",
       "    </tr>\n",
       "    <tr>\n",
       "      <th>415</th>\n",
       "      <td>01/03/2017 11:AM CST</td>\n",
       "      <td>San Angelo Airport</td>\n",
       "      <td>Aviation</td>\n",
       "      <td>User: The GPS systems in normal mode not milit...</td>\n",
       "      <td>Unintentional Interference</td>\n",
       "      <td>05/20/2019</td>\n",
       "      <td>User: The GPS systems in normal mode not milit...</td>\n",
       "      <td>: Report referred to FCC. FCC conducted an inv...</td>\n",
       "    </tr>\n",
       "    <tr>\n",
       "      <th>416</th>\n",
       "      <td>01/02/2017 3:00 EST</td>\n",
       "      <td>North Carolina - South Carolina border</td>\n",
       "      <td>Transportation</td>\n",
       "      <td>User: GPS would say when you plug in that ther...</td>\n",
       "      <td>User Equipment</td>\n",
       "      <td>05/20/2019</td>\n",
       "      <td>User: GPS would say when you plug in that ther...</td>\n",
       "      <td>: The GPS Operations Center reviewed the GPS C...</td>\n",
       "    </tr>\n",
       "    <tr>\n",
       "      <th>417</th>\n",
       "      <td>01/01/2017 12:00 EST</td>\n",
       "      <td>Elizabeth, NJ</td>\n",
       "      <td>Transportation</td>\n",
       "      <td>User: My business is located in Elizabeth, NJ....</td>\n",
       "      <td>Mapping Issue</td>\n",
       "      <td>05/20/2019</td>\n",
       "      <td>User: My business is located in Elizabeth, NJ....</td>\n",
       "      <td>: User provided information on how to contact ...</td>\n",
       "    </tr>\n",
       "    <tr>\n",
       "      <th>418</th>\n",
       "      <td>11/16/2016 7h37 UTC</td>\n",
       "      <td>Rennes, France</td>\n",
       "      <td>Research</td>\n",
       "      <td>User: I experimented high range error on PRN 3...</td>\n",
       "      <td>User Equipment</td>\n",
       "      <td>05/20/2019</td>\n",
       "      <td>User: I experimented high range error on PRN 3...</td>\n",
       "      <td>: The GPS Operations Center reviewed the GPS C...</td>\n",
       "    </tr>\n",
       "  </tbody>\n",
       "</table>\n",
       "<p>419 rows × 8 columns</p>\n",
       "</div>"
      ],
      "text/plain": [
       "        Disruption Date/Time                                     Location  \\\n",
       "0    10/16/2022 14:13:00 CST                                 Independence   \n",
       "1    10/06/2022 09:15:00 CST  Dallas, TX by Southern Methodist University   \n",
       "2    09/17/2022 13:00:00 EST                     Navy Yard, Washington DC   \n",
       "3    09/10/2022 09:45:00 CST                                      Chicago   \n",
       "4    09/07/2022 13:15:00 EST                       I-20 near Columbia, SC   \n",
       "..                       ...                                          ...   \n",
       "414      01/05/2017 4:35 UTC                                        Chile   \n",
       "415     01/03/2017 11:AM CST                           San Angelo Airport   \n",
       "416      01/02/2017 3:00 EST       North Carolina - South Carolina border   \n",
       "417     01/01/2017 12:00 EST                                Elizabeth, NJ   \n",
       "418      11/16/2016 7h37 UTC                               Rennes, France   \n",
       "\n",
       "                Type                                        Description  \\\n",
       "0         Automobile  USER: My mapping services are constantly searc...   \n",
       "1              Other  USER: For several years now, on and off throug...   \n",
       "2               None  USER: Our car navigation system and our mobile...   \n",
       "3         Automobile  USER: Both my standalone gps and phone gps rep...   \n",
       "4         Automobile  USER: Several times, most recently yesterday, ...   \n",
       "..               ...                                                ...   \n",
       "414  Law Enforcement  User: There were large spikes in geozone alarm...   \n",
       "415         Aviation  User: The GPS systems in normal mode not milit...   \n",
       "416   Transportation  User: GPS would say when you plug in that ther...   \n",
       "417   Transportation  User: My business is located in Elizabeth, NJ....   \n",
       "418         Research  User: I experimented high range error on PRN 3...   \n",
       "\n",
       "                          Cause Closed Date  \\\n",
       "0                 Mapping Issue  10/25/2022   \n",
       "1      Insufficient Information  10/25/2022   \n",
       "2      Insufficient Information  10/25/2022   \n",
       "3      Insufficient Information  10/25/2022   \n",
       "4                 Mapping Issue  09/13/2022   \n",
       "..                          ...         ...   \n",
       "414              User Equipment  05/20/2019   \n",
       "415  Unintentional Interference  05/20/2019   \n",
       "416              User Equipment  05/20/2019   \n",
       "417               Mapping Issue  05/20/2019   \n",
       "418              User Equipment  05/20/2019   \n",
       "\n",
       "                                                  User  \\\n",
       "0    USER: My mapping services are constantly searc...   \n",
       "1    USER: For several years now, on and off throug...   \n",
       "2    USER: Our car navigation system and our mobile...   \n",
       "3    USER: Both my standalone gps and phone gps rep...   \n",
       "4    USER: Several times, most recently yesterday, ...   \n",
       "..                                                 ...   \n",
       "414  User: There were large spikes in geozone alarm...   \n",
       "415  User: The GPS systems in normal mode not milit...   \n",
       "416  User: GPS would say when you plug in that ther...   \n",
       "417  User: My business is located in Elizabeth, NJ....   \n",
       "418  User: I experimented high range error on PRN 3...   \n",
       "\n",
       "                                                NAVCEN  \n",
       "0                       sent data mapping information.  \n",
       "1    : The GPS Operations Center reviewed the GPS C...  \n",
       "2    : The GPS Operations Center reviewed the GPS C...  \n",
       "3    : The GPS Operations Center reviewed the GPS C...  \n",
       "4                       sent data mapping information.  \n",
       "..                                                 ...  \n",
       "414  : The GPS Operations Center reviewed the GPS C...  \n",
       "415  : Report referred to FCC. FCC conducted an inv...  \n",
       "416  : The GPS Operations Center reviewed the GPS C...  \n",
       "417  : User provided information on how to contact ...  \n",
       "418  : The GPS Operations Center reviewed the GPS C...  \n",
       "\n",
       "[419 rows x 8 columns]"
      ]
     },
     "execution_count": 65,
     "metadata": {},
     "output_type": "execute_result"
    }
   ],
   "source": [
    "gps_disruption_df"
   ]
  },
  {
   "cell_type": "markdown",
   "id": "1d640c40-c321-473f-aa00-5e6fa67dbcf6",
   "metadata": {},
   "source": [
    "## Analyse disruptions by date"
   ]
  },
  {
   "cell_type": "code",
   "execution_count": 66,
   "id": "bff75004-449c-4cbf-b543-7f58c5b10a1a",
   "metadata": {},
   "outputs": [],
   "source": [
    "gps_disruption_df['local_date']=gps_disruption_df['Disruption Date/Time']\\\n",
    ".apply(lambda x:dt.strptime(x[0:10],'%m/%d/%Y'))"
   ]
  },
  {
   "cell_type": "markdown",
   "id": "bdd2ca0f-64f8-4d63-b94b-b2425fd81c97",
   "metadata": {},
   "source": [
    "The local date is the UTC date with up to 0.5 day error. That's not bad for analysis to the nearest day. This will have to be improved for more precise analysis."
   ]
  },
  {
   "cell_type": "code",
   "execution_count": 67,
   "id": "1fd44f7d-b467-4af7-9a2c-10f79a964045",
   "metadata": {},
   "outputs": [
    {
     "data": {
      "text/plain": [
       "<AxesSubplot: xlabel='local_date'>"
      ]
     },
     "execution_count": 67,
     "metadata": {},
     "output_type": "execute_result"
    },
    {
     "data": {
      "image/png": "[encoded data removed]",
      "text/plain": [
       "<Figure size 640x480 with 1 Axes>"
      ]
     },
     "metadata": {},
     "output_type": "display_data"
    }
   ],
   "source": [
    "gps_disruption_df.resample('M', on='local_date').\\\n",
    "count()['Disruption Date/Time'].plot(rot=90)\n"
   ]
  },
  {
   "cell_type": "markdown",
   "id": "02920851-0daf-419a-8a52-a470621e5f45",
   "metadata": {},
   "source": [
    "## Analyse disruptions by location"
   ]
  },
  {
   "cell_type": "markdown",
   "id": "c85b235a-30c1-4e69-821b-458f535cd754",
   "metadata": {
    "tags": []
   },
   "source": [
    "### Add UK to two letter codes"
   ]
  },
  {
   "cell_type": "code",
   "execution_count": 68,
   "id": "3f54257e-a5cc-4220-956b-c4022c339925",
   "metadata": {},
   "outputs": [],
   "source": [
    "two_letter_codes=\\\n",
    "pd.concat([two_letter_codes,\\\n",
    "           pd.DataFrame({'Code':\"GB\",'Subdivision name (en)':\"United Kingdom\",'Subdivision category':\"Country\",'clean_state':\"UK\"},index=[two_letter_codes['Code'].count()])])\n",
    "two_letter_codes=\\\n",
    "pd.concat([two_letter_codes,\\\n",
    "           pd.DataFrame({'Code':\"US\",'Subdivision name (en)':\"United States\",'Subdivision category':\"Country\",'clean_state':\"US\"},index=[two_letter_codes['Code'].count()])])"
   ]
  },
  {
   "cell_type": "markdown",
   "id": "3e62007b-d78a-47cf-b280-ff61f081d45c",
   "metadata": {},
   "source": [
    "### Add previous names to ISO list"
   ]
  },
  {
   "cell_type": "code",
   "execution_count": 69,
   "id": "16e14f24-ce5e-40a2-bd6b-e2b0f1690f27",
   "metadata": {},
   "outputs": [],
   "source": [
    "sovereign_states['previous country name']=\\\n",
    "sovereign_states['Notes']\\\n",
    ".apply(lambda x: str(x)\\\n",
    "       .split('Previous ISO country name: ')[-1]\\\n",
    "       .split('(')[0]\\\n",
    "       .split(';')[0]\\\n",
    "       .split('.')[0]\\\n",
    "       .strip() \\\n",
    "       if 'Previous ISO country name: ' in str(x) \\\n",
    "       else None ) \n"
   ]
  },
  {
   "cell_type": "code",
   "execution_count": 70,
   "id": "66c24264-d2f2-4fda-838e-3c72d6b987fe",
   "metadata": {},
   "outputs": [],
   "source": [
    "sovereign_states['common name']=\\\n",
    "sovereign_states['Notes']\\\n",
    ".apply(lambda x: str(x)\\\n",
    "       .split('common name: ')[-1]\\\n",
    "       .strip()\\\n",
    "       .split(')')[0] \\\n",
    "       if 'common name: ' in str(x) \\\n",
    "       else None )"
   ]
  },
  {
   "cell_type": "code",
   "execution_count": 71,
   "id": "ce8da5d5-febb-4ce5-bfcd-8c2320563420",
   "metadata": {},
   "outputs": [
    {
     "data": {
      "text/html": [
       "<div>\n",
       "<style scoped>\n",
       "    .dataframe tbody tr th:only-of-type {\n",
       "        vertical-align: middle;\n",
       "    }\n",
       "\n",
       "    .dataframe tbody tr th {\n",
       "        vertical-align: top;\n",
       "    }\n",
       "\n",
       "    .dataframe thead th {\n",
       "        text-align: right;\n",
       "    }\n",
       "</style>\n",
       "<table border=\"1\" class=\"dataframe\">\n",
       "  <thead>\n",
       "    <tr style=\"text-align: right;\">\n",
       "      <th></th>\n",
       "      <th>Code</th>\n",
       "      <th>Country name (using title case)</th>\n",
       "      <th>Year</th>\n",
       "      <th>ccTLD</th>\n",
       "      <th>Notes</th>\n",
       "      <th>previous country name</th>\n",
       "      <th>common name</th>\n",
       "    </tr>\n",
       "  </thead>\n",
       "  <tbody>\n",
       "    <tr>\n",
       "      <th>27</th>\n",
       "      <td>BN</td>\n",
       "      <td>Brunei Darussalam</td>\n",
       "      <td>1974</td>\n",
       "      <td>.bn</td>\n",
       "      <td>Previous ISO country name: Brunei</td>\n",
       "      <td>Brunei</td>\n",
       "      <td>None</td>\n",
       "    </tr>\n",
       "    <tr>\n",
       "      <th>28</th>\n",
       "      <td>BO</td>\n",
       "      <td>Bolivia (Plurinational State of)</td>\n",
       "      <td>1974</td>\n",
       "      <td>.bo</td>\n",
       "      <td>Previous ISO country name: Bolivia</td>\n",
       "      <td>Bolivia</td>\n",
       "      <td>None</td>\n",
       "    </tr>\n",
       "    <tr>\n",
       "      <th>29</th>\n",
       "      <td>BQ</td>\n",
       "      <td>Bonaire, Sint Eustatius and Saba</td>\n",
       "      <td>2010</td>\n",
       "      <td>.bq</td>\n",
       "      <td>Consists of three Caribbean \"special municipal...</td>\n",
       "      <td>Bonaire, Saint Eustatius and Saba  BQ previous...</td>\n",
       "      <td>None</td>\n",
       "    </tr>\n",
       "    <tr>\n",
       "      <th>46</th>\n",
       "      <td>CM</td>\n",
       "      <td>Cameroon</td>\n",
       "      <td>1974</td>\n",
       "      <td>.cm</td>\n",
       "      <td>Previous ISO country name: Cameroon, United Re...</td>\n",
       "      <td>Cameroon, United Republic of</td>\n",
       "      <td>None</td>\n",
       "    </tr>\n",
       "    <tr>\n",
       "      <th>55</th>\n",
       "      <td>CZ</td>\n",
       "      <td>Czechia</td>\n",
       "      <td>1993</td>\n",
       "      <td>.cz</td>\n",
       "      <td>Previous ISO country name: Czech Republic</td>\n",
       "      <td>Czech Republic</td>\n",
       "      <td>None</td>\n",
       "    </tr>\n",
       "    <tr>\n",
       "      <th>65</th>\n",
       "      <td>EH</td>\n",
       "      <td>Western Sahara</td>\n",
       "      <td>1974</td>\n",
       "      <td>NaN</td>\n",
       "      <td>Previous ISO country name: Spanish Sahara (cod...</td>\n",
       "      <td>Spanish Sahara</td>\n",
       "      <td>None</td>\n",
       "    </tr>\n",
       "    <tr>\n",
       "      <th>72</th>\n",
       "      <td>FM</td>\n",
       "      <td>Micronesia (Federated States of)</td>\n",
       "      <td>1986</td>\n",
       "      <td>.fm</td>\n",
       "      <td>Previous ISO country name: Micronesia</td>\n",
       "      <td>Micronesia</td>\n",
       "      <td>None</td>\n",
       "    </tr>\n",
       "    <tr>\n",
       "      <th>76</th>\n",
       "      <td>GB</td>\n",
       "      <td>United Kingdom of Great Britain and Northern I...</td>\n",
       "      <td>1974</td>\n",
       "      <td>.gb (.uk)</td>\n",
       "      <td>Includes Akrotiri and Dhekelia (Sovereign Base...</td>\n",
       "      <td>United Kingdom</td>\n",
       "      <td>None</td>\n",
       "    </tr>\n",
       "    <tr>\n",
       "      <th>107</th>\n",
       "      <td>IR</td>\n",
       "      <td>Iran (Islamic Republic of)</td>\n",
       "      <td>1974</td>\n",
       "      <td>.ir</td>\n",
       "      <td>Previous ISO country name: Iran</td>\n",
       "      <td>Iran</td>\n",
       "      <td>None</td>\n",
       "    </tr>\n",
       "    <tr>\n",
       "      <th>116</th>\n",
       "      <td>KH</td>\n",
       "      <td>Cambodia</td>\n",
       "      <td>1974</td>\n",
       "      <td>.kh</td>\n",
       "      <td>Code taken from former name: Khmer Republic  P...</td>\n",
       "      <td>Kampuchea, Democratic</td>\n",
       "      <td>None</td>\n",
       "    </tr>\n",
       "    <tr>\n",
       "      <th>118</th>\n",
       "      <td>KM</td>\n",
       "      <td>Comoros</td>\n",
       "      <td>1974</td>\n",
       "      <td>.km</td>\n",
       "      <td>Code taken from name in Comorian: Komori Previ...</td>\n",
       "      <td>Comoro Islands</td>\n",
       "      <td>None</td>\n",
       "    </tr>\n",
       "    <tr>\n",
       "      <th>119</th>\n",
       "      <td>KN</td>\n",
       "      <td>Saint Kitts and Nevis</td>\n",
       "      <td>1974</td>\n",
       "      <td>.kn</td>\n",
       "      <td>Previous ISO country name: Saint Kitts-Nevis-A...</td>\n",
       "      <td>Saint Kitts-Nevis-Anguilla</td>\n",
       "      <td>None</td>\n",
       "    </tr>\n",
       "    <tr>\n",
       "      <th>124</th>\n",
       "      <td>KZ</td>\n",
       "      <td>Kazakhstan</td>\n",
       "      <td>1992</td>\n",
       "      <td>.kz</td>\n",
       "      <td>Previous ISO country name: Kazakstan</td>\n",
       "      <td>Kazakstan</td>\n",
       "      <td>None</td>\n",
       "    </tr>\n",
       "    <tr>\n",
       "      <th>135</th>\n",
       "      <td>LY</td>\n",
       "      <td>Libya</td>\n",
       "      <td>1974</td>\n",
       "      <td>.ly</td>\n",
       "      <td>Previous ISO country name: Libyan Arab Jamahiriya</td>\n",
       "      <td>Libyan Arab Jamahiriya</td>\n",
       "      <td>None</td>\n",
       "    </tr>\n",
       "    <tr>\n",
       "      <th>138</th>\n",
       "      <td>MD</td>\n",
       "      <td>Moldova, Republic of</td>\n",
       "      <td>1992</td>\n",
       "      <td>.md</td>\n",
       "      <td>Previous ISO country name: Moldova (briefly fr...</td>\n",
       "      <td>Moldova</td>\n",
       "      <td>None</td>\n",
       "    </tr>\n",
       "    <tr>\n",
       "      <th>143</th>\n",
       "      <td>MK</td>\n",
       "      <td>North Macedonia</td>\n",
       "      <td>1993</td>\n",
       "      <td>.mk</td>\n",
       "      <td>Code taken from name in Macedonian: Severna Ma...</td>\n",
       "      <td>Macedonia, the former Yugoslav Republic of</td>\n",
       "      <td>None</td>\n",
       "    </tr>\n",
       "    <tr>\n",
       "      <th>147</th>\n",
       "      <td>MO</td>\n",
       "      <td>Macao</td>\n",
       "      <td>1974</td>\n",
       "      <td>.mo</td>\n",
       "      <td>Previous ISO country name: Macau; Macao is off...</td>\n",
       "      <td>Macau</td>\n",
       "      <td>None</td>\n",
       "    </tr>\n",
       "    <tr>\n",
       "      <th>169</th>\n",
       "      <td>NU</td>\n",
       "      <td>Niue</td>\n",
       "      <td>1974</td>\n",
       "      <td>.nu</td>\n",
       "      <td>Previous ISO country name: Niue Island</td>\n",
       "      <td>Niue Island</td>\n",
       "      <td>None</td>\n",
       "    </tr>\n",
       "    <tr>\n",
       "      <th>180</th>\n",
       "      <td>PN</td>\n",
       "      <td>Pitcairn</td>\n",
       "      <td>1974</td>\n",
       "      <td>.pn</td>\n",
       "      <td>Previous ISO country name: Pitcairn Islands</td>\n",
       "      <td>Pitcairn Islands</td>\n",
       "      <td>None</td>\n",
       "    </tr>\n",
       "    <tr>\n",
       "      <th>182</th>\n",
       "      <td>PS</td>\n",
       "      <td>Palestine, State of</td>\n",
       "      <td>1999</td>\n",
       "      <td>.ps</td>\n",
       "      <td>Previous ISO country name: Palestinian Territo...</td>\n",
       "      <td>Palestinian Territory, Occupied  Consists of t...</td>\n",
       "      <td>None</td>\n",
       "    </tr>\n",
       "    <tr>\n",
       "      <th>198</th>\n",
       "      <td>SH</td>\n",
       "      <td>Saint Helena, Ascension and Tristan da Cunha</td>\n",
       "      <td>1974</td>\n",
       "      <td>.sh</td>\n",
       "      <td>Previous ISO country name: Saint Helena.</td>\n",
       "      <td>Saint Helena</td>\n",
       "      <td>None</td>\n",
       "    </tr>\n",
       "    <tr>\n",
       "      <th>206</th>\n",
       "      <td>SR</td>\n",
       "      <td>Suriname</td>\n",
       "      <td>1974</td>\n",
       "      <td>.sr</td>\n",
       "      <td>Previous ISO country name: Surinam</td>\n",
       "      <td>Surinam</td>\n",
       "      <td>None</td>\n",
       "    </tr>\n",
       "    <tr>\n",
       "      <th>212</th>\n",
       "      <td>SZ</td>\n",
       "      <td>Eswatini</td>\n",
       "      <td>1974</td>\n",
       "      <td>.sz</td>\n",
       "      <td>Previous ISO country name: Swaziland</td>\n",
       "      <td>Swaziland</td>\n",
       "      <td>None</td>\n",
       "    </tr>\n",
       "    <tr>\n",
       "      <th>219</th>\n",
       "      <td>TK</td>\n",
       "      <td>Tokelau</td>\n",
       "      <td>1974</td>\n",
       "      <td>.tk</td>\n",
       "      <td>Previous ISO country name: Tokelau Islands</td>\n",
       "      <td>Tokelau Islands</td>\n",
       "      <td>None</td>\n",
       "    </tr>\n",
       "    <tr>\n",
       "      <th>224</th>\n",
       "      <td>TR</td>\n",
       "      <td>Türkiye</td>\n",
       "      <td>1974</td>\n",
       "      <td>.tr</td>\n",
       "      <td>Previous ISO country name: Turkey</td>\n",
       "      <td>Turkey</td>\n",
       "      <td>None</td>\n",
       "    </tr>\n",
       "    <tr>\n",
       "      <th>229</th>\n",
       "      <td>UA</td>\n",
       "      <td>Ukraine</td>\n",
       "      <td>1974</td>\n",
       "      <td>.ua</td>\n",
       "      <td>Previous ISO country name: Ukrainian SSR  Code...</td>\n",
       "      <td>Ukrainian SSR  Code assigned as the country wa...</td>\n",
       "      <td>None</td>\n",
       "    </tr>\n",
       "    <tr>\n",
       "      <th>232</th>\n",
       "      <td>US</td>\n",
       "      <td>United States of America</td>\n",
       "      <td>1974</td>\n",
       "      <td>.us</td>\n",
       "      <td>Previous ISO country name: United States</td>\n",
       "      <td>United States</td>\n",
       "      <td>None</td>\n",
       "    </tr>\n",
       "    <tr>\n",
       "      <th>237</th>\n",
       "      <td>VE</td>\n",
       "      <td>Venezuela (Bolivarian Republic of)</td>\n",
       "      <td>1974</td>\n",
       "      <td>.ve</td>\n",
       "      <td>Previous ISO country name: Venezuela</td>\n",
       "      <td>Venezuela</td>\n",
       "      <td>None</td>\n",
       "    </tr>\n",
       "    <tr>\n",
       "      <th>242</th>\n",
       "      <td>WF</td>\n",
       "      <td>Wallis and Futuna</td>\n",
       "      <td>1974</td>\n",
       "      <td>.wf</td>\n",
       "      <td>Previous ISO country name: Wallis and Futuna I...</td>\n",
       "      <td>Wallis and Futuna Islands</td>\n",
       "      <td>None</td>\n",
       "    </tr>\n",
       "    <tr>\n",
       "      <th>244</th>\n",
       "      <td>YE</td>\n",
       "      <td>Yemen</td>\n",
       "      <td>1974</td>\n",
       "      <td>.ye</td>\n",
       "      <td>Previous ISO country name: Yemen, Republic of ...</td>\n",
       "      <td>Yemen, Republic of</td>\n",
       "      <td>None</td>\n",
       "    </tr>\n",
       "  </tbody>\n",
       "</table>\n",
       "</div>"
      ],
      "text/plain": [
       "    Code                    Country name (using title case)  Year      ccTLD  \\\n",
       "27    BN                                  Brunei Darussalam  1974        .bn   \n",
       "28    BO                   Bolivia (Plurinational State of)  1974        .bo   \n",
       "29    BQ                   Bonaire, Sint Eustatius and Saba  2010        .bq   \n",
       "46    CM                                           Cameroon  1974        .cm   \n",
       "55    CZ                                            Czechia  1993        .cz   \n",
       "65    EH                                     Western Sahara  1974        NaN   \n",
       "72    FM                   Micronesia (Federated States of)  1986        .fm   \n",
       "76    GB  United Kingdom of Great Britain and Northern I...  1974  .gb (.uk)   \n",
       "107   IR                         Iran (Islamic Republic of)  1974        .ir   \n",
       "116   KH                                           Cambodia  1974        .kh   \n",
       "118   KM                                            Comoros  1974        .km   \n",
       "119   KN                              Saint Kitts and Nevis  1974        .kn   \n",
       "124   KZ                                         Kazakhstan  1992        .kz   \n",
       "135   LY                                              Libya  1974        .ly   \n",
       "138   MD                               Moldova, Republic of  1992        .md   \n",
       "143   MK                                    North Macedonia  1993        .mk   \n",
       "147   MO                                              Macao  1974        .mo   \n",
       "169   NU                                               Niue  1974        .nu   \n",
       "180   PN                                           Pitcairn  1974        .pn   \n",
       "182   PS                                Palestine, State of  1999        .ps   \n",
       "198   SH       Saint Helena, Ascension and Tristan da Cunha  1974        .sh   \n",
       "206   SR                                           Suriname  1974        .sr   \n",
       "212   SZ                                           Eswatini  1974        .sz   \n",
       "219   TK                                            Tokelau  1974        .tk   \n",
       "224   TR                                            Türkiye  1974        .tr   \n",
       "229   UA                                            Ukraine  1974        .ua   \n",
       "232   US                           United States of America  1974        .us   \n",
       "237   VE                 Venezuela (Bolivarian Republic of)  1974        .ve   \n",
       "242   WF                                  Wallis and Futuna  1974        .wf   \n",
       "244   YE                                              Yemen  1974        .ye   \n",
       "\n",
       "                                                 Notes  \\\n",
       "27                   Previous ISO country name: Brunei   \n",
       "28                  Previous ISO country name: Bolivia   \n",
       "29   Consists of three Caribbean \"special municipal...   \n",
       "46   Previous ISO country name: Cameroon, United Re...   \n",
       "55           Previous ISO country name: Czech Republic   \n",
       "65   Previous ISO country name: Spanish Sahara (cod...   \n",
       "72               Previous ISO country name: Micronesia   \n",
       "76   Includes Akrotiri and Dhekelia (Sovereign Base...   \n",
       "107                    Previous ISO country name: Iran   \n",
       "116  Code taken from former name: Khmer Republic  P...   \n",
       "118  Code taken from name in Comorian: Komori Previ...   \n",
       "119  Previous ISO country name: Saint Kitts-Nevis-A...   \n",
       "124               Previous ISO country name: Kazakstan   \n",
       "135  Previous ISO country name: Libyan Arab Jamahiriya   \n",
       "138  Previous ISO country name: Moldova (briefly fr...   \n",
       "143  Code taken from name in Macedonian: Severna Ma...   \n",
       "147  Previous ISO country name: Macau; Macao is off...   \n",
       "169             Previous ISO country name: Niue Island   \n",
       "180        Previous ISO country name: Pitcairn Islands   \n",
       "182  Previous ISO country name: Palestinian Territo...   \n",
       "198           Previous ISO country name: Saint Helena.   \n",
       "206                 Previous ISO country name: Surinam   \n",
       "212               Previous ISO country name: Swaziland   \n",
       "219         Previous ISO country name: Tokelau Islands   \n",
       "224                  Previous ISO country name: Turkey   \n",
       "229  Previous ISO country name: Ukrainian SSR  Code...   \n",
       "232           Previous ISO country name: United States   \n",
       "237               Previous ISO country name: Venezuela   \n",
       "242  Previous ISO country name: Wallis and Futuna I...   \n",
       "244  Previous ISO country name: Yemen, Republic of ...   \n",
       "\n",
       "                                 previous country name common name  \n",
       "27                                              Brunei        None  \n",
       "28                                             Bolivia        None  \n",
       "29   Bonaire, Saint Eustatius and Saba  BQ previous...        None  \n",
       "46                        Cameroon, United Republic of        None  \n",
       "55                                      Czech Republic        None  \n",
       "65                                      Spanish Sahara        None  \n",
       "72                                          Micronesia        None  \n",
       "76                                      United Kingdom        None  \n",
       "107                                               Iran        None  \n",
       "116                              Kampuchea, Democratic        None  \n",
       "118                                     Comoro Islands        None  \n",
       "119                         Saint Kitts-Nevis-Anguilla        None  \n",
       "124                                          Kazakstan        None  \n",
       "135                             Libyan Arab Jamahiriya        None  \n",
       "138                                            Moldova        None  \n",
       "143         Macedonia, the former Yugoslav Republic of        None  \n",
       "147                                              Macau        None  \n",
       "169                                        Niue Island        None  \n",
       "180                                   Pitcairn Islands        None  \n",
       "182  Palestinian Territory, Occupied  Consists of t...        None  \n",
       "198                                       Saint Helena        None  \n",
       "206                                            Surinam        None  \n",
       "212                                          Swaziland        None  \n",
       "219                                    Tokelau Islands        None  \n",
       "224                                             Turkey        None  \n",
       "229  Ukrainian SSR  Code assigned as the country wa...        None  \n",
       "232                                      United States        None  \n",
       "237                                          Venezuela        None  \n",
       "242                          Wallis and Futuna Islands        None  \n",
       "244                                 Yemen, Republic of        None  "
      ]
     },
     "execution_count": 71,
     "metadata": {},
     "output_type": "execute_result"
    }
   ],
   "source": [
    "sovereign_states[sovereign_states['previous country name'].notna()]"
   ]
  },
  {
   "cell_type": "code",
   "execution_count": 72,
   "id": "7d577b90-8765-4b6b-93b8-f4709a56fea7",
   "metadata": {},
   "outputs": [
    {
     "data": {
      "text/html": [
       "<div>\n",
       "<style scoped>\n",
       "    .dataframe tbody tr th:only-of-type {\n",
       "        vertical-align: middle;\n",
       "    }\n",
       "\n",
       "    .dataframe tbody tr th {\n",
       "        vertical-align: top;\n",
       "    }\n",
       "\n",
       "    .dataframe thead th {\n",
       "        text-align: right;\n",
       "    }\n",
       "</style>\n",
       "<table border=\"1\" class=\"dataframe\">\n",
       "  <thead>\n",
       "    <tr style=\"text-align: right;\">\n",
       "      <th></th>\n",
       "      <th>Code</th>\n",
       "      <th>Country name (using title case)</th>\n",
       "      <th>Year</th>\n",
       "      <th>ccTLD</th>\n",
       "      <th>Notes</th>\n",
       "      <th>previous country name</th>\n",
       "      <th>common name</th>\n",
       "    </tr>\n",
       "  </thead>\n",
       "  <tbody>\n",
       "    <tr>\n",
       "      <th>71</th>\n",
       "      <td>FK</td>\n",
       "      <td>Falkland Islands (Malvinas)</td>\n",
       "      <td>1974</td>\n",
       "      <td>.fk</td>\n",
       "      <td>ISO country name follows UN designation due to...</td>\n",
       "      <td>None</td>\n",
       "      <td>Falkland Islands</td>\n",
       "    </tr>\n",
       "    <tr>\n",
       "      <th>120</th>\n",
       "      <td>KP</td>\n",
       "      <td>Korea (Democratic People's Republic of)</td>\n",
       "      <td>1974</td>\n",
       "      <td>.kp</td>\n",
       "      <td>ISO country name follows UN designation (commo...</td>\n",
       "      <td>None</td>\n",
       "      <td>North Korea</td>\n",
       "    </tr>\n",
       "    <tr>\n",
       "      <th>121</th>\n",
       "      <td>KR</td>\n",
       "      <td>Korea, Republic of</td>\n",
       "      <td>1974</td>\n",
       "      <td>.kr</td>\n",
       "      <td>ISO country name follows UN designation (commo...</td>\n",
       "      <td>None</td>\n",
       "      <td>South Korea</td>\n",
       "    </tr>\n",
       "    <tr>\n",
       "      <th>190</th>\n",
       "      <td>RU</td>\n",
       "      <td>Russian Federation</td>\n",
       "      <td>1992</td>\n",
       "      <td>.ru</td>\n",
       "      <td>ISO country name follows UN designation (commo...</td>\n",
       "      <td>None</td>\n",
       "      <td>Russia</td>\n",
       "    </tr>\n",
       "    <tr>\n",
       "      <th>227</th>\n",
       "      <td>TW</td>\n",
       "      <td>Taiwan, Province of China</td>\n",
       "      <td>1974</td>\n",
       "      <td>.tw</td>\n",
       "      <td>Covers the current jurisdiction of the Republi...</td>\n",
       "      <td>None</td>\n",
       "      <td>Taiwan</td>\n",
       "    </tr>\n",
       "    <tr>\n",
       "      <th>240</th>\n",
       "      <td>VN</td>\n",
       "      <td>Viet Nam</td>\n",
       "      <td>1974</td>\n",
       "      <td>.vn</td>\n",
       "      <td>ISO country name follows UN designation (commo...</td>\n",
       "      <td>None</td>\n",
       "      <td>South Vietnam</td>\n",
       "    </tr>\n",
       "  </tbody>\n",
       "</table>\n",
       "</div>"
      ],
      "text/plain": [
       "    Code          Country name (using title case)  Year ccTLD  \\\n",
       "71    FK              Falkland Islands (Malvinas)  1974   .fk   \n",
       "120   KP  Korea (Democratic People's Republic of)  1974   .kp   \n",
       "121   KR                       Korea, Republic of  1974   .kr   \n",
       "190   RU                       Russian Federation  1992   .ru   \n",
       "227   TW                Taiwan, Province of China  1974   .tw   \n",
       "240   VN                                 Viet Nam  1974   .vn   \n",
       "\n",
       "                                                 Notes previous country name  \\\n",
       "71   ISO country name follows UN designation due to...                  None   \n",
       "120  ISO country name follows UN designation (commo...                  None   \n",
       "121  ISO country name follows UN designation (commo...                  None   \n",
       "190  ISO country name follows UN designation (commo...                  None   \n",
       "227  Covers the current jurisdiction of the Republi...                  None   \n",
       "240  ISO country name follows UN designation (commo...                  None   \n",
       "\n",
       "          common name  \n",
       "71   Falkland Islands  \n",
       "120       North Korea  \n",
       "121       South Korea  \n",
       "190            Russia  \n",
       "227            Taiwan  \n",
       "240     South Vietnam  "
      ]
     },
     "execution_count": 72,
     "metadata": {},
     "output_type": "execute_result"
    }
   ],
   "source": [
    "sovereign_states[sovereign_states['common name'].notna()]"
   ]
  },
  {
   "cell_type": "markdown",
   "id": "b05b6040-45cf-46bb-a3f4-7d0dad88b410",
   "metadata": {},
   "source": [
    "### Clean up Location to get country/code "
   ]
  },
  {
   "cell_type": "code",
   "execution_count": 73,
   "id": "098d7fc4-2fdf-4c36-9e86-dbd8a49b243f",
   "metadata": {},
   "outputs": [],
   "source": [
    "def token_search(x_string):\n",
    "    \"\"\" This is a function that matches a US state 2 letter code in the string and returns, or country name and returns, or previous country name and returns, or US state full name and returns\"\"\"\n",
    "    for x_element in x_string.split():\n",
    "        x_el_stripped=x_element.strip(',').strip(',')\n",
    "        if x_el_stripped in list(two_letter_codes['clean_state' ]) and x_string.upper != x_string:\n",
    "            return list(two_letter_codes[two_letter_codes['clean_state']==x_el_stripped]['Code'].to_dict().values())[0]\n",
    "    for us_state in list(two_letter_codes['Subdivision name (en)']):\n",
    "        if us_state.upper() in x_string.upper():\n",
    "            return  list(two_letter_codes[two_letter_codes['Subdivision name (en)']==us_state]['Code'].to_dict().values())[0]\n",
    "    for sovereign_state in list(sovereign_states['Country name (using title case)']):\n",
    "        if sovereign_state.upper() in x_string.upper():\n",
    "            return  list(sovereign_states[sovereign_states['Country name (using title case)']==sovereign_state]['Code'].to_dict().values())[0]\n",
    "    for sovereign_state in list(sovereign_states[sovereign_states['previous country name'].notna()]['previous country name']):\n",
    "        if sovereign_state.upper() in x_string.upper():\n",
    "            return  list(sovereign_states[sovereign_states['previous country name']==sovereign_state]['Code'].to_dict().values())[0]\n",
    "    for sovereign_state in list(sovereign_states[sovereign_states['common name'].notna()]['common name']):\n",
    "        if sovereign_state.upper() in x_string.upper():\n",
    "            return  list(sovereign_states[sovereign_states['common name']==sovereign_state]['Code'].to_dict().values())[0]\n",
    "    for UN_location in list(UN_locodes['2']):\n",
    "        if UN_location.upper().split()[0] in x_string.upper().split()[0]:\n",
    "            return  list(UN_locodes[UN_locodes['2']==UN_location]['0'].to_dict().values())[0]\n",
    "gps_disruption_df['matched_location']=gps_disruption_df['Location'].apply(token_search)\n",
    "gps_disruption_df['matched_location2']=gps_disruption_df[gps_disruption_df['matched_location'].isna()]['User'].apply(token_search)\n",
    "gps_disruption_df['matched_location']=gps_disruption_df.matched_location.fillna(gps_disruption_df.matched_location2)"
   ]
  },
  {
   "cell_type": "markdown",
   "id": "3c69f643-6a9f-4e97-9f5d-9ea2383c3089",
   "metadata": {},
   "source": [
    "### Analyse per country and US state"
   ]
  },
  {
   "cell_type": "code",
   "execution_count": 74,
   "id": "4fb93e05-a313-4bd6-976c-7496741e987e",
   "metadata": {},
   "outputs": [
    {
     "data": {
      "text/plain": [
       "<AxesSubplot: ylabel='matched_location'>"
      ]
     },
     "execution_count": 74,
     "metadata": {},
     "output_type": "execute_result"
    },
    {
     "data": {
      "image/png": "[encoded data removed]",
      "text/plain": [
       "<Figure size 1200x1500 with 1 Axes>"
      ]
     },
     "metadata": {},
     "output_type": "display_data"
    }
   ],
   "source": [
    "gps_disruption_df[gps_disruption_df['matched_location'].notna()]\\\n",
    ".groupby('matched_location').count()['Disruption Date/Time'].sort_values()\\\n",
    ".plot(kind='barh',figsize=[12,15])"
   ]
  },
  {
   "cell_type": "code",
   "execution_count": 75,
   "id": "9f1cdb4a-4905-4336-b6d1-046c145a59a6",
   "metadata": {},
   "outputs": [
    {
     "data": {
      "text/plain": [
       "array(['US-KS', 'US-TX', 'US-DC', 'ES', 'US-SC', 'MU', 'EG', 'CN',\n",
       "       'US-GA', 'PA', 'GN', 'US-CA', 'AD', 'US-MA', 'US-IA', 'GR', 'TN',\n",
       "       'US-NV', 'US-NE', 'PE', 'TH', 'US-OH', 'EE', 'BO', 'AR', 'RW',\n",
       "       'IQ', 'LY', 'US-AZ', 'TR', 'BS', 'US-MD', 'BE', 'IL', 'US-OR',\n",
       "       'US-AR', 'US-SD', 'AU', 'BR', 'US-FL', 'CY', 'MT', 'US-ND',\n",
       "       'US-AL', 'KI', 'PL', 'LB', 'GB', 'IT', 'ML', 'US-AK', 'US-VA',\n",
       "       'US-WA', 'US-GU', 'MX', 'TW', 'BH', 'AE', 'IN', 'NL', 'US-TN',\n",
       "       'US-NC', 'US-NM', 'CM', 'US-PA', 'MM', 'US-IL', 'US-CO', 'US-CT',\n",
       "       'SA', 'US', 'DK', 'US-NY', 'NZ', 'UA', 'US-OK', 'NE', 'IR', 'OM',\n",
       "       'FI', 'YE', 'JP', 'US-IN', 'SK', 'BG', 'CA', 'AM', 'GI', 'DE',\n",
       "       'US-NJ', 'DZ', 'KR', 'RU', 'US-LA', 'FR', 'CL'], dtype=object)"
      ]
     },
     "execution_count": 75,
     "metadata": {},
     "output_type": "execute_result"
    }
   ],
   "source": [
    "gps_disruption_df['matched_location'].dropna().unique()"
   ]
  },
  {
   "cell_type": "code",
   "execution_count": 76,
   "id": "a54ecab3-cc57-4c29-91a9-dd1760cc9323",
   "metadata": {},
   "outputs": [
    {
     "data": {
      "text/html": [
       "<div>\n",
       "<style scoped>\n",
       "    .dataframe tbody tr th:only-of-type {\n",
       "        vertical-align: middle;\n",
       "    }\n",
       "\n",
       "    .dataframe tbody tr th {\n",
       "        vertical-align: top;\n",
       "    }\n",
       "\n",
       "    .dataframe thead th {\n",
       "        text-align: right;\n",
       "    }\n",
       "</style>\n",
       "<table border=\"1\" class=\"dataframe\">\n",
       "  <thead>\n",
       "    <tr style=\"text-align: right;\">\n",
       "      <th></th>\n",
       "      <th>Disruption Date/Time</th>\n",
       "      <th>Location</th>\n",
       "      <th>Type</th>\n",
       "      <th>Description</th>\n",
       "      <th>Cause</th>\n",
       "      <th>Closed Date</th>\n",
       "      <th>User</th>\n",
       "      <th>NAVCEN</th>\n",
       "      <th>local_date</th>\n",
       "      <th>matched_location</th>\n",
       "      <th>matched_location2</th>\n",
       "    </tr>\n",
       "  </thead>\n",
       "  <tbody>\n",
       "  </tbody>\n",
       "</table>\n",
       "</div>"
      ],
      "text/plain": [
       "Empty DataFrame\n",
       "Columns: [Disruption Date/Time, Location, Type, Description, Cause, Closed Date, User, NAVCEN, local_date, matched_location, matched_location2]\n",
       "Index: []"
      ]
     },
     "execution_count": 76,
     "metadata": {},
     "output_type": "execute_result"
    }
   ],
   "source": [
    "gps_disruption_df[gps_disruption_df['matched_location']=='FJ']"
   ]
  },
  {
   "cell_type": "code",
   "execution_count": 77,
   "id": "3e2e1d4f-7fe4-4ce3-9b9f-a911e7717182",
   "metadata": {},
   "outputs": [
    {
     "data": {
      "text/plain": [
       "{401: 'User: Several systems, across all of our assets at sea, all affected NAVCEN: The GPS Operations Center reviewed the GPS Constellation and Control Segment, there are no known anomalies that might affect GPS signal integrity at the time and vicinity of the reported outage. Space Weather was reviewed and found unlikely to have impacted GPS performance. No correlating reports from other users or interagency partners. Authorized GPS testing was scheduled within 200 miles of the reported location and may have impacted GPS performance.'}"
      ]
     },
     "execution_count": 77,
     "metadata": {},
     "output_type": "execute_result"
    }
   ],
   "source": [
    "gps_disruption_df[gps_disruption_df['Location']=='Channel Islands, CA']['Description'].to_dict()"
   ]
  },
  {
   "cell_type": "markdown",
   "id": "fc32b913-1edc-4480-a7b0-e575f1326c17",
   "metadata": {},
   "source": [
    "There is such a thing as https://en.wikipedia.org/wiki/Channel_Islands_(California)"
   ]
  },
  {
   "cell_type": "code",
   "execution_count": 78,
   "id": "a7f4b6cc-bccd-4737-9ad2-bf7cc8460e40",
   "metadata": {},
   "outputs": [
    {
     "data": {
      "text/html": [
       "<div>\n",
       "<style scoped>\n",
       "    .dataframe tbody tr th:only-of-type {\n",
       "        vertical-align: middle;\n",
       "    }\n",
       "\n",
       "    .dataframe tbody tr th {\n",
       "        vertical-align: top;\n",
       "    }\n",
       "\n",
       "    .dataframe thead th {\n",
       "        text-align: right;\n",
       "    }\n",
       "</style>\n",
       "<table border=\"1\" class=\"dataframe\">\n",
       "  <thead>\n",
       "    <tr style=\"text-align: right;\">\n",
       "      <th></th>\n",
       "      <th>Disruption Date/Time</th>\n",
       "      <th>Location</th>\n",
       "      <th>Type</th>\n",
       "      <th>Description</th>\n",
       "      <th>Cause</th>\n",
       "      <th>Closed Date</th>\n",
       "      <th>User</th>\n",
       "      <th>NAVCEN</th>\n",
       "      <th>local_date</th>\n",
       "      <th>matched_location</th>\n",
       "      <th>matched_location2</th>\n",
       "    </tr>\n",
       "  </thead>\n",
       "  <tbody>\n",
       "    <tr>\n",
       "      <th>8</th>\n",
       "      <td>08/18/2022 10:30:00 EST</td>\n",
       "      <td>Cartersville Georgia</td>\n",
       "      <td>Transportation</td>\n",
       "      <td>USER: Tractor trailers on coming in a resident...</td>\n",
       "      <td>Mapping Issue</td>\n",
       "      <td>08/23/2022</td>\n",
       "      <td>USER: Tractor trailers on coming in a resident...</td>\n",
       "      <td>sent data mapping information to report unaut...</td>\n",
       "      <td>2022-08-18</td>\n",
       "      <td>US-GA</td>\n",
       "      <td>NaN</td>\n",
       "    </tr>\n",
       "    <tr>\n",
       "      <th>147</th>\n",
       "      <td>10/20/2020 11:00 am EST</td>\n",
       "      <td>Stockbridge and McDonough GA</td>\n",
       "      <td>Transportation</td>\n",
       "      <td>User: Kept reporting \"GPS Network Unavailable\"...</td>\n",
       "      <td>Insufficient Information</td>\n",
       "      <td>10/27/2020</td>\n",
       "      <td>User: Kept reporting \"GPS Network Unavailable\"...</td>\n",
       "      <td>: The GPS Operations Center reviewed the GPS C...</td>\n",
       "      <td>2020-10-20</td>\n",
       "      <td>US-GA</td>\n",
       "      <td>NaN</td>\n",
       "    </tr>\n",
       "    <tr>\n",
       "      <th>366</th>\n",
       "      <td>10/10/2017 0920 EST</td>\n",
       "      <td>Macon, GA</td>\n",
       "      <td>Other</td>\n",
       "      <td>User: GPS unit could not ﬁx any satellites unt...</td>\n",
       "      <td>User Equipment</td>\n",
       "      <td>05/20/2019</td>\n",
       "      <td>User: GPS unit could not ﬁx any satellites unt...</td>\n",
       "      <td>: The GPS Operations Center reviewed the GPS C...</td>\n",
       "      <td>2017-10-10</td>\n",
       "      <td>US-GA</td>\n",
       "      <td>NaN</td>\n",
       "    </tr>\n",
       "    <tr>\n",
       "      <th>405</th>\n",
       "      <td>03/04/2017 2015 EST</td>\n",
       "      <td>Lyons, GA</td>\n",
       "      <td>Transportation</td>\n",
       "      <td>User: Our home is located on the west side of ...</td>\n",
       "      <td>Mapping Issue</td>\n",
       "      <td>05/20/2019</td>\n",
       "      <td>User: Our home is located on the west side of ...</td>\n",
       "      <td>: User provided information on how to contact ...</td>\n",
       "      <td>2017-03-04</td>\n",
       "      <td>US-GA</td>\n",
       "      <td>NaN</td>\n",
       "    </tr>\n",
       "  </tbody>\n",
       "</table>\n",
       "</div>"
      ],
      "text/plain": [
       "        Disruption Date/Time                      Location            Type  \\\n",
       "8    08/18/2022 10:30:00 EST          Cartersville Georgia  Transportation   \n",
       "147  10/20/2020 11:00 am EST  Stockbridge and McDonough GA  Transportation   \n",
       "366      10/10/2017 0920 EST                     Macon, GA           Other   \n",
       "405      03/04/2017 2015 EST                     Lyons, GA  Transportation   \n",
       "\n",
       "                                           Description  \\\n",
       "8    USER: Tractor trailers on coming in a resident...   \n",
       "147  User: Kept reporting \"GPS Network Unavailable\"...   \n",
       "366  User: GPS unit could not ﬁx any satellites unt...   \n",
       "405  User: Our home is located on the west side of ...   \n",
       "\n",
       "                        Cause Closed Date  \\\n",
       "8               Mapping Issue  08/23/2022   \n",
       "147  Insufficient Information  10/27/2020   \n",
       "366            User Equipment  05/20/2019   \n",
       "405             Mapping Issue  05/20/2019   \n",
       "\n",
       "                                                  User  \\\n",
       "8    USER: Tractor trailers on coming in a resident...   \n",
       "147  User: Kept reporting \"GPS Network Unavailable\"...   \n",
       "366  User: GPS unit could not ﬁx any satellites unt...   \n",
       "405  User: Our home is located on the west side of ...   \n",
       "\n",
       "                                                NAVCEN local_date  \\\n",
       "8     sent data mapping information to report unaut... 2022-08-18   \n",
       "147  : The GPS Operations Center reviewed the GPS C... 2020-10-20   \n",
       "366  : The GPS Operations Center reviewed the GPS C... 2017-10-10   \n",
       "405  : User provided information on how to contact ... 2017-03-04   \n",
       "\n",
       "    matched_location matched_location2  \n",
       "8              US-GA               NaN  \n",
       "147            US-GA               NaN  \n",
       "366            US-GA               NaN  \n",
       "405            US-GA               NaN  "
      ]
     },
     "execution_count": 78,
     "metadata": {},
     "output_type": "execute_result"
    }
   ],
   "source": [
    "gps_disruption_df[gps_disruption_df['matched_location']=='US-GA']"
   ]
  },
  {
   "cell_type": "code",
   "execution_count": 79,
   "id": "42436fdd-9a41-4384-a056-fad5f65fbdda",
   "metadata": {},
   "outputs": [
    {
     "data": {
      "text/html": [
       "<div>\n",
       "<style scoped>\n",
       "    .dataframe tbody tr th:only-of-type {\n",
       "        vertical-align: middle;\n",
       "    }\n",
       "\n",
       "    .dataframe tbody tr th {\n",
       "        vertical-align: top;\n",
       "    }\n",
       "\n",
       "    .dataframe thead th {\n",
       "        text-align: right;\n",
       "    }\n",
       "</style>\n",
       "<table border=\"1\" class=\"dataframe\">\n",
       "  <thead>\n",
       "    <tr style=\"text-align: right;\">\n",
       "      <th></th>\n",
       "      <th>Disruption Date/Time</th>\n",
       "      <th>Location</th>\n",
       "      <th>Type</th>\n",
       "      <th>Description</th>\n",
       "      <th>Cause</th>\n",
       "      <th>Closed Date</th>\n",
       "      <th>User</th>\n",
       "      <th>NAVCEN</th>\n",
       "      <th>local_date</th>\n",
       "      <th>matched_location</th>\n",
       "      <th>matched_location2</th>\n",
       "    </tr>\n",
       "  </thead>\n",
       "  <tbody>\n",
       "  </tbody>\n",
       "</table>\n",
       "</div>"
      ],
      "text/plain": [
       "Empty DataFrame\n",
       "Columns: [Disruption Date/Time, Location, Type, Description, Cause, Closed Date, User, NAVCEN, local_date, matched_location, matched_location2]\n",
       "Index: []"
      ]
     },
     "execution_count": 79,
     "metadata": {},
     "output_type": "execute_result"
    }
   ],
   "source": [
    "gps_disruption_df[gps_disruption_df['matched_location']=='GA']"
   ]
  },
  {
   "cell_type": "code",
   "execution_count": 80,
   "id": "1ca0736c-84ba-4c55-91b1-93d7ea8e6afc",
   "metadata": {},
   "outputs": [
    {
     "data": {
      "text/plain": [
       "<AxesSubplot: ylabel='matched_location2'>"
      ]
     },
     "execution_count": 80,
     "metadata": {},
     "output_type": "execute_result"
    },
    {
     "data": {
      "image/png": "[encoded data removed]",
      "text/plain": [
       "<Figure size 1200x1500 with 1 Axes>"
      ]
     },
     "metadata": {},
     "output_type": "display_data"
    }
   ],
   "source": [
    "gps_disruption_df[gps_disruption_df['matched_location2'].notna()]\\\n",
    ".groupby('matched_location2').count()['Disruption Date/Time'].sort_values()\\\n",
    ".plot(kind='barh',figsize=[12,15])"
   ]
  },
  {
   "cell_type": "code",
   "execution_count": 81,
   "id": "2396dd52-5286-4e0d-93a9-e3a188dafa80",
   "metadata": {},
   "outputs": [
    {
     "data": {
      "text/html": [
       "<div>\n",
       "<style scoped>\n",
       "    .dataframe tbody tr th:only-of-type {\n",
       "        vertical-align: middle;\n",
       "    }\n",
       "\n",
       "    .dataframe tbody tr th {\n",
       "        vertical-align: top;\n",
       "    }\n",
       "\n",
       "    .dataframe thead th {\n",
       "        text-align: right;\n",
       "    }\n",
       "</style>\n",
       "<table border=\"1\" class=\"dataframe\">\n",
       "  <thead>\n",
       "    <tr style=\"text-align: right;\">\n",
       "      <th></th>\n",
       "      <th>Disruption Date/Time</th>\n",
       "      <th>Location</th>\n",
       "      <th>Type</th>\n",
       "      <th>Description</th>\n",
       "      <th>Cause</th>\n",
       "      <th>Closed Date</th>\n",
       "      <th>User</th>\n",
       "      <th>NAVCEN</th>\n",
       "      <th>local_date</th>\n",
       "      <th>matched_location</th>\n",
       "      <th>matched_location2</th>\n",
       "    </tr>\n",
       "  </thead>\n",
       "  <tbody>\n",
       "  </tbody>\n",
       "</table>\n",
       "</div>"
      ],
      "text/plain": [
       "Empty DataFrame\n",
       "Columns: [Disruption Date/Time, Location, Type, Description, Cause, Closed Date, User, NAVCEN, local_date, matched_location, matched_location2]\n",
       "Index: []"
      ]
     },
     "execution_count": 81,
     "metadata": {},
     "output_type": "execute_result"
    }
   ],
   "source": [
    "gps_disruption_df[gps_disruption_df['matched_location2']=='US-IN']"
   ]
  },
  {
   "cell_type": "code",
   "execution_count": 82,
   "id": "964bb877-5e23-4ead-8ce5-bbd1cef443f4",
   "metadata": {},
   "outputs": [
    {
     "data": {
      "text/html": [
       "<div>\n",
       "<style scoped>\n",
       "    .dataframe tbody tr th:only-of-type {\n",
       "        vertical-align: middle;\n",
       "    }\n",
       "\n",
       "    .dataframe tbody tr th {\n",
       "        vertical-align: top;\n",
       "    }\n",
       "\n",
       "    .dataframe thead th {\n",
       "        text-align: right;\n",
       "    }\n",
       "</style>\n",
       "<table border=\"1\" class=\"dataframe\">\n",
       "  <thead>\n",
       "    <tr style=\"text-align: right;\">\n",
       "      <th></th>\n",
       "      <th>Disruption Date/Time</th>\n",
       "      <th>Location</th>\n",
       "      <th>Type</th>\n",
       "      <th>Description</th>\n",
       "      <th>Cause</th>\n",
       "      <th>Closed Date</th>\n",
       "      <th>User</th>\n",
       "      <th>NAVCEN</th>\n",
       "      <th>local_date</th>\n",
       "      <th>matched_location</th>\n",
       "      <th>matched_location2</th>\n",
       "    </tr>\n",
       "  </thead>\n",
       "  <tbody>\n",
       "    <tr>\n",
       "      <th>293</th>\n",
       "      <td>11/10/2018 09:00 CST</td>\n",
       "      <td>Evansville, IN</td>\n",
       "      <td>First Responder</td>\n",
       "      <td>User: On 22 October the units began reporting ...</td>\n",
       "      <td>User Equipment</td>\n",
       "      <td>05/08/2019</td>\n",
       "      <td>User: On 22 October the units began reporting ...</td>\n",
       "      <td>: The GPS week number for both dates are the s...</td>\n",
       "      <td>2018-11-10</td>\n",
       "      <td>US-IN</td>\n",
       "      <td>NaN</td>\n",
       "    </tr>\n",
       "    <tr>\n",
       "      <th>316</th>\n",
       "      <td>08/03/2018 11:30 EST</td>\n",
       "      <td>Avon, IN</td>\n",
       "      <td>Other</td>\n",
       "      <td>User: My son wears a GPS watch due to the poss...</td>\n",
       "      <td>User Equipment</td>\n",
       "      <td>05/07/2019</td>\n",
       "      <td>User: My son wears a GPS watch due to the poss...</td>\n",
       "      <td>: The GPS Operations Center reviewed the GPS C...</td>\n",
       "      <td>2018-08-03</td>\n",
       "      <td>US-IN</td>\n",
       "      <td>NaN</td>\n",
       "    </tr>\n",
       "  </tbody>\n",
       "</table>\n",
       "</div>"
      ],
      "text/plain": [
       "     Disruption Date/Time        Location             Type  \\\n",
       "293  11/10/2018 09:00 CST  Evansville, IN  First Responder   \n",
       "316  08/03/2018 11:30 EST        Avon, IN            Other   \n",
       "\n",
       "                                           Description           Cause  \\\n",
       "293  User: On 22 October the units began reporting ...  User Equipment   \n",
       "316  User: My son wears a GPS watch due to the poss...  User Equipment   \n",
       "\n",
       "    Closed Date                                               User  \\\n",
       "293  05/08/2019  User: On 22 October the units began reporting ...   \n",
       "316  05/07/2019  User: My son wears a GPS watch due to the poss...   \n",
       "\n",
       "                                                NAVCEN local_date  \\\n",
       "293  : The GPS week number for both dates are the s... 2018-11-10   \n",
       "316  : The GPS Operations Center reviewed the GPS C... 2018-08-03   \n",
       "\n",
       "    matched_location matched_location2  \n",
       "293            US-IN               NaN  \n",
       "316            US-IN               NaN  "
      ]
     },
     "execution_count": 82,
     "metadata": {},
     "output_type": "execute_result"
    }
   ],
   "source": [
    "gps_disruption_df[gps_disruption_df['matched_location']=='US-IN']"
   ]
  },
  {
   "cell_type": "markdown",
   "id": "3a395f78-f91a-490a-bae8-fe457a1bb9a9",
   "metadata": {},
   "source": [
    "### Unmatched location needs cleaning"
   ]
  },
  {
   "cell_type": "code",
   "execution_count": 83,
   "id": "d53fd22d-7498-4bb6-8053-843e371fb9b4",
   "metadata": {},
   "outputs": [],
   "source": [
    "disruptions_by_location=gps_disruption_df[gps_disruption_df['matched_location'].isna()].groupby('Location').count()['Disruption Date/Time']\n"
   ]
  },
  {
   "cell_type": "code",
   "execution_count": 84,
   "id": "abf1fc0d-139a-47e0-b371-81175a966739",
   "metadata": {},
   "outputs": [
    {
     "data": {
      "text/plain": [
       "Location\n",
       "Suez Canal    2\n",
       "Worldwide     2\n",
       "Name: Disruption Date/Time, dtype: int64"
      ]
     },
     "execution_count": 84,
     "metadata": {},
     "output_type": "execute_result"
    }
   ],
   "source": [
    "disruptions_by_location[disruptions_by_location>1].sort_values(ascending=False)#.plot(kind='barh')"
   ]
  },
  {
   "cell_type": "code",
   "execution_count": 85,
   "id": "3137eb12-6ce5-44e6-9a2b-5942d3d41e1b",
   "metadata": {},
   "outputs": [
    {
     "data": {
      "text/html": [
       "<div>\n",
       "<style scoped>\n",
       "    .dataframe tbody tr th:only-of-type {\n",
       "        vertical-align: middle;\n",
       "    }\n",
       "\n",
       "    .dataframe tbody tr th {\n",
       "        vertical-align: top;\n",
       "    }\n",
       "\n",
       "    .dataframe thead th {\n",
       "        text-align: right;\n",
       "    }\n",
       "</style>\n",
       "<table border=\"1\" class=\"dataframe\">\n",
       "  <thead>\n",
       "    <tr style=\"text-align: right;\">\n",
       "      <th></th>\n",
       "      <th>local_date</th>\n",
       "      <th>Location</th>\n",
       "      <th>Description</th>\n",
       "      <th>Cause</th>\n",
       "      <th>matched_location</th>\n",
       "    </tr>\n",
       "  </thead>\n",
       "  <tbody>\n",
       "    <tr>\n",
       "      <th>91</th>\n",
       "      <td>2021-07-28</td>\n",
       "      <td>At sea</td>\n",
       "      <td>USER: The vessel was sailing towards port said...</td>\n",
       "      <td>Unknown Interference</td>\n",
       "      <td>ES</td>\n",
       "    </tr>\n",
       "    <tr>\n",
       "      <th>138</th>\n",
       "      <td>2021-01-16</td>\n",
       "      <td>Global</td>\n",
       "      <td>CNES has detected a repetition of IODE for PRN...</td>\n",
       "      <td>IODC_10-Bit</td>\n",
       "      <td>AE</td>\n",
       "    </tr>\n",
       "    <tr>\n",
       "      <th>169</th>\n",
       "      <td>2020-08-04</td>\n",
       "      <td>Global</td>\n",
       "      <td>User: CNES (Centre National d Etudes Spatiales...</td>\n",
       "      <td>ICD_Violation</td>\n",
       "      <td>AE</td>\n",
       "    </tr>\n",
       "    <tr>\n",
       "      <th>195</th>\n",
       "      <td>2020-02-12</td>\n",
       "      <td>Worldwide</td>\n",
       "      <td>User: In February 2020 (Feb 12th, 13th, 15th a...</td>\n",
       "      <td>ICD_Violation</td>\n",
       "      <td>None</td>\n",
       "    </tr>\n",
       "    <tr>\n",
       "      <th>286</th>\n",
       "      <td>2019-02-01</td>\n",
       "      <td>Global</td>\n",
       "      <td>User: Thanks to Navigation and Timing Monitori...</td>\n",
       "      <td>None</td>\n",
       "      <td>AE</td>\n",
       "    </tr>\n",
       "    <tr>\n",
       "      <th>356</th>\n",
       "      <td>2017-11-30</td>\n",
       "      <td>Global</td>\n",
       "      <td>User: GPS PRN22 orbit error started to wander ...</td>\n",
       "      <td>User Equipment</td>\n",
       "      <td>AE</td>\n",
       "    </tr>\n",
       "    <tr>\n",
       "      <th>372</th>\n",
       "      <td>2017-09-20</td>\n",
       "      <td>Worldwide</td>\n",
       "      <td>User: It appears that the Subframe-2 IODC mess...</td>\n",
       "      <td>User Equipment</td>\n",
       "      <td>None</td>\n",
       "    </tr>\n",
       "  </tbody>\n",
       "</table>\n",
       "</div>"
      ],
      "text/plain": [
       "    local_date   Location                                        Description  \\\n",
       "91  2021-07-28     At sea  USER: The vessel was sailing towards port said...   \n",
       "138 2021-01-16     Global  CNES has detected a repetition of IODE for PRN...   \n",
       "169 2020-08-04     Global  User: CNES (Centre National d Etudes Spatiales...   \n",
       "195 2020-02-12  Worldwide  User: In February 2020 (Feb 12th, 13th, 15th a...   \n",
       "286 2019-02-01     Global  User: Thanks to Navigation and Timing Monitori...   \n",
       "356 2017-11-30     Global  User: GPS PRN22 orbit error started to wander ...   \n",
       "372 2017-09-20  Worldwide  User: It appears that the Subframe-2 IODC mess...   \n",
       "\n",
       "                    Cause matched_location  \n",
       "91   Unknown Interference               ES  \n",
       "138           IODC_10-Bit               AE  \n",
       "169         ICD_Violation               AE  \n",
       "195         ICD_Violation             None  \n",
       "286                  None               AE  \n",
       "356        User Equipment               AE  \n",
       "372        User Equipment             None  "
      ]
     },
     "execution_count": 85,
     "metadata": {},
     "output_type": "execute_result"
    }
   ],
   "source": [
    "gps_disruption_df.query('Location in (\"Worldwide\",\"Global\",\"At sea\")')[['local_date','Location','Description','Cause','matched_location']]"
   ]
  },
  {
   "cell_type": "code",
   "execution_count": 86,
   "id": "e60fbd6a-c266-4b9a-acc6-1835beeb01e2",
   "metadata": {},
   "outputs": [
    {
     "data": {
      "text/html": [
       "<div>\n",
       "<style scoped>\n",
       "    .dataframe tbody tr th:only-of-type {\n",
       "        vertical-align: middle;\n",
       "    }\n",
       "\n",
       "    .dataframe tbody tr th {\n",
       "        vertical-align: top;\n",
       "    }\n",
       "\n",
       "    .dataframe thead th {\n",
       "        text-align: right;\n",
       "    }\n",
       "</style>\n",
       "<table border=\"1\" class=\"dataframe\">\n",
       "  <thead>\n",
       "    <tr style=\"text-align: right;\">\n",
       "      <th></th>\n",
       "      <th>Description</th>\n",
       "      <th>matched_location</th>\n",
       "    </tr>\n",
       "  </thead>\n",
       "  <tbody>\n",
       "    <tr>\n",
       "      <th>277</th>\n",
       "      <td>At roughly 8:45 PM CST lost GPS Sync to variou...</td>\n",
       "      <td>US</td>\n",
       "    </tr>\n",
       "    <tr>\n",
       "      <th>287</th>\n",
       "      <td>User: Observation of GPS NANU times in relatio...</td>\n",
       "      <td>US</td>\n",
       "    </tr>\n",
       "  </tbody>\n",
       "</table>\n",
       "</div>"
      ],
      "text/plain": [
       "                                           Description matched_location\n",
       "277  At roughly 8:45 PM CST lost GPS Sync to variou...               US\n",
       "287  User: Observation of GPS NANU times in relatio...               US"
      ]
     },
     "execution_count": 86,
     "metadata": {},
     "output_type": "execute_result"
    }
   ],
   "source": [
    "gps_disruption_df.query('Location==\"United States\"')[['Description','matched_location']]"
   ]
  },
  {
   "cell_type": "code",
   "execution_count": 87,
   "id": "38f471ac-67cc-4b0b-9c77-7f4e9d0be4e7",
   "metadata": {},
   "outputs": [
    {
     "name": "stdout",
     "output_type": "stream",
     "text": [
      "At roughly 8:45 PM CST lost GPS Sync to various cell sites around the US. The common GPS is trend is dual cones feeding sync to UMTS and LTE technologies. To mitigate the issue Field Technicians have removed one of the GPS cones and have a master sync from LTE feeding UMTS. There was no back office or architectural changes to our network during this time that would have caused this failure. We are curious if there were any changes made in preparation of the GPS System rollover slated for tomorrow April 6th that may have affected the base stations to lose sync. NAVCEN: The U.S. Air Force points to Interface Specification IS-GPS-200, paragraph 20.3.3.5.2.2, Almanac Reference Time, which states: \"The almanac reference time, t(oa), is some some multiple of 2(12) seconds occurring approximately 70 hours after the first valid transmission time for this almanac data set (reference 20.3.4.5). The almanac is updated often enough to ensure that GPS time, t, shall differ from t(oa) by less than 3.5 days during the transmission period.\" They go on to point out \"For this reason, beginning late on JDay 094 [April 4th], the GPS constellation began, one satellite at a time, broadcasting almanacs with almanac reference times which, when un-truncated as necessary, translate(d) to a calendar date of 7 April 2019 (after the associated 1024-week rollover), correctly, and IAW IS-GPS-200.\" As the GPS Week Number Rollover may have been a factor, user encouraged to contact their equipment manufacturer for assistance. User did not respond to requests for additional information.\n",
      "User: Observation of GPS NANU times in relation to the time satellites are set to unhealthy do not match past NANUs and satellite status. What time should be used? The time listed in the NANU, or the time the satellite was set unhealthy? NAVCEN: The GPS Operations Center provided the following response: In reference to your question, no maintenance activities were initiated prior to the SVs being set UNHEALTHY. Moving forward, the GPS Master Control Station will work to ensure the NANU more closely tracks the exact time the SVs are set UNHEALTHY to avoid misconceptions. Again, thank you for bringing this matter to our attention.\n"
     ]
    }
   ],
   "source": [
    "for description_str in gps_disruption_df.query('Location==\"United States\"')['Description']:\n",
    "    print(description_str)"
   ]
  },
  {
   "cell_type": "code",
   "execution_count": 88,
   "id": "8f8f2049-599f-49f8-928e-c24a1cab5496",
   "metadata": {},
   "outputs": [
    {
     "data": {
      "text/html": [
       "<div>\n",
       "<style scoped>\n",
       "    .dataframe tbody tr th:only-of-type {\n",
       "        vertical-align: middle;\n",
       "    }\n",
       "\n",
       "    .dataframe tbody tr th {\n",
       "        vertical-align: top;\n",
       "    }\n",
       "\n",
       "    .dataframe thead th {\n",
       "        text-align: right;\n",
       "    }\n",
       "</style>\n",
       "<table border=\"1\" class=\"dataframe\">\n",
       "  <thead>\n",
       "    <tr style=\"text-align: right;\">\n",
       "      <th></th>\n",
       "      <th>Description</th>\n",
       "      <th>matched_location</th>\n",
       "      <th>matched_location2</th>\n",
       "      <th>NAVCEN</th>\n",
       "    </tr>\n",
       "  </thead>\n",
       "  <tbody>\n",
       "    <tr>\n",
       "      <th>110</th>\n",
       "      <td>User indicated an intermittent problem that wa...</td>\n",
       "      <td>BS</td>\n",
       "      <td>NaN</td>\n",
       "      <td>: The GPS Operations Center reviewed the GPS C...</td>\n",
       "    </tr>\n",
       "    <tr>\n",
       "      <th>120</th>\n",
       "      <td>USER: roughly 12 hours of gps spoofing upon de...</td>\n",
       "      <td>BS</td>\n",
       "      <td>NaN</td>\n",
       "      <td>: The GPS Operations Center reviewed the GPS C...</td>\n",
       "    </tr>\n",
       "    <tr>\n",
       "      <th>123</th>\n",
       "      <td>Lost GPS signal for six-minutes from 1620 GMT ...</td>\n",
       "      <td>BS</td>\n",
       "      <td>NaN</td>\n",
       "      <td>: The GPS Operations Center reviewed the GPS C...</td>\n",
       "    </tr>\n",
       "    <tr>\n",
       "      <th>124</th>\n",
       "      <td>GPS jamming begins, affecting both GPS units. ...</td>\n",
       "      <td>BS</td>\n",
       "      <td>NaN</td>\n",
       "      <td>: The GPS Operations Center reviewed the GPS C...</td>\n",
       "    </tr>\n",
       "    <tr>\n",
       "      <th>152</th>\n",
       "      <td>User: Additional vessel in area were experienc...</td>\n",
       "      <td>ES</td>\n",
       "      <td>NaN</td>\n",
       "      <td>: The GPS Operations Center reviewed the GPS C...</td>\n",
       "    </tr>\n",
       "    <tr>\n",
       "      <th>154</th>\n",
       "      <td>User: Intermittent GPS signal beginning at 013...</td>\n",
       "      <td>ES</td>\n",
       "      <td>NaN</td>\n",
       "      <td>: The GPS Operations Center reviewed the GPS C...</td>\n",
       "    </tr>\n",
       "  </tbody>\n",
       "</table>\n",
       "</div>"
      ],
      "text/plain": [
       "                                           Description matched_location  \\\n",
       "110  User indicated an intermittent problem that wa...               BS   \n",
       "120  USER: roughly 12 hours of gps spoofing upon de...               BS   \n",
       "123  Lost GPS signal for six-minutes from 1620 GMT ...               BS   \n",
       "124  GPS jamming begins, affecting both GPS units. ...               BS   \n",
       "152  User: Additional vessel in area were experienc...               ES   \n",
       "154  User: Intermittent GPS signal beginning at 013...               ES   \n",
       "\n",
       "    matched_location2                                             NAVCEN  \n",
       "110               NaN  : The GPS Operations Center reviewed the GPS C...  \n",
       "120               NaN  : The GPS Operations Center reviewed the GPS C...  \n",
       "123               NaN  : The GPS Operations Center reviewed the GPS C...  \n",
       "124               NaN  : The GPS Operations Center reviewed the GPS C...  \n",
       "152               NaN  : The GPS Operations Center reviewed the GPS C...  \n",
       "154               NaN  : The GPS Operations Center reviewed the GPS C...  "
      ]
     },
     "execution_count": 88,
     "metadata": {},
     "output_type": "execute_result"
    }
   ],
   "source": [
    "gps_disruption_df.query('Location in (\"Mediterranean Sea\",\"Eastern Mediterranean\",\"East Mediterranean Sea\")')\\\n",
    "[['Description','matched_location','matched_location2','NAVCEN']]"
   ]
  },
  {
   "cell_type": "code",
   "execution_count": 89,
   "id": "fdea7156-6773-4a64-830f-8f5569d31479",
   "metadata": {},
   "outputs": [
    {
     "name": "stdout",
     "output_type": "stream",
     "text": [
      "User indicated an intermittent problem that was otherwise unspecified. NAVCEN: The GPS Operations Center reviewed the GPS Constellation and Control Segment, there are no known anomalies that might affect GPS signal integrity at the time and vicinity of the reported problem. Space weather was reviewed and found unlikely to have impacted GPS performance. There were no authorized GPS tests in the area. No correlating reports from interagency partners. The report of interference is similar to that outlined by U.S. Maritime Administration in Maritime Advisory 2021-004-Various GPS Interference. User encouraged to report the issue to the nearest communication authority.\n",
      "USER: roughly 12 hours of gps spoofing upon departure from port Said Egypt. GPS signal rapidly shifted numerous times, position 6-8 miles off. Position dropped for 90 percent of the 12 hours. GPS aboard connected to ECDIS, RADAR,AIS, GYRO repeater panel, GMDSS suite. NAVCEN: The GPS Operations Center reviewed the GPS Constellation and Control Segment, there are no known anomalies that might affect GPS signal integrity at the time and vicinity of the reported problem. Space weather was reviewed and found unlikely to have impacted GPS performance. There were no authorized GPS tests in the area. No correlating reports from interagency partners. The report of interference is similar to that outlined by U.S. Maritime Administration in Maritime Advisory 2021-004-Various GPS Interference. User encouraged to report the issue to the nearest communication authority.\n",
      "Lost GPS signal for six-minutes from 1620 GMT to 1626 GMT. NAVCEN: The GPS Operations Center reviewed the GPS Constellation and Control Segment, there are no known anomalies that might affect GPS signal integrity at the time and vicinity of the reported problem. Space weather was reviewed and found unlikely to have impacted GPS performance. There were no authorized GPS tests in the area. No correlating reports from interagency partners. The report of interference is similar to that outlined by U.S. Maritime Administration in Maritime Advisory 2021-004-Various GPS Interference. User encouraged to report the issue to the nearest communication authority.\n",
      "GPS jamming begins, affecting both GPS units. Our position was @ 36-06N, 016-58E, and we were on a course of 100 T, with a speed of 17.8 kts. The GPS receivers had @ 8 satellites in view, but the Signal to Noise Ratio (SNR) of all satellites changed continuously from 0 to less than 30 for all satellites. Both GPS receivers were alarming, indicating a “loss of signal.” I switched GPS #2 to primary, because it also receives position data from GLONASS. This allowed our ECDIS to continue to function. The jamming was solid for 8 minutes. . NAVCEN: The GPS Operations Center reviewed the GPS Constellation and Control Segment, there are no known anomalies that might affect GPS signal integrity at the time and vicinity of the reported problem. Space weather was reviewed and found unlikely to have impacted GPS performance. There were no authorized GPS tests in the area. No correlating reports from interagency partners. The report of interference is similar to that outlined by U.S. Maritime Administration in Maritime Advisory 2021-004-Various GPS Interference. User encouraged to report the issue to the nearest communication authority.\n",
      "User: Additional vessel in area were experiencing similar GPS failures. NAVCEN: The GPS Operations Center reviewed the GPS Constellation and Control Segment, there are no known anomalies that might affect GPS signal integrity at the time and vicinity of the reported problem. Space weather was reviewed and found unlikely to have impacted GPS performance. There were no authorized GPS tests in the area. No correlating reports from interagency partners. The report of interference is similar to that outlined by U.S. Maritime Administration in Maritime Advisory 2020-016-Various GPS Interference. User encouraged to report the issue to the nearest communication authority.\n",
      "User: Intermittent GPS signal beginning at 0130Z which lasted for approx. 1-hour. Occurred again at 1030Z posn 35-20N 18-43E, and 1325Z posn 35-35N 17-40E for 15 minutes respectively. NAVCEN: The GPS Operations Center reviewed the GPS Constellation and Control Segment, there are no known anomalies that might affect GPS signal integrity at the time and vicinity of the reported problem. Space weather was reviewed and found unlikely to have impacted GPS performance. There were no authorized GPS tests in the area. No correlating reports from interagency partners. The report of interference is similar to that outlined by U.S. Maritime Administration in Maritime Advisory 2020-016-Various GPS Interference. User encouraged to report the issue to the nearest communication authority.\n"
     ]
    }
   ],
   "source": [
    "for description_str in gps_disruption_df.query('Location in (\"Mediterranean Sea\",\"Eastern Mediterranean\",\"East Mediterranean Sea\")')\\\n",
    "['Description']:\n",
    "    print(description_str)"
   ]
  },
  {
   "cell_type": "markdown",
   "id": "12aad695-6e7d-4bc6-8811-c962ead915ae",
   "metadata": {},
   "source": [
    "### Rare locations"
   ]
  },
  {
   "cell_type": "code",
   "execution_count": 90,
   "id": "1eb8e8d7-cb13-413c-9e26-ac894808f7ad",
   "metadata": {},
   "outputs": [
    {
     "data": {
      "text/plain": [
       "Location\n",
       "100NM off Port Said                          1\n",
       "35 - 04.4N, 034 - 48.1E                      1\n",
       "Boulder                                      1\n",
       "Brooklyn                                     1\n",
       "Bull Lake Dam                                1\n",
       "Downtown San Francisco                       1\n",
       "Driving West into South Bend on I80          1\n",
       "Empire                                       1\n",
       "Everett Turnpike Route 3 & E Dunstable Rd    1\n",
       "GeekHo, Pine Cay. Turks & Caicos Islands     1\n",
       "Houston                                      1\n",
       "I5 north going through Seattle               1\n",
       "Jodhpur                                      1\n",
       "Jonesboro, AR; Craighead Forest Park         1\n",
       "None provided                                1\n",
       "Name: Disruption Date/Time, dtype: int64"
      ]
     },
     "execution_count": 90,
     "metadata": {},
     "output_type": "execute_result"
    }
   ],
   "source": [
    "disruptions_by_location[disruptions_by_location==1 ]"
   ]
  },
  {
   "cell_type": "markdown",
   "id": "46c752ec-36bf-4104-af28-17f2508e76b3",
   "metadata": {
    "tags": []
   },
   "source": [
    "### quantify scale of each subgroup"
   ]
  },
  {
   "cell_type": "code",
   "execution_count": 91,
   "id": "45105054-3373-4fe8-8831-4dd1298f8214",
   "metadata": {},
   "outputs": [
    {
     "data": {
      "text/plain": [
       "96"
      ]
     },
     "execution_count": 91,
     "metadata": {},
     "output_type": "execute_result"
    }
   ],
   "source": [
    "gps_disruption_df['matched_location'].nunique()"
   ]
  },
  {
   "cell_type": "code",
   "execution_count": 92,
   "id": "92df1ded-8e0e-4beb-8b40-632192de786c",
   "metadata": {},
   "outputs": [
    {
     "data": {
      "text/plain": [
       "400"
      ]
     },
     "execution_count": 92,
     "metadata": {},
     "output_type": "execute_result"
    }
   ],
   "source": [
    "gps_disruption_df[gps_disruption_df['matched_location'].notna()]['Disruption Date/Time'].count()"
   ]
  },
  {
   "cell_type": "code",
   "execution_count": 93,
   "id": "08926765-1d1f-4877-b455-5bad65ee68e0",
   "metadata": {},
   "outputs": [
    {
     "data": {
      "text/plain": [
       "2"
      ]
     },
     "execution_count": 93,
     "metadata": {},
     "output_type": "execute_result"
    }
   ],
   "source": [
    "disruptions_by_location[disruptions_by_location>1 ].count()"
   ]
  },
  {
   "cell_type": "code",
   "execution_count": 94,
   "id": "cd3d6fa9-9640-412e-8af1-d237b522426f",
   "metadata": {},
   "outputs": [
    {
     "data": {
      "text/plain": [
       "15"
      ]
     },
     "execution_count": 94,
     "metadata": {},
     "output_type": "execute_result"
    }
   ],
   "source": [
    "disruptions_by_location[disruptions_by_location==1 ].count()"
   ]
  },
  {
   "cell_type": "code",
   "execution_count": null,
   "id": "dafefc9d-a2c4-4955-b546-4be9e42b844a",
   "metadata": {},
   "outputs": [],
   "source": []
  }
 ],
 "metadata": {
  "kernelspec": {
   "display_name": "Python 3 (ipykernel)",
   "language": "python",
   "name": "python3"
  },
  "language_info": {
   "codemirror_mode": {
    "name": "ipython",
    "version": 3
   },
   "file_extension": ".py",
   "mimetype": "text/x-python",
   "name": "python",
   "nbconvert_exporter": "python",
   "pygments_lexer": "ipython3",
   "version": "3.10.4"
  },
  "toc-autonumbering": true,
  "vscode": {
   "interpreter": {
    "hash": "3ad933181bd8a04b432d3370b9dc3b0662ad032c4dfaa4e4f1596c548f763858"
   }
  }
 },
 "nbformat": 4,
 "nbformat_minor": 5
}
