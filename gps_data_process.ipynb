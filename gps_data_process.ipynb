{
 "cells": [
  {
   "cell_type": "markdown",
   "id": "6a079093-9aa8-425a-8b05-684917048932",
   "metadata": {},
   "source": [
    "# Analysis of US Coastguard GPS disruption data"
   ]
  },
  {
   "cell_type": "markdown",
   "id": "f93a3faf-35cd-44f7-bf47-00a7a94184b7",
   "metadata": {},
   "source": [
    "## Prerequisites"
   ]
  },
  {
   "cell_type": "code",
   "execution_count": 1,
   "id": "09bbb9e4-54e4-46a3-8cbb-3430adfcad01",
   "metadata": {},
   "outputs": [],
   "source": [
    "import pandas as pd\n",
    "from datetime import datetime as dt"
   ]
  },
  {
   "cell_type": "code",
   "execution_count": 4,
   "id": "7703d7d6-2cb6-46a3-a09e-2c6c042eb3a9",
   "metadata": {},
   "outputs": [
    {
     "name": "stdout",
     "output_type": "stream",
     "text": [
      "Collecting lxml\n",
      "  Downloading lxml-4.9.1-cp310-cp310-manylinux_2_17_x86_64.manylinux2014_x86_64.manylinux_2_24_x86_64.whl (6.9 MB)\n",
      "\u001b[2K     \u001b[90m━━━━━━━━━━━━━━━━━━━━━━━━━━━━━━━━━━━━━━━━\u001b[0m \u001b[32m6.9/6.9 MB\u001b[0m \u001b[31m50.1 MB/s\u001b[0m eta \u001b[36m0:00:00\u001b[0m:00:01\u001b[0m00:01\u001b[0m\n",
      "\u001b[?25hInstalling collected packages: lxml\n",
      "Successfully installed lxml-4.9.1\n",
      "\n",
      "\u001b[1m[\u001b[0m\u001b[34;49mnotice\u001b[0m\u001b[1;39;49m]\u001b[0m\u001b[39;49m A new release of pip available: \u001b[0m\u001b[31;49m22.3\u001b[0m\u001b[39;49m -> \u001b[0m\u001b[32;49m22.3.1\u001b[0m\n",
      "\u001b[1m[\u001b[0m\u001b[34;49mnotice\u001b[0m\u001b[1;39;49m]\u001b[0m\u001b[39;49m To update, run: \u001b[0m\u001b[32;49mpython3 -m pip install --upgrade pip\u001b[0m\n",
      "Note: you may need to restart the kernel to use updated packages.\n"
     ]
    }
   ],
   "source": [
    "%pip install lxml"
   ]
  },
  {
   "cell_type": "markdown",
   "id": "400e0bb0-700b-477e-bec0-5505b7da33e4",
   "metadata": {},
   "source": [
    "## Webscrape\n",
    "Run this to webscrape the data to file. If you already have the data locally, skip this section"
   ]
  },
  {
   "cell_type": "markdown",
   "id": "2ca17ead-3145-4925-b3c7-65226f4cc0b9",
   "metadata": {},
   "source": [
    "### Web scrape GPS interruptions"
   ]
  },
  {
   "cell_type": "code",
   "execution_count": 2,
   "id": "3ec7a4d4-671d-4057-b174-8fa8e9810751",
   "metadata": {},
   "outputs": [],
   "source": [
    "table_list = pd.read_html(r'https://navcen.uscg.gov/gps-problem-report-status')\n",
    "table_list[0].to_csv('gps_navcen.csv',index=False)"
   ]
  },
  {
   "cell_type": "markdown",
   "id": "7560a2a1-b006-4f8a-9847-66d9b2eba912",
   "metadata": {},
   "source": [
    "### Web scrape wikipedia US state codes"
   ]
  },
  {
   "cell_type": "code",
   "execution_count": 3,
   "id": "a25e6e01-62c1-47e4-9b0c-7fb228179f7a",
   "metadata": {},
   "outputs": [],
   "source": [
    "table_list_iso3166= pd.read_html('https://en.wikipedia.org/wiki/ISO_3166-2:US')"
   ]
  },
  {
   "cell_type": "code",
   "execution_count": 4,
   "id": "611a8c12-0d0d-47c5-875f-b778f3cad45c",
   "metadata": {},
   "outputs": [],
   "source": [
    "US_states_iso3166=table_list_iso3166[0]\n",
    "US_states_iso3166['clean_state']=US_states_iso3166['Code'].apply(lambda x: x.split('-')[1])\n",
    "US_states_iso3166.to_csv('US_states_iso3166.csv',index=False)"
   ]
  },
  {
   "cell_type": "markdown",
   "id": "d65d8779-a51f-4284-89db-5e55f94c6915",
   "metadata": {},
   "source": [
    "## Processing and Analysis"
   ]
  },
  {
   "cell_type": "code",
   "execution_count": 5,
   "id": "f0c07b05-a645-400f-919e-f2260bfc56ab",
   "metadata": {},
   "outputs": [],
   "source": [
    "gps_disruption_df=pd.read_csv('gps_navcen.csv')\n",
    "two_letter_codes=pd.read_csv('US_states_iso3166.csv')\n",
    "#US_states_iso3166[57]\n"
   ]
  },
  {
   "cell_type": "code",
   "execution_count": 6,
   "id": "3f54257e-a5cc-4220-956b-c4022c339925",
   "metadata": {},
   "outputs": [],
   "source": [
    "two_letter_codes=pd.concat([two_letter_codes,pd.DataFrame({'Code':\"UK-UK\",'Subdivision name (en)':\"United Kingdom\",'Subdivision category':\"Country\",'clean_state':\"UK\"},index=[57])])"
   ]
  },
  {
   "cell_type": "code",
   "execution_count": 7,
   "id": "b0e5bae0-d041-46a3-8ebc-8ac1069466a5",
   "metadata": {},
   "outputs": [
    {
     "data": {
      "text/html": [
       "<div>\n",
       "<style scoped>\n",
       "    .dataframe tbody tr th:only-of-type {\n",
       "        vertical-align: middle;\n",
       "    }\n",
       "\n",
       "    .dataframe tbody tr th {\n",
       "        vertical-align: top;\n",
       "    }\n",
       "\n",
       "    .dataframe thead th {\n",
       "        text-align: right;\n",
       "    }\n",
       "</style>\n",
       "<table border=\"1\" class=\"dataframe\">\n",
       "  <thead>\n",
       "    <tr style=\"text-align: right;\">\n",
       "      <th></th>\n",
       "      <th>Disruption Date/Time</th>\n",
       "      <th>Location</th>\n",
       "      <th>Type</th>\n",
       "      <th>Description</th>\n",
       "      <th>Cause</th>\n",
       "      <th>Closed Date</th>\n",
       "    </tr>\n",
       "  </thead>\n",
       "  <tbody>\n",
       "    <tr>\n",
       "      <th>0</th>\n",
       "      <td>10/16/2022 14:13:00 CST</td>\n",
       "      <td>Independence</td>\n",
       "      <td>Automobile</td>\n",
       "      <td>USER: My mapping services are constantly searc...</td>\n",
       "      <td>Mapping Issue</td>\n",
       "      <td>10/25/2022</td>\n",
       "    </tr>\n",
       "    <tr>\n",
       "      <th>1</th>\n",
       "      <td>10/06/2022 09:15:00 CST</td>\n",
       "      <td>Dallas, TX by Southern Methodist University</td>\n",
       "      <td>Other</td>\n",
       "      <td>USER: For several years now, on and off throug...</td>\n",
       "      <td>Insufficient Information</td>\n",
       "      <td>10/25/2022</td>\n",
       "    </tr>\n",
       "    <tr>\n",
       "      <th>2</th>\n",
       "      <td>09/17/2022 13:00:00 EST</td>\n",
       "      <td>Navy Yard, Washington DC</td>\n",
       "      <td>None</td>\n",
       "      <td>USER: Our car navigation system and our mobile...</td>\n",
       "      <td>Insufficient Information</td>\n",
       "      <td>10/25/2022</td>\n",
       "    </tr>\n",
       "    <tr>\n",
       "      <th>3</th>\n",
       "      <td>09/10/2022 09:45:00 CST</td>\n",
       "      <td>Chicago</td>\n",
       "      <td>Automobile</td>\n",
       "      <td>USER: Both my standalone gps and phone gps rep...</td>\n",
       "      <td>Insufficient Information</td>\n",
       "      <td>10/25/2022</td>\n",
       "    </tr>\n",
       "    <tr>\n",
       "      <th>4</th>\n",
       "      <td>09/07/2022 13:15:00 EST</td>\n",
       "      <td>I-20 near Columbia, SC</td>\n",
       "      <td>Automobile</td>\n",
       "      <td>USER: Several times, most recently yesterday, ...</td>\n",
       "      <td>Mapping Issue</td>\n",
       "      <td>09/13/2022</td>\n",
       "    </tr>\n",
       "  </tbody>\n",
       "</table>\n",
       "</div>"
      ],
      "text/plain": [
       "      Disruption Date/Time                                     Location  \\\n",
       "0  10/16/2022 14:13:00 CST                                 Independence   \n",
       "1  10/06/2022 09:15:00 CST  Dallas, TX by Southern Methodist University   \n",
       "2  09/17/2022 13:00:00 EST                     Navy Yard, Washington DC   \n",
       "3  09/10/2022 09:45:00 CST                                      Chicago   \n",
       "4  09/07/2022 13:15:00 EST                       I-20 near Columbia, SC   \n",
       "\n",
       "         Type                                        Description  \\\n",
       "0  Automobile  USER: My mapping services are constantly searc...   \n",
       "1       Other  USER: For several years now, on and off throug...   \n",
       "2        None  USER: Our car navigation system and our mobile...   \n",
       "3  Automobile  USER: Both my standalone gps and phone gps rep...   \n",
       "4  Automobile  USER: Several times, most recently yesterday, ...   \n",
       "\n",
       "                      Cause Closed Date  \n",
       "0             Mapping Issue  10/25/2022  \n",
       "1  Insufficient Information  10/25/2022  \n",
       "2  Insufficient Information  10/25/2022  \n",
       "3  Insufficient Information  10/25/2022  \n",
       "4             Mapping Issue  09/13/2022  "
      ]
     },
     "execution_count": 7,
     "metadata": {},
     "output_type": "execute_result"
    }
   ],
   "source": [
    "gps_disruption_df.head()"
   ]
  },
  {
   "cell_type": "markdown",
   "id": "1d640c40-c321-473f-aa00-5e6fa67dbcf6",
   "metadata": {},
   "source": [
    "## Analyse disruptions by date"
   ]
  },
  {
   "cell_type": "code",
   "execution_count": 8,
   "id": "bff75004-449c-4cbf-b543-7f58c5b10a1a",
   "metadata": {},
   "outputs": [],
   "source": [
    "gps_disruption_df['local_date']=gps_disruption_df['Disruption Date/Time']\\\n",
    ".apply(lambda x:dt.strptime(x[0:10],'%m/%d/%Y'))"
   ]
  },
  {
   "cell_type": "code",
   "execution_count": 9,
   "id": "1fd44f7d-b467-4af7-9a2c-10f79a964045",
   "metadata": {},
   "outputs": [
    {
     "data": {
      "text/plain": [
       "<AxesSubplot: xlabel='local_date'>"
      ]
     },
     "execution_count": 9,
     "metadata": {},
     "output_type": "execute_result"
    },
    {
     "data": {
      "image/png": "[encoded data removed]",
      "text/plain": [
       "<Figure size 640x480 with 1 Axes>"
      ]
     },
     "metadata": {},
     "output_type": "display_data"
    }
   ],
   "source": [
    "gps_disruption_df.resample('M', on='local_date').\\\n",
    "count()['Disruption Date/Time'].plot(rot=90)\n"
   ]
  },
  {
   "cell_type": "markdown",
   "id": "02920851-0daf-419a-8a52-a470621e5f45",
   "metadata": {},
   "source": [
    "## Analyse disruptions by location"
   ]
  },
  {
   "cell_type": "code",
   "execution_count": 10,
   "id": "85f097fa-b6c6-4375-a841-69005a2b6309",
   "metadata": {},
   "outputs": [],
   "source": [
    "gps_disruption_df['location_clean']=gps_disruption_df['Location'].\\\n",
    "apply(lambda x:x.split(',')[-1].strip().upper())\n",
    "gps_disruption_df['location_clean_group_len']=gps_disruption_df['location_clean']\\\n",
    ".apply(lambda x: len(x))\n",
    "gps_disruption_df['location_clean2']=gps_disruption_df['location_clean']\n"
   ]
  },
  {
   "cell_type": "code",
   "execution_count": 11,
   "id": "098d7fc4-2fdf-4c36-9e86-dbd8a49b243f",
   "metadata": {},
   "outputs": [
    {
     "data": {
      "text/html": [
       "<div>\n",
       "<style scoped>\n",
       "    .dataframe tbody tr th:only-of-type {\n",
       "        vertical-align: middle;\n",
       "    }\n",
       "\n",
       "    .dataframe tbody tr th {\n",
       "        vertical-align: top;\n",
       "    }\n",
       "\n",
       "    .dataframe thead th {\n",
       "        text-align: right;\n",
       "    }\n",
       "</style>\n",
       "<table border=\"1\" class=\"dataframe\">\n",
       "  <thead>\n",
       "    <tr style=\"text-align: right;\">\n",
       "      <th></th>\n",
       "      <th>Disruption Date/Time</th>\n",
       "      <th>Location</th>\n",
       "      <th>Type</th>\n",
       "      <th>Description</th>\n",
       "      <th>Cause</th>\n",
       "      <th>Closed Date</th>\n",
       "      <th>local_date</th>\n",
       "      <th>location_clean</th>\n",
       "      <th>location_clean_group_len</th>\n",
       "      <th>location_clean2</th>\n",
       "    </tr>\n",
       "  </thead>\n",
       "  <tbody>\n",
       "    <tr>\n",
       "      <th>0</th>\n",
       "      <td>10/16/2022 14:13:00 CST</td>\n",
       "      <td>Independence</td>\n",
       "      <td>Automobile</td>\n",
       "      <td>USER: My mapping services are constantly searc...</td>\n",
       "      <td>Mapping Issue</td>\n",
       "      <td>10/25/2022</td>\n",
       "      <td>2022-10-16</td>\n",
       "      <td>INDEPENDENCE</td>\n",
       "      <td>12</td>\n",
       "      <td>INDEPENDENCE</td>\n",
       "    </tr>\n",
       "    <tr>\n",
       "      <th>1</th>\n",
       "      <td>10/06/2022 09:15:00 CST</td>\n",
       "      <td>Dallas, TX by Southern Methodist University</td>\n",
       "      <td>Other</td>\n",
       "      <td>USER: For several years now, on and off throug...</td>\n",
       "      <td>Insufficient Information</td>\n",
       "      <td>10/25/2022</td>\n",
       "      <td>2022-10-06</td>\n",
       "      <td>TX BY SOUTHERN METHODIST UNIVERSITY</td>\n",
       "      <td>35</td>\n",
       "      <td>TX BY SOUTHERN METHODIST UNIVERSITY</td>\n",
       "    </tr>\n",
       "    <tr>\n",
       "      <th>2</th>\n",
       "      <td>09/17/2022 13:00:00 EST</td>\n",
       "      <td>Navy Yard, Washington DC</td>\n",
       "      <td>None</td>\n",
       "      <td>USER: Our car navigation system and our mobile...</td>\n",
       "      <td>Insufficient Information</td>\n",
       "      <td>10/25/2022</td>\n",
       "      <td>2022-09-17</td>\n",
       "      <td>WASHINGTON DC</td>\n",
       "      <td>13</td>\n",
       "      <td>WASHINGTON DC</td>\n",
       "    </tr>\n",
       "    <tr>\n",
       "      <th>3</th>\n",
       "      <td>09/10/2022 09:45:00 CST</td>\n",
       "      <td>Chicago</td>\n",
       "      <td>Automobile</td>\n",
       "      <td>USER: Both my standalone gps and phone gps rep...</td>\n",
       "      <td>Insufficient Information</td>\n",
       "      <td>10/25/2022</td>\n",
       "      <td>2022-09-10</td>\n",
       "      <td>CHICAGO</td>\n",
       "      <td>7</td>\n",
       "      <td>CHICAGO</td>\n",
       "    </tr>\n",
       "    <tr>\n",
       "      <th>4</th>\n",
       "      <td>09/07/2022 13:15:00 EST</td>\n",
       "      <td>I-20 near Columbia, SC</td>\n",
       "      <td>Automobile</td>\n",
       "      <td>USER: Several times, most recently yesterday, ...</td>\n",
       "      <td>Mapping Issue</td>\n",
       "      <td>09/13/2022</td>\n",
       "      <td>2022-09-07</td>\n",
       "      <td>SC</td>\n",
       "      <td>2</td>\n",
       "      <td>SC</td>\n",
       "    </tr>\n",
       "    <tr>\n",
       "      <th>...</th>\n",
       "      <td>...</td>\n",
       "      <td>...</td>\n",
       "      <td>...</td>\n",
       "      <td>...</td>\n",
       "      <td>...</td>\n",
       "      <td>...</td>\n",
       "      <td>...</td>\n",
       "      <td>...</td>\n",
       "      <td>...</td>\n",
       "      <td>...</td>\n",
       "    </tr>\n",
       "    <tr>\n",
       "      <th>414</th>\n",
       "      <td>01/05/2017 4:35 UTC</td>\n",
       "      <td>Chile</td>\n",
       "      <td>Law Enforcement</td>\n",
       "      <td>User: There were large spikes in geozone alarm...</td>\n",
       "      <td>User Equipment</td>\n",
       "      <td>05/20/2019</td>\n",
       "      <td>2017-01-05</td>\n",
       "      <td>CHILE</td>\n",
       "      <td>5</td>\n",
       "      <td>CHILE</td>\n",
       "    </tr>\n",
       "    <tr>\n",
       "      <th>415</th>\n",
       "      <td>01/03/2017 11:AM CST</td>\n",
       "      <td>San Angelo Airport</td>\n",
       "      <td>Aviation</td>\n",
       "      <td>User: The GPS systems in normal mode not milit...</td>\n",
       "      <td>Unintentional Interference</td>\n",
       "      <td>05/20/2019</td>\n",
       "      <td>2017-01-03</td>\n",
       "      <td>SAN ANGELO AIRPORT</td>\n",
       "      <td>18</td>\n",
       "      <td>SAN ANGELO AIRPORT</td>\n",
       "    </tr>\n",
       "    <tr>\n",
       "      <th>416</th>\n",
       "      <td>01/02/2017 3:00 EST</td>\n",
       "      <td>North Carolina - South Carolina border</td>\n",
       "      <td>Transportation</td>\n",
       "      <td>User: GPS would say when you plug in that ther...</td>\n",
       "      <td>User Equipment</td>\n",
       "      <td>05/20/2019</td>\n",
       "      <td>2017-01-02</td>\n",
       "      <td>NORTH CAROLINA - SOUTH CAROLINA BORDER</td>\n",
       "      <td>38</td>\n",
       "      <td>NORTH CAROLINA - SOUTH CAROLINA BORDER</td>\n",
       "    </tr>\n",
       "    <tr>\n",
       "      <th>417</th>\n",
       "      <td>01/01/2017 12:00 EST</td>\n",
       "      <td>Elizabeth, NJ</td>\n",
       "      <td>Transportation</td>\n",
       "      <td>User: My business is located in Elizabeth, NJ....</td>\n",
       "      <td>Mapping Issue</td>\n",
       "      <td>05/20/2019</td>\n",
       "      <td>2017-01-01</td>\n",
       "      <td>NJ</td>\n",
       "      <td>2</td>\n",
       "      <td>NJ</td>\n",
       "    </tr>\n",
       "    <tr>\n",
       "      <th>418</th>\n",
       "      <td>11/16/2016 7h37 UTC</td>\n",
       "      <td>Rennes, France</td>\n",
       "      <td>Research</td>\n",
       "      <td>User: I experimented high range error on PRN 3...</td>\n",
       "      <td>User Equipment</td>\n",
       "      <td>05/20/2019</td>\n",
       "      <td>2016-11-16</td>\n",
       "      <td>FRANCE</td>\n",
       "      <td>6</td>\n",
       "      <td>FRANCE</td>\n",
       "    </tr>\n",
       "  </tbody>\n",
       "</table>\n",
       "<p>419 rows × 10 columns</p>\n",
       "</div>"
      ],
      "text/plain": [
       "        Disruption Date/Time                                     Location  \\\n",
       "0    10/16/2022 14:13:00 CST                                 Independence   \n",
       "1    10/06/2022 09:15:00 CST  Dallas, TX by Southern Methodist University   \n",
       "2    09/17/2022 13:00:00 EST                     Navy Yard, Washington DC   \n",
       "3    09/10/2022 09:45:00 CST                                      Chicago   \n",
       "4    09/07/2022 13:15:00 EST                       I-20 near Columbia, SC   \n",
       "..                       ...                                          ...   \n",
       "414      01/05/2017 4:35 UTC                                        Chile   \n",
       "415     01/03/2017 11:AM CST                           San Angelo Airport   \n",
       "416      01/02/2017 3:00 EST       North Carolina - South Carolina border   \n",
       "417     01/01/2017 12:00 EST                                Elizabeth, NJ   \n",
       "418      11/16/2016 7h37 UTC                               Rennes, France   \n",
       "\n",
       "                Type                                        Description  \\\n",
       "0         Automobile  USER: My mapping services are constantly searc...   \n",
       "1              Other  USER: For several years now, on and off throug...   \n",
       "2               None  USER: Our car navigation system and our mobile...   \n",
       "3         Automobile  USER: Both my standalone gps and phone gps rep...   \n",
       "4         Automobile  USER: Several times, most recently yesterday, ...   \n",
       "..               ...                                                ...   \n",
       "414  Law Enforcement  User: There were large spikes in geozone alarm...   \n",
       "415         Aviation  User: The GPS systems in normal mode not milit...   \n",
       "416   Transportation  User: GPS would say when you plug in that ther...   \n",
       "417   Transportation  User: My business is located in Elizabeth, NJ....   \n",
       "418         Research  User: I experimented high range error on PRN 3...   \n",
       "\n",
       "                          Cause Closed Date local_date  \\\n",
       "0                 Mapping Issue  10/25/2022 2022-10-16   \n",
       "1      Insufficient Information  10/25/2022 2022-10-06   \n",
       "2      Insufficient Information  10/25/2022 2022-09-17   \n",
       "3      Insufficient Information  10/25/2022 2022-09-10   \n",
       "4                 Mapping Issue  09/13/2022 2022-09-07   \n",
       "..                          ...         ...        ...   \n",
       "414              User Equipment  05/20/2019 2017-01-05   \n",
       "415  Unintentional Interference  05/20/2019 2017-01-03   \n",
       "416              User Equipment  05/20/2019 2017-01-02   \n",
       "417               Mapping Issue  05/20/2019 2017-01-01   \n",
       "418              User Equipment  05/20/2019 2016-11-16   \n",
       "\n",
       "                             location_clean  location_clean_group_len  \\\n",
       "0                              INDEPENDENCE                        12   \n",
       "1       TX BY SOUTHERN METHODIST UNIVERSITY                        35   \n",
       "2                             WASHINGTON DC                        13   \n",
       "3                                   CHICAGO                         7   \n",
       "4                                        SC                         2   \n",
       "..                                      ...                       ...   \n",
       "414                                   CHILE                         5   \n",
       "415                      SAN ANGELO AIRPORT                        18   \n",
       "416  NORTH CAROLINA - SOUTH CAROLINA BORDER                        38   \n",
       "417                                      NJ                         2   \n",
       "418                                  FRANCE                         6   \n",
       "\n",
       "                            location_clean2  \n",
       "0                              INDEPENDENCE  \n",
       "1       TX BY SOUTHERN METHODIST UNIVERSITY  \n",
       "2                             WASHINGTON DC  \n",
       "3                                   CHICAGO  \n",
       "4                                        SC  \n",
       "..                                      ...  \n",
       "414                                   CHILE  \n",
       "415                      SAN ANGELO AIRPORT  \n",
       "416  NORTH CAROLINA - SOUTH CAROLINA BORDER  \n",
       "417                                      NJ  \n",
       "418                                  FRANCE  \n",
       "\n",
       "[419 rows x 10 columns]"
      ]
     },
     "execution_count": 11,
     "metadata": {},
     "output_type": "execute_result"
    }
   ],
   "source": [
    "gps_disruption_df"
   ]
  },
  {
   "cell_type": "markdown",
   "id": "3c69f643-6a9f-4e97-9f5d-9ea2383c3089",
   "metadata": {},
   "source": [
    "### Two letter codes, mostly US states"
   ]
  },
  {
   "cell_type": "code",
   "execution_count": 12,
   "id": "4fb93e05-a313-4bd6-976c-7496741e987e",
   "metadata": {},
   "outputs": [
    {
     "data": {
      "text/plain": [
       "<AxesSubplot: ylabel='Subdivision name (en)'>"
      ]
     },
     "execution_count": 12,
     "metadata": {},
     "output_type": "execute_result"
    },
    {
     "data": {
      "image/png": "[encoded data removed]",
      "text/plain": [
       "<Figure size 1200x1000 with 1 Axes>"
      ]
     },
     "metadata": {},
     "output_type": "display_data"
    }
   ],
   "source": [
    "gps_disruption_df[gps_disruption_df['location_clean_group_len']==2].merge(two_letter_codes,how='left',left_on='location_clean2',right_on='clean_state')\\\n",
    ".groupby('Subdivision name (en)').count()['Disruption Date/Time'].sort_values()\\\n",
    ".plot(kind='barh',figsize=[12,10])"
   ]
  },
  {
   "cell_type": "code",
   "execution_count": 13,
   "id": "028dbc76-9a27-43bb-b31e-b12b6caf0457",
   "metadata": {},
   "outputs": [
    {
     "data": {
      "text/html": [
       "<div>\n",
       "<style scoped>\n",
       "    .dataframe tbody tr th:only-of-type {\n",
       "        vertical-align: middle;\n",
       "    }\n",
       "\n",
       "    .dataframe tbody tr th {\n",
       "        vertical-align: top;\n",
       "    }\n",
       "\n",
       "    .dataframe thead th {\n",
       "        text-align: right;\n",
       "    }\n",
       "</style>\n",
       "<table border=\"1\" class=\"dataframe\">\n",
       "  <thead>\n",
       "    <tr style=\"text-align: right;\">\n",
       "      <th></th>\n",
       "      <th>Disruption Date/Time</th>\n",
       "      <th>Location</th>\n",
       "      <th>Type</th>\n",
       "      <th>Description</th>\n",
       "      <th>Cause</th>\n",
       "      <th>Closed Date</th>\n",
       "      <th>local_date</th>\n",
       "      <th>location_clean</th>\n",
       "      <th>location_clean_group_len</th>\n",
       "      <th>location_clean2</th>\n",
       "      <th>Code</th>\n",
       "      <th>Subdivision name (en)</th>\n",
       "      <th>Subdivision category</th>\n",
       "      <th>clean_state</th>\n",
       "    </tr>\n",
       "  </thead>\n",
       "  <tbody>\n",
       "  </tbody>\n",
       "</table>\n",
       "</div>"
      ],
      "text/plain": [
       "Empty DataFrame\n",
       "Columns: [Disruption Date/Time, Location, Type, Description, Cause, Closed Date, local_date, location_clean, location_clean_group_len, location_clean2, Code, Subdivision name (en), Subdivision category, clean_state]\n",
       "Index: []"
      ]
     },
     "execution_count": 13,
     "metadata": {},
     "output_type": "execute_result"
    }
   ],
   "source": [
    "subdivision_names=gps_disruption_df[gps_disruption_df['location_clean_group_len']==2].merge(two_letter_codes,how='left',left_on='location_clean2',right_on='clean_state')\\\n",
    "\n",
    "\n",
    "subdivision_names[subdivision_names['Subdivision name (en)'].isna()]"
   ]
  },
  {
   "cell_type": "code",
   "execution_count": 29,
   "id": "9f1cdb4a-4905-4336-b6d1-046c145a59a6",
   "metadata": {},
   "outputs": [
    {
     "data": {
      "text/plain": [
       "array(['SC', 'CA', 'MA', 'NV', 'DC', 'OR', 'AR', 'SD', 'ND', 'UK', 'VA',\n",
       "       'WA', 'TX', 'NM', 'IA', 'CO', 'FL', 'CT', 'MD', 'AZ', 'NC', 'IN',\n",
       "       'NY', 'TN', 'OH', 'PA', 'AK', 'GA', 'NJ', 'OK', 'LA'], dtype=object)"
      ]
     },
     "execution_count": 29,
     "metadata": {},
     "output_type": "execute_result"
    }
   ],
   "source": [
    "gps_disruption_df.query('location_clean_group_len==2')['location_clean'].unique()"
   ]
  },
  {
   "cell_type": "markdown",
   "id": "3a395f78-f91a-490a-bae8-fe457a1bb9a9",
   "metadata": {},
   "source": [
    "### Mostly countries, but needs cleaning"
   ]
  },
  {
   "cell_type": "code",
   "execution_count": 14,
   "id": "d53fd22d-7498-4bb6-8053-843e371fb9b4",
   "metadata": {},
   "outputs": [],
   "source": [
    "disruptions_by_location=gps_disruption_df[gps_disruption_df['location_clean_group_len']!=2].groupby('location_clean2').count()['Disruption Date/Time']\n"
   ]
  },
  {
   "cell_type": "code",
   "execution_count": 15,
   "id": "abf1fc0d-139a-47e0-b371-81175a966739",
   "metadata": {},
   "outputs": [
    {
     "data": {
      "text/plain": [
       "location_clean2\n",
       "EGYPT                     23\n",
       "LIMASSOL                   9\n",
       "ITALY                      6\n",
       "CYPRUS                     6\n",
       "BRAZIL                     5\n",
       "FLORIDA                    4\n",
       "GLOBAL                     4\n",
       "LEBANON                    4\n",
       "CHINA                      4\n",
       "EAST OF MALTA              3\n",
       "ISRAEL                     3\n",
       "LIBYA                      3\n",
       "GERMANY                    3\n",
       "CALIFORNIA                 3\n",
       "GREECE                     3\n",
       "SPAIN                      3\n",
       "SAUDI ARABIA               3\n",
       "PRC                        2\n",
       "ALABAMA                    2\n",
       "NEW YORK                   2\n",
       "SUEZ CANAL                 2\n",
       "TEXAS                      2\n",
       "TURKEY                     2\n",
       "UNITED STATES              2\n",
       "OREGON                     2\n",
       "IRAN                       2\n",
       "MEDITERRANEAN SEA          2\n",
       "ISTANBUL                   2\n",
       "ALASKA                     2\n",
       "INDIA                      2\n",
       "FINLAND                    2\n",
       "EASTERN MEDITERRANEAN      2\n",
       "EAST MEDITERRANEAN SEA     2\n",
       "AT SEA                     2\n",
       "WORLDWIDE                  2\n",
       "Name: Disruption Date/Time, dtype: int64"
      ]
     },
     "execution_count": 15,
     "metadata": {},
     "output_type": "execute_result"
    }
   ],
   "source": [
    "disruptions_by_location[disruptions_by_location>1].sort_values(ascending=False)#.plot(kind='barh')"
   ]
  },
  {
   "cell_type": "code",
   "execution_count": 16,
   "id": "3c44850e-65ae-4da3-b09e-5d1a47a87d66",
   "metadata": {},
   "outputs": [
    {
     "data": {
      "text/plain": [
       "<AxesSubplot: ylabel='location_clean2'>"
      ]
     },
     "execution_count": 16,
     "metadata": {},
     "output_type": "execute_result"
    },
    {
     "data": {
      "image/png": "[encoded data removed]",
      "text/plain": [
       "<Figure size 1200x1000 with 1 Axes>"
      ]
     },
     "metadata": {},
     "output_type": "display_data"
    }
   ],
   "source": [
    "#def group_locations(string_x):\n",
    "#    if string_x==''\n",
    "\n",
    "disruptions_by_location[disruptions_by_location>1 ].drop(['WORLDWIDE','GLOBAL']).sort_values()\\\n",
    ".plot(kind='barh',figsize=[12,10])"
   ]
  },
  {
   "cell_type": "code",
   "execution_count": 17,
   "id": "3137eb12-6ce5-44e6-9a2b-5942d3d41e1b",
   "metadata": {},
   "outputs": [
    {
     "data": {
      "text/html": [
       "<div>\n",
       "<style scoped>\n",
       "    .dataframe tbody tr th:only-of-type {\n",
       "        vertical-align: middle;\n",
       "    }\n",
       "\n",
       "    .dataframe tbody tr th {\n",
       "        vertical-align: top;\n",
       "    }\n",
       "\n",
       "    .dataframe thead th {\n",
       "        text-align: right;\n",
       "    }\n",
       "</style>\n",
       "<table border=\"1\" class=\"dataframe\">\n",
       "  <thead>\n",
       "    <tr style=\"text-align: right;\">\n",
       "      <th></th>\n",
       "      <th>local_date</th>\n",
       "      <th>Location</th>\n",
       "      <th>Description</th>\n",
       "      <th>Cause</th>\n",
       "    </tr>\n",
       "  </thead>\n",
       "  <tbody>\n",
       "    <tr>\n",
       "      <th>91</th>\n",
       "      <td>2021-07-28</td>\n",
       "      <td>At sea</td>\n",
       "      <td>USER: The vessel was sailing towards port said...</td>\n",
       "      <td>Unknown Interference</td>\n",
       "    </tr>\n",
       "    <tr>\n",
       "      <th>138</th>\n",
       "      <td>2021-01-16</td>\n",
       "      <td>Global</td>\n",
       "      <td>CNES has detected a repetition of IODE for PRN...</td>\n",
       "      <td>IODC_10-Bit</td>\n",
       "    </tr>\n",
       "    <tr>\n",
       "      <th>169</th>\n",
       "      <td>2020-08-04</td>\n",
       "      <td>Global</td>\n",
       "      <td>User: CNES (Centre National d Etudes Spatiales...</td>\n",
       "      <td>ICD_Violation</td>\n",
       "    </tr>\n",
       "    <tr>\n",
       "      <th>195</th>\n",
       "      <td>2020-02-12</td>\n",
       "      <td>Worldwide</td>\n",
       "      <td>User: In February 2020 (Feb 12th, 13th, 15th a...</td>\n",
       "      <td>ICD_Violation</td>\n",
       "    </tr>\n",
       "    <tr>\n",
       "      <th>286</th>\n",
       "      <td>2019-02-01</td>\n",
       "      <td>Global</td>\n",
       "      <td>User: Thanks to Navigation and Timing Monitori...</td>\n",
       "      <td>None</td>\n",
       "    </tr>\n",
       "    <tr>\n",
       "      <th>356</th>\n",
       "      <td>2017-11-30</td>\n",
       "      <td>Global</td>\n",
       "      <td>User: GPS PRN22 orbit error started to wander ...</td>\n",
       "      <td>User Equipment</td>\n",
       "    </tr>\n",
       "    <tr>\n",
       "      <th>372</th>\n",
       "      <td>2017-09-20</td>\n",
       "      <td>Worldwide</td>\n",
       "      <td>User: It appears that the Subframe-2 IODC mess...</td>\n",
       "      <td>User Equipment</td>\n",
       "    </tr>\n",
       "  </tbody>\n",
       "</table>\n",
       "</div>"
      ],
      "text/plain": [
       "    local_date   Location                                        Description  \\\n",
       "91  2021-07-28     At sea  USER: The vessel was sailing towards port said...   \n",
       "138 2021-01-16     Global  CNES has detected a repetition of IODE for PRN...   \n",
       "169 2020-08-04     Global  User: CNES (Centre National d Etudes Spatiales...   \n",
       "195 2020-02-12  Worldwide  User: In February 2020 (Feb 12th, 13th, 15th a...   \n",
       "286 2019-02-01     Global  User: Thanks to Navigation and Timing Monitori...   \n",
       "356 2017-11-30     Global  User: GPS PRN22 orbit error started to wander ...   \n",
       "372 2017-09-20  Worldwide  User: It appears that the Subframe-2 IODC mess...   \n",
       "\n",
       "                    Cause  \n",
       "91   Unknown Interference  \n",
       "138           IODC_10-Bit  \n",
       "169         ICD_Violation  \n",
       "195         ICD_Violation  \n",
       "286                  None  \n",
       "356        User Equipment  \n",
       "372        User Equipment  "
      ]
     },
     "execution_count": 17,
     "metadata": {},
     "output_type": "execute_result"
    }
   ],
   "source": [
    "gps_disruption_df.query('Location in (\"Worldwide\",\"Global\",\"At sea\")')[['local_date','Location','Description','Cause']]"
   ]
  },
  {
   "cell_type": "code",
   "execution_count": 18,
   "id": "ada8cc63-5774-4605-8c2d-0994deaf691d",
   "metadata": {},
   "outputs": [
    {
     "data": {
      "text/html": [
       "<div>\n",
       "<style scoped>\n",
       "    .dataframe tbody tr th:only-of-type {\n",
       "        vertical-align: middle;\n",
       "    }\n",
       "\n",
       "    .dataframe tbody tr th {\n",
       "        vertical-align: top;\n",
       "    }\n",
       "\n",
       "    .dataframe thead th {\n",
       "        text-align: right;\n",
       "    }\n",
       "</style>\n",
       "<table border=\"1\" class=\"dataframe\">\n",
       "  <thead>\n",
       "    <tr style=\"text-align: right;\">\n",
       "      <th></th>\n",
       "      <th>Location</th>\n",
       "      <th>Description</th>\n",
       "    </tr>\n",
       "  </thead>\n",
       "  <tbody>\n",
       "    <tr>\n",
       "      <th>110</th>\n",
       "      <td>East Mediterranean Sea</td>\n",
       "      <td>User indicated an intermittent problem that wa...</td>\n",
       "    </tr>\n",
       "    <tr>\n",
       "      <th>120</th>\n",
       "      <td>Eastern Mediterranean</td>\n",
       "      <td>USER: roughly 12 hours of gps spoofing upon de...</td>\n",
       "    </tr>\n",
       "    <tr>\n",
       "      <th>123</th>\n",
       "      <td>East Mediterranean Sea</td>\n",
       "      <td>Lost GPS signal for six-minutes from 1620 GMT ...</td>\n",
       "    </tr>\n",
       "    <tr>\n",
       "      <th>124</th>\n",
       "      <td>Eastern Mediterranean</td>\n",
       "      <td>GPS jamming begins, affecting both GPS units. ...</td>\n",
       "    </tr>\n",
       "    <tr>\n",
       "      <th>152</th>\n",
       "      <td>Mediterranean Sea</td>\n",
       "      <td>User: Additional vessel in area were experienc...</td>\n",
       "    </tr>\n",
       "    <tr>\n",
       "      <th>154</th>\n",
       "      <td>Mediterranean Sea</td>\n",
       "      <td>User: Intermittent GPS signal beginning at 013...</td>\n",
       "    </tr>\n",
       "  </tbody>\n",
       "</table>\n",
       "</div>"
      ],
      "text/plain": [
       "                   Location                                        Description\n",
       "110  East Mediterranean Sea  User indicated an intermittent problem that wa...\n",
       "120   Eastern Mediterranean  USER: roughly 12 hours of gps spoofing upon de...\n",
       "123  East Mediterranean Sea  Lost GPS signal for six-minutes from 1620 GMT ...\n",
       "124   Eastern Mediterranean  GPS jamming begins, affecting both GPS units. ...\n",
       "152       Mediterranean Sea  User: Additional vessel in area were experienc...\n",
       "154       Mediterranean Sea  User: Intermittent GPS signal beginning at 013..."
      ]
     },
     "execution_count": 18,
     "metadata": {},
     "output_type": "execute_result"
    }
   ],
   "source": [
    "gps_disruption_df\\\n",
    ".query('location_clean2 in (\"MEDITERRANEAN SEA\",\"EASTERN MEDITERRANEAN\",\"EAST MEDITERRANEAN SEA\")')\\\n",
    "[['Location','Description']]"
   ]
  },
  {
   "cell_type": "code",
   "execution_count": 19,
   "id": "fdea7156-6773-4a64-830f-8f5569d31479",
   "metadata": {},
   "outputs": [
    {
     "name": "stdout",
     "output_type": "stream",
     "text": [
      "User indicated an intermittent problem that was otherwise unspecified. NAVCEN: The GPS Operations Center reviewed the GPS Constellation and Control Segment, there are no known anomalies that might affect GPS signal integrity at the time and vicinity of the reported problem. Space weather was reviewed and found unlikely to have impacted GPS performance. There were no authorized GPS tests in the area. No correlating reports from interagency partners. The report of interference is similar to that outlined by U.S. Maritime Administration in Maritime Advisory 2021-004-Various GPS Interference. User encouraged to report the issue to the nearest communication authority.\n",
      "USER: roughly 12 hours of gps spoofing upon departure from port Said Egypt. GPS signal rapidly shifted numerous times, position 6-8 miles off. Position dropped for 90 percent of the 12 hours. GPS aboard connected to ECDIS, RADAR,AIS, GYRO repeater panel, GMDSS suite. NAVCEN: The GPS Operations Center reviewed the GPS Constellation and Control Segment, there are no known anomalies that might affect GPS signal integrity at the time and vicinity of the reported problem. Space weather was reviewed and found unlikely to have impacted GPS performance. There were no authorized GPS tests in the area. No correlating reports from interagency partners. The report of interference is similar to that outlined by U.S. Maritime Administration in Maritime Advisory 2021-004-Various GPS Interference. User encouraged to report the issue to the nearest communication authority.\n",
      "Lost GPS signal for six-minutes from 1620 GMT to 1626 GMT. NAVCEN: The GPS Operations Center reviewed the GPS Constellation and Control Segment, there are no known anomalies that might affect GPS signal integrity at the time and vicinity of the reported problem. Space weather was reviewed and found unlikely to have impacted GPS performance. There were no authorized GPS tests in the area. No correlating reports from interagency partners. The report of interference is similar to that outlined by U.S. Maritime Administration in Maritime Advisory 2021-004-Various GPS Interference. User encouraged to report the issue to the nearest communication authority.\n",
      "GPS jamming begins, affecting both GPS units. Our position was @ 36-06N, 016-58E, and we were on a course of 100 T, with a speed of 17.8 kts. The GPS receivers had @ 8 satellites in view, but the Signal to Noise Ratio (SNR) of all satellites changed continuously from 0 to less than 30 for all satellites. Both GPS receivers were alarming, indicating a “loss of signal.” I switched GPS #2 to primary, because it also receives position data from GLONASS. This allowed our ECDIS to continue to function. The jamming was solid for 8 minutes. . NAVCEN: The GPS Operations Center reviewed the GPS Constellation and Control Segment, there are no known anomalies that might affect GPS signal integrity at the time and vicinity of the reported problem. Space weather was reviewed and found unlikely to have impacted GPS performance. There were no authorized GPS tests in the area. No correlating reports from interagency partners. The report of interference is similar to that outlined by U.S. Maritime Administration in Maritime Advisory 2021-004-Various GPS Interference. User encouraged to report the issue to the nearest communication authority.\n",
      "User: Additional vessel in area were experiencing similar GPS failures. NAVCEN: The GPS Operations Center reviewed the GPS Constellation and Control Segment, there are no known anomalies that might affect GPS signal integrity at the time and vicinity of the reported problem. Space weather was reviewed and found unlikely to have impacted GPS performance. There were no authorized GPS tests in the area. No correlating reports from interagency partners. The report of interference is similar to that outlined by U.S. Maritime Administration in Maritime Advisory 2020-016-Various GPS Interference. User encouraged to report the issue to the nearest communication authority.\n",
      "User: Intermittent GPS signal beginning at 0130Z which lasted for approx. 1-hour. Occurred again at 1030Z posn 35-20N 18-43E, and 1325Z posn 35-35N 17-40E for 15 minutes respectively. NAVCEN: The GPS Operations Center reviewed the GPS Constellation and Control Segment, there are no known anomalies that might affect GPS signal integrity at the time and vicinity of the reported problem. Space weather was reviewed and found unlikely to have impacted GPS performance. There were no authorized GPS tests in the area. No correlating reports from interagency partners. The report of interference is similar to that outlined by U.S. Maritime Administration in Maritime Advisory 2020-016-Various GPS Interference. User encouraged to report the issue to the nearest communication authority.\n"
     ]
    }
   ],
   "source": [
    "for description_str in gps_disruption_df.query('location_clean2 in (\"MEDITERRANEAN SEA\",\"EASTERN MEDITERRANEAN\",\"EAST MEDITERRANEAN SEA\")')\\\n",
    "['Description']:\n",
    "    print(description_str)"
   ]
  },
  {
   "cell_type": "markdown",
   "id": "12aad695-6e7d-4bc6-8811-c962ead915ae",
   "metadata": {},
   "source": [
    "### Rare locations"
   ]
  },
  {
   "cell_type": "code",
   "execution_count": 23,
   "id": "1eb8e8d7-cb13-413c-9e26-ac894808f7ad",
   "metadata": {},
   "outputs": [
    {
     "data": {
      "text/plain": [
       "location_clean2\n",
       "034 - 48.1E                          1\n",
       "100NM OFF PORT SAID                  1\n",
       "230 NM OF THE COAST OF LIBYA         1\n",
       "35 NM NORTH OF EGYPTIAN COAST        1\n",
       "500 MILES FROM NE COAST OF BRAZIL    1\n",
       "                                    ..\n",
       "WESTERN AUSTRALIA                    1\n",
       "WESTERN NORTH OF IRAQ                1\n",
       "XANTHI                               1\n",
       "YEMEN                                1\n",
       "ХАРЬКОВ                              1\n",
       "Name: Disruption Date/Time, Length: 197, dtype: int64"
      ]
     },
     "execution_count": 23,
     "metadata": {},
     "output_type": "execute_result"
    }
   ],
   "source": [
    "disruptions_by_location[disruptions_by_location==1 ]\\\n",
    "#.plot(kind='barh',figsize=[12,10])\n",
    "#.drop(['AK','SD','OK','NM','DC','ND'])"
   ]
  },
  {
   "cell_type": "markdown",
   "id": "46c752ec-36bf-4104-af28-17f2508e76b3",
   "metadata": {
    "tags": []
   },
   "source": [
    "### quantify scale of each subgroup"
   ]
  },
  {
   "cell_type": "code",
   "execution_count": 30,
   "id": "45105054-3373-4fe8-8831-4dd1298f8214",
   "metadata": {},
   "outputs": [
    {
     "data": {
      "text/plain": [
       "31"
      ]
     },
     "execution_count": 30,
     "metadata": {},
     "output_type": "execute_result"
    }
   ],
   "source": [
    "gps_disruption_df.query('location_clean_group_len==2')['location_clean'].nunique()"
   ]
  },
  {
   "cell_type": "code",
   "execution_count": 39,
   "id": "08926765-1d1f-4877-b455-5bad65ee68e0",
   "metadata": {},
   "outputs": [
    {
     "data": {
      "text/plain": [
       "35"
      ]
     },
     "execution_count": 39,
     "metadata": {},
     "output_type": "execute_result"
    }
   ],
   "source": [
    "disruptions_by_location[disruptions_by_location>1 ].count()"
   ]
  },
  {
   "cell_type": "code",
   "execution_count": 40,
   "id": "cd3d6fa9-9640-412e-8af1-d237b522426f",
   "metadata": {},
   "outputs": [
    {
     "data": {
      "text/plain": [
       "197"
      ]
     },
     "execution_count": 40,
     "metadata": {},
     "output_type": "execute_result"
    }
   ],
   "source": [
    "disruptions_by_location[disruptions_by_location==1 ].count()"
   ]
  },
  {
   "cell_type": "code",
   "execution_count": null,
   "id": "dafefc9d-a2c4-4955-b546-4be9e42b844a",
   "metadata": {},
   "outputs": [],
   "source": []
  }
 ],
 "metadata": {
  "kernelspec": {
   "display_name": "Python 3 (ipykernel)",
   "language": "python",
   "name": "python3"
  },
  "language_info": {
   "codemirror_mode": {
    "name": "ipython",
    "version": 3
   },
   "file_extension": ".py",
   "mimetype": "text/x-python",
   "name": "python",
   "nbconvert_exporter": "python",
   "pygments_lexer": "ipython3",
   "version": "3.10.4"
  },
  "toc-autonumbering": true,
  "vscode": {
   "interpreter": {
    "hash": "3ad933181bd8a04b432d3370b9dc3b0662ad032c4dfaa4e4f1596c548f763858"
   }
  }
 },
 "nbformat": 4,
 "nbformat_minor": 5
}
