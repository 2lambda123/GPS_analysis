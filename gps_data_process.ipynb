{
 "cells": [
  {
   "cell_type": "markdown",
   "id": "6a079093-9aa8-425a-8b05-684917048932",
   "metadata": {},
   "source": [
    "# Analysis of US Coastguard GPS disruption data"
   ]
  },
  {
   "cell_type": "code",
   "execution_count": 33,
   "id": "09bbb9e4-54e4-46a3-8cbb-3430adfcad01",
   "metadata": {},
   "outputs": [],
   "source": [
    "import pandas as pd\n",
    "from datetime import datetime as dt"
   ]
  },
  {
   "cell_type": "code",
   "execution_count": 2,
   "id": "f0c07b05-a645-400f-919e-f2260bfc56ab",
   "metadata": {},
   "outputs": [],
   "source": [
    "gps_disruption_df=pd.read_csv('gps_navcen.csv').drop('Unnamed: 0',axis=1)"
   ]
  },
  {
   "cell_type": "code",
   "execution_count": 3,
   "id": "b0e5bae0-d041-46a3-8ebc-8ac1069466a5",
   "metadata": {},
   "outputs": [
    {
     "data": {
      "text/html": [
       "<div>\n",
       "<style scoped>\n",
       "    .dataframe tbody tr th:only-of-type {\n",
       "        vertical-align: middle;\n",
       "    }\n",
       "\n",
       "    .dataframe tbody tr th {\n",
       "        vertical-align: top;\n",
       "    }\n",
       "\n",
       "    .dataframe thead th {\n",
       "        text-align: right;\n",
       "    }\n",
       "</style>\n",
       "<table border=\"1\" class=\"dataframe\">\n",
       "  <thead>\n",
       "    <tr style=\"text-align: right;\">\n",
       "      <th></th>\n",
       "      <th>Disruption Date/Time</th>\n",
       "      <th>Location</th>\n",
       "      <th>Type</th>\n",
       "      <th>Description</th>\n",
       "      <th>Cause</th>\n",
       "      <th>Closed Date</th>\n",
       "    </tr>\n",
       "  </thead>\n",
       "  <tbody>\n",
       "    <tr>\n",
       "      <th>0</th>\n",
       "      <td>05/18/20222100 UTC</td>\n",
       "      <td>Port Said - Egypt - Outside Channel</td>\n",
       "      <td>NaN</td>\n",
       "      <td>User: Vessel has 2 DGPS/ and experienced GPS J...</td>\n",
       "      <td>Unknown Interference</td>\n",
       "      <td>05/25/2022</td>\n",
       "    </tr>\n",
       "    <tr>\n",
       "      <th>1</th>\n",
       "      <td>05/15/202208:00 CET</td>\n",
       "      <td>Belgrade</td>\n",
       "      <td>NaN</td>\n",
       "      <td>USER: After 35th Belgrade marathon many users ...</td>\n",
       "      <td>Insufficient Information</td>\n",
       "      <td>05/25/2022</td>\n",
       "    </tr>\n",
       "    <tr>\n",
       "      <th>2</th>\n",
       "      <td>05/13/20220653 UTC</td>\n",
       "      <td>Near Suez Canal</td>\n",
       "      <td>Marine</td>\n",
       "      <td>USER: Interference occurred until entering Sue...</td>\n",
       "      <td>Unknown Interference</td>\n",
       "      <td>05/25/2022</td>\n",
       "    </tr>\n",
       "    <tr>\n",
       "      <th>3</th>\n",
       "      <td>05/08/20221400 (Arabic) Egypt Standard Time (+...</td>\n",
       "      <td>juaymah Terminal</td>\n",
       "      <td>Marine</td>\n",
       "      <td>USER: Intermittent loss of signal on 3 x GPS u...</td>\n",
       "      <td>Unknown Interference</td>\n",
       "      <td>05/25/2022</td>\n",
       "    </tr>\n",
       "    <tr>\n",
       "      <th>4</th>\n",
       "      <td>05/05/20225:38:07 CST</td>\n",
       "      <td>Sandia Crest ALBUQUERQUE</td>\n",
       "      <td>Communications</td>\n",
       "      <td>USER: issue is intermittent affecting the foll...</td>\n",
       "      <td>GPS Testing</td>\n",
       "      <td>05/25/2022</td>\n",
       "    </tr>\n",
       "  </tbody>\n",
       "</table>\n",
       "</div>"
      ],
      "text/plain": [
       "                                Disruption Date/Time  \\\n",
       "0                                 05/18/20222100 UTC   \n",
       "1                                05/15/202208:00 CET   \n",
       "2                                 05/13/20220653 UTC   \n",
       "3  05/08/20221400 (Arabic) Egypt Standard Time (+...   \n",
       "4                              05/05/20225:38:07 CST   \n",
       "\n",
       "                              Location            Type  \\\n",
       "0  Port Said - Egypt - Outside Channel             NaN   \n",
       "1                             Belgrade             NaN   \n",
       "2                      Near Suez Canal          Marine   \n",
       "3                     juaymah Terminal          Marine   \n",
       "4             Sandia Crest ALBUQUERQUE  Communications   \n",
       "\n",
       "                                         Description  \\\n",
       "0  User: Vessel has 2 DGPS/ and experienced GPS J...   \n",
       "1  USER: After 35th Belgrade marathon many users ...   \n",
       "2  USER: Interference occurred until entering Sue...   \n",
       "3  USER: Intermittent loss of signal on 3 x GPS u...   \n",
       "4  USER: issue is intermittent affecting the foll...   \n",
       "\n",
       "                      Cause Closed Date  \n",
       "0      Unknown Interference  05/25/2022  \n",
       "1  Insufficient Information  05/25/2022  \n",
       "2      Unknown Interference  05/25/2022  \n",
       "3      Unknown Interference  05/25/2022  \n",
       "4               GPS Testing  05/25/2022  "
      ]
     },
     "execution_count": 3,
     "metadata": {},
     "output_type": "execute_result"
    }
   ],
   "source": [
    "gps_disruption_df.head()"
   ]
  },
  {
   "cell_type": "markdown",
   "id": "1d640c40-c321-473f-aa00-5e6fa67dbcf6",
   "metadata": {},
   "source": [
    "## Analyse disruptions by date"
   ]
  },
  {
   "cell_type": "code",
   "execution_count": 35,
   "id": "bff75004-449c-4cbf-b543-7f58c5b10a1a",
   "metadata": {},
   "outputs": [],
   "source": [
    "gps_disruption_df['local_date']=gps_disruption_df['Disruption Date/Time']\\\n",
    ".apply(lambda x:dt.strptime(x[0:10],'%m/%d/%Y'))\n",
    "#dt.strptime(('05/05/20225:38:07 CST')[0:10],'%m/%d/%Y')"
   ]
  },
  {
   "cell_type": "code",
   "execution_count": 49,
   "id": "1fd44f7d-b467-4af7-9a2c-10f79a964045",
   "metadata": {},
   "outputs": [
    {
     "data": {
      "text/plain": [
       "<AxesSubplot:xlabel='local_date'>"
      ]
     },
     "execution_count": 49,
     "metadata": {},
     "output_type": "execute_result"
    },
    {
     "data": {
      "image/png": "[encoded data removed]",
      "text/plain": [
       "<Figure size 432x288 with 1 Axes>"
      ]
     },
     "metadata": {
      "needs_background": "light"
     },
     "output_type": "display_data"
    }
   ],
   "source": [
    "gps_disruption_df.resample('M', on='local_date').\\\n",
    "count()['Disruption Date/Time'].plot(rot=90)\n"
   ]
  },
  {
   "cell_type": "markdown",
   "id": "02920851-0daf-419a-8a52-a470621e5f45",
   "metadata": {},
   "source": [
    "## Analyse disruptions by location"
   ]
  },
  {
   "cell_type": "code",
   "execution_count": 6,
   "id": "85f097fa-b6c6-4375-a841-69005a2b6309",
   "metadata": {},
   "outputs": [],
   "source": [
    "gps_disruption_df['location_clean']=gps_disruption_df['Location'].\\\n",
    "apply(lambda x:x.split(',')[-1].strip().upper())\n",
    "gps_disruption_df['location_clean_group_len']=gps_disruption_df['location_clean']\\\n",
    ".apply(lambda x: len(x))\n",
    "gps_disruption_df['location_clean2']=gps_disruption_df['location_clean']\n"
   ]
  },
  {
   "cell_type": "code",
   "execution_count": 7,
   "id": "4fb93e05-a313-4bd6-976c-7496741e987e",
   "metadata": {},
   "outputs": [
    {
     "data": {
      "text/plain": [
       "array(['OR', 'AR', 'ND', 'UK', 'VA', 'WA', 'CA', 'MA', 'TX', 'NM', 'IA',\n",
       "       'CO', 'FL', 'CT', 'NV', 'MD', 'AZ', 'NC', 'IN', 'NY', 'TN', 'OH',\n",
       "       'PA', 'AK', 'GA', 'NJ', 'SC', 'OK', 'LA'], dtype=object)"
      ]
     },
     "execution_count": 7,
     "metadata": {},
     "output_type": "execute_result"
    }
   ],
   "source": [
    "gps_disruption_df[gps_disruption_df['location_clean_group_len']==2]['location_clean'].unique()"
   ]
  },
  {
   "cell_type": "code",
   "execution_count": 8,
   "id": "098d7fc4-2fdf-4c36-9e86-dbd8a49b243f",
   "metadata": {},
   "outputs": [
    {
     "data": {
      "text/html": [
       "<div>\n",
       "<style scoped>\n",
       "    .dataframe tbody tr th:only-of-type {\n",
       "        vertical-align: middle;\n",
       "    }\n",
       "\n",
       "    .dataframe tbody tr th {\n",
       "        vertical-align: top;\n",
       "    }\n",
       "\n",
       "    .dataframe thead th {\n",
       "        text-align: right;\n",
       "    }\n",
       "</style>\n",
       "<table border=\"1\" class=\"dataframe\">\n",
       "  <thead>\n",
       "    <tr style=\"text-align: right;\">\n",
       "      <th></th>\n",
       "      <th>Disruption Date/Time</th>\n",
       "      <th>Location</th>\n",
       "      <th>Type</th>\n",
       "      <th>Description</th>\n",
       "      <th>Cause</th>\n",
       "      <th>Closed Date</th>\n",
       "      <th>local_date</th>\n",
       "      <th>location_clean</th>\n",
       "      <th>location_clean_group_len</th>\n",
       "      <th>location_clean2</th>\n",
       "    </tr>\n",
       "  </thead>\n",
       "  <tbody>\n",
       "    <tr>\n",
       "      <th>0</th>\n",
       "      <td>05/18/20222100 UTC</td>\n",
       "      <td>Port Said - Egypt - Outside Channel</td>\n",
       "      <td>NaN</td>\n",
       "      <td>User: Vessel has 2 DGPS/ and experienced GPS J...</td>\n",
       "      <td>Unknown Interference</td>\n",
       "      <td>05/25/2022</td>\n",
       "      <td>2022-05-18</td>\n",
       "      <td>PORT SAID - EGYPT - OUTSIDE CHANNEL</td>\n",
       "      <td>35</td>\n",
       "      <td>PORT SAID - EGYPT - OUTSIDE CHANNEL</td>\n",
       "    </tr>\n",
       "    <tr>\n",
       "      <th>1</th>\n",
       "      <td>05/15/202208:00 CET</td>\n",
       "      <td>Belgrade</td>\n",
       "      <td>NaN</td>\n",
       "      <td>USER: After 35th Belgrade marathon many users ...</td>\n",
       "      <td>Insufficient Information</td>\n",
       "      <td>05/25/2022</td>\n",
       "      <td>2022-05-15</td>\n",
       "      <td>BELGRADE</td>\n",
       "      <td>8</td>\n",
       "      <td>BELGRADE</td>\n",
       "    </tr>\n",
       "    <tr>\n",
       "      <th>2</th>\n",
       "      <td>05/13/20220653 UTC</td>\n",
       "      <td>Near Suez Canal</td>\n",
       "      <td>Marine</td>\n",
       "      <td>USER: Interference occurred until entering Sue...</td>\n",
       "      <td>Unknown Interference</td>\n",
       "      <td>05/25/2022</td>\n",
       "      <td>2022-05-13</td>\n",
       "      <td>NEAR SUEZ CANAL</td>\n",
       "      <td>15</td>\n",
       "      <td>NEAR SUEZ CANAL</td>\n",
       "    </tr>\n",
       "    <tr>\n",
       "      <th>3</th>\n",
       "      <td>05/08/20221400 (Arabic) Egypt Standard Time (+...</td>\n",
       "      <td>juaymah Terminal</td>\n",
       "      <td>Marine</td>\n",
       "      <td>USER: Intermittent loss of signal on 3 x GPS u...</td>\n",
       "      <td>Unknown Interference</td>\n",
       "      <td>05/25/2022</td>\n",
       "      <td>2022-05-08</td>\n",
       "      <td>JUAYMAH TERMINAL</td>\n",
       "      <td>16</td>\n",
       "      <td>JUAYMAH TERMINAL</td>\n",
       "    </tr>\n",
       "    <tr>\n",
       "      <th>4</th>\n",
       "      <td>05/05/20225:38:07 CST</td>\n",
       "      <td>Sandia Crest ALBUQUERQUE</td>\n",
       "      <td>Communications</td>\n",
       "      <td>USER: issue is intermittent affecting the foll...</td>\n",
       "      <td>GPS Testing</td>\n",
       "      <td>05/25/2022</td>\n",
       "      <td>2022-05-05</td>\n",
       "      <td>SANDIA CREST ALBUQUERQUE</td>\n",
       "      <td>24</td>\n",
       "      <td>SANDIA CREST ALBUQUERQUE</td>\n",
       "    </tr>\n",
       "    <tr>\n",
       "      <th>...</th>\n",
       "      <td>...</td>\n",
       "      <td>...</td>\n",
       "      <td>...</td>\n",
       "      <td>...</td>\n",
       "      <td>...</td>\n",
       "      <td>...</td>\n",
       "      <td>...</td>\n",
       "      <td>...</td>\n",
       "      <td>...</td>\n",
       "      <td>...</td>\n",
       "    </tr>\n",
       "    <tr>\n",
       "      <th>384</th>\n",
       "      <td>01/05/20174:35 UTC</td>\n",
       "      <td>Chile</td>\n",
       "      <td>Law Enforcement</td>\n",
       "      <td>User: There were large spikes in geozone alarm...</td>\n",
       "      <td>User Equipment</td>\n",
       "      <td>05/20/2019</td>\n",
       "      <td>2017-01-05</td>\n",
       "      <td>CHILE</td>\n",
       "      <td>5</td>\n",
       "      <td>CHILE</td>\n",
       "    </tr>\n",
       "    <tr>\n",
       "      <th>385</th>\n",
       "      <td>01/03/201711:AM CST</td>\n",
       "      <td>San Angelo Airport</td>\n",
       "      <td>Aviation</td>\n",
       "      <td>User: The GPS systems in normal mode not milit...</td>\n",
       "      <td>Unintentional Interference</td>\n",
       "      <td>05/20/2019</td>\n",
       "      <td>2017-01-03</td>\n",
       "      <td>SAN ANGELO AIRPORT</td>\n",
       "      <td>18</td>\n",
       "      <td>SAN ANGELO AIRPORT</td>\n",
       "    </tr>\n",
       "    <tr>\n",
       "      <th>386</th>\n",
       "      <td>01/02/20173:00 EST</td>\n",
       "      <td>North Carolina - South Carolina border</td>\n",
       "      <td>Transportation</td>\n",
       "      <td>User: GPS would say when you plug in that ther...</td>\n",
       "      <td>User Equipment</td>\n",
       "      <td>05/20/2019</td>\n",
       "      <td>2017-01-02</td>\n",
       "      <td>NORTH CAROLINA - SOUTH CAROLINA BORDER</td>\n",
       "      <td>38</td>\n",
       "      <td>NORTH CAROLINA - SOUTH CAROLINA BORDER</td>\n",
       "    </tr>\n",
       "    <tr>\n",
       "      <th>387</th>\n",
       "      <td>01/01/201712:00 EST</td>\n",
       "      <td>Elizabeth, NJ</td>\n",
       "      <td>Transportation</td>\n",
       "      <td>User: My business is located in Elizabeth, NJ....</td>\n",
       "      <td>Mapping Issue</td>\n",
       "      <td>05/20/2019</td>\n",
       "      <td>2017-01-01</td>\n",
       "      <td>NJ</td>\n",
       "      <td>2</td>\n",
       "      <td>NJ</td>\n",
       "    </tr>\n",
       "    <tr>\n",
       "      <th>388</th>\n",
       "      <td>11/16/20167h37 UTC</td>\n",
       "      <td>Rennes, France</td>\n",
       "      <td>Research</td>\n",
       "      <td>User: I experimented high range error on PRN 3...</td>\n",
       "      <td>User Equipment</td>\n",
       "      <td>05/20/2019</td>\n",
       "      <td>2016-11-16</td>\n",
       "      <td>FRANCE</td>\n",
       "      <td>6</td>\n",
       "      <td>FRANCE</td>\n",
       "    </tr>\n",
       "  </tbody>\n",
       "</table>\n",
       "<p>389 rows × 10 columns</p>\n",
       "</div>"
      ],
      "text/plain": [
       "                                  Disruption Date/Time  \\\n",
       "0                                   05/18/20222100 UTC   \n",
       "1                                  05/15/202208:00 CET   \n",
       "2                                   05/13/20220653 UTC   \n",
       "3    05/08/20221400 (Arabic) Egypt Standard Time (+...   \n",
       "4                                05/05/20225:38:07 CST   \n",
       "..                                                 ...   \n",
       "384                                 01/05/20174:35 UTC   \n",
       "385                                01/03/201711:AM CST   \n",
       "386                                 01/02/20173:00 EST   \n",
       "387                                01/01/201712:00 EST   \n",
       "388                                 11/16/20167h37 UTC   \n",
       "\n",
       "                                   Location             Type  \\\n",
       "0       Port Said - Egypt - Outside Channel              NaN   \n",
       "1                                  Belgrade              NaN   \n",
       "2                           Near Suez Canal           Marine   \n",
       "3                          juaymah Terminal           Marine   \n",
       "4                  Sandia Crest ALBUQUERQUE   Communications   \n",
       "..                                      ...              ...   \n",
       "384                                   Chile  Law Enforcement   \n",
       "385                      San Angelo Airport         Aviation   \n",
       "386  North Carolina - South Carolina border   Transportation   \n",
       "387                           Elizabeth, NJ   Transportation   \n",
       "388                          Rennes, France         Research   \n",
       "\n",
       "                                           Description  \\\n",
       "0    User: Vessel has 2 DGPS/ and experienced GPS J...   \n",
       "1    USER: After 35th Belgrade marathon many users ...   \n",
       "2    USER: Interference occurred until entering Sue...   \n",
       "3    USER: Intermittent loss of signal on 3 x GPS u...   \n",
       "4    USER: issue is intermittent affecting the foll...   \n",
       "..                                                 ...   \n",
       "384  User: There were large spikes in geozone alarm...   \n",
       "385  User: The GPS systems in normal mode not milit...   \n",
       "386  User: GPS would say when you plug in that ther...   \n",
       "387  User: My business is located in Elizabeth, NJ....   \n",
       "388  User: I experimented high range error on PRN 3...   \n",
       "\n",
       "                          Cause Closed Date  local_date  \\\n",
       "0          Unknown Interference  05/25/2022  2022-05-18   \n",
       "1      Insufficient Information  05/25/2022  2022-05-15   \n",
       "2          Unknown Interference  05/25/2022  2022-05-13   \n",
       "3          Unknown Interference  05/25/2022  2022-05-08   \n",
       "4                   GPS Testing  05/25/2022  2022-05-05   \n",
       "..                          ...         ...         ...   \n",
       "384              User Equipment  05/20/2019  2017-01-05   \n",
       "385  Unintentional Interference  05/20/2019  2017-01-03   \n",
       "386              User Equipment  05/20/2019  2017-01-02   \n",
       "387               Mapping Issue  05/20/2019  2017-01-01   \n",
       "388              User Equipment  05/20/2019  2016-11-16   \n",
       "\n",
       "                             location_clean  location_clean_group_len  \\\n",
       "0       PORT SAID - EGYPT - OUTSIDE CHANNEL                        35   \n",
       "1                                  BELGRADE                         8   \n",
       "2                           NEAR SUEZ CANAL                        15   \n",
       "3                          JUAYMAH TERMINAL                        16   \n",
       "4                  SANDIA CREST ALBUQUERQUE                        24   \n",
       "..                                      ...                       ...   \n",
       "384                                   CHILE                         5   \n",
       "385                      SAN ANGELO AIRPORT                        18   \n",
       "386  NORTH CAROLINA - SOUTH CAROLINA BORDER                        38   \n",
       "387                                      NJ                         2   \n",
       "388                                  FRANCE                         6   \n",
       "\n",
       "                            location_clean2  \n",
       "0       PORT SAID - EGYPT - OUTSIDE CHANNEL  \n",
       "1                                  BELGRADE  \n",
       "2                           NEAR SUEZ CANAL  \n",
       "3                          JUAYMAH TERMINAL  \n",
       "4                  SANDIA CREST ALBUQUERQUE  \n",
       "..                                      ...  \n",
       "384                                   CHILE  \n",
       "385                      SAN ANGELO AIRPORT  \n",
       "386  NORTH CAROLINA - SOUTH CAROLINA BORDER  \n",
       "387                                      NJ  \n",
       "388                                  FRANCE  \n",
       "\n",
       "[389 rows x 10 columns]"
      ]
     },
     "execution_count": 8,
     "metadata": {},
     "output_type": "execute_result"
    }
   ],
   "source": [
    "gps_disruption_df"
   ]
  },
  {
   "cell_type": "code",
   "execution_count": 9,
   "id": "d53fd22d-7498-4bb6-8053-843e371fb9b4",
   "metadata": {},
   "outputs": [],
   "source": [
    "disruptions_by_location=gps_disruption_df[gps_disruption_df['location_clean_group_len']!=2].groupby('location_clean2').count()['Disruption Date/Time']\n"
   ]
  },
  {
   "cell_type": "code",
   "execution_count": 10,
   "id": "abf1fc0d-139a-47e0-b371-81175a966739",
   "metadata": {},
   "outputs": [
    {
     "data": {
      "text/plain": [
       "location_clean2\n",
       "ALABAMA                    2\n",
       "ALASKA                     2\n",
       "AT SEA                     2\n",
       "BRAZIL                     5\n",
       "CALIFORNIA                 3\n",
       "CHINA                      4\n",
       "CYPRUS                     6\n",
       "EAST MEDITERRANEAN SEA     2\n",
       "EAST OF MALTA              3\n",
       "EASTERN MEDITERRANEAN      2\n",
       "EGYPT                     23\n",
       "FINLAND                    2\n",
       "FLORIDA                    4\n",
       "GERMANY                    3\n",
       "GLOBAL                     4\n",
       "GREECE                     3\n",
       "INDIA                      2\n",
       "IRAN                       2\n",
       "ISRAEL                     3\n",
       "ISTANBUL                   2\n",
       "ITALY                      6\n",
       "LEBANON                    4\n",
       "LIBYA                      3\n",
       "LIMASSOL                   9\n",
       "MEDITERRANEAN SEA          2\n",
       "NEW YORK                   2\n",
       "OREGON                     2\n",
       "PRC                        2\n",
       "SAUDI ARABIA               3\n",
       "SPAIN                      3\n",
       "SUEZ CANAL                 2\n",
       "TEXAS                      2\n",
       "TURKEY                     2\n",
       "UNITED STATES              2\n",
       "WORLDWIDE                  2\n",
       "Name: Disruption Date/Time, dtype: int64"
      ]
     },
     "execution_count": 10,
     "metadata": {},
     "output_type": "execute_result"
    }
   ],
   "source": [
    "disruptions_by_location[disruptions_by_location>1]#.plot(kind='barh')"
   ]
  },
  {
   "cell_type": "code",
   "execution_count": 15,
   "id": "3137eb12-6ce5-44e6-9a2b-5942d3d41e1b",
   "metadata": {},
   "outputs": [
    {
     "data": {
      "text/html": [
       "<div>\n",
       "<style scoped>\n",
       "    .dataframe tbody tr th:only-of-type {\n",
       "        vertical-align: middle;\n",
       "    }\n",
       "\n",
       "    .dataframe tbody tr th {\n",
       "        vertical-align: top;\n",
       "    }\n",
       "\n",
       "    .dataframe thead th {\n",
       "        text-align: right;\n",
       "    }\n",
       "</style>\n",
       "<table border=\"1\" class=\"dataframe\">\n",
       "  <thead>\n",
       "    <tr style=\"text-align: right;\">\n",
       "      <th></th>\n",
       "      <th>local_date</th>\n",
       "      <th>Location</th>\n",
       "      <th>Description</th>\n",
       "    </tr>\n",
       "  </thead>\n",
       "  <tbody>\n",
       "    <tr>\n",
       "      <th>61</th>\n",
       "      <td>2021-07-28</td>\n",
       "      <td>At sea</td>\n",
       "      <td>USER: The vessel was sailing towards port said...</td>\n",
       "    </tr>\n",
       "    <tr>\n",
       "      <th>108</th>\n",
       "      <td>2021-01-16</td>\n",
       "      <td>Global</td>\n",
       "      <td>CNES has detected a repetition of IODE for PRN...</td>\n",
       "    </tr>\n",
       "    <tr>\n",
       "      <th>139</th>\n",
       "      <td>2020-08-04</td>\n",
       "      <td>Global</td>\n",
       "      <td>User: CNES (Centre National d Etudes Spatiales...</td>\n",
       "    </tr>\n",
       "    <tr>\n",
       "      <th>165</th>\n",
       "      <td>2020-02-12</td>\n",
       "      <td>Worldwide</td>\n",
       "      <td>User: In February 2020 (Feb 12th, 13th, 15th a...</td>\n",
       "    </tr>\n",
       "    <tr>\n",
       "      <th>256</th>\n",
       "      <td>2019-02-01</td>\n",
       "      <td>Global</td>\n",
       "      <td>User: Thanks to Navigation and Timing Monitori...</td>\n",
       "    </tr>\n",
       "    <tr>\n",
       "      <th>326</th>\n",
       "      <td>2017-11-30</td>\n",
       "      <td>Global</td>\n",
       "      <td>User: GPS PRN22 orbit error started to wander ...</td>\n",
       "    </tr>\n",
       "    <tr>\n",
       "      <th>342</th>\n",
       "      <td>2017-09-20</td>\n",
       "      <td>Worldwide</td>\n",
       "      <td>User: It appears that the Subframe-2 IODC mess...</td>\n",
       "    </tr>\n",
       "  </tbody>\n",
       "</table>\n",
       "</div>"
      ],
      "text/plain": [
       "     local_date   Location                                        Description\n",
       "61   2021-07-28     At sea  USER: The vessel was sailing towards port said...\n",
       "108  2021-01-16     Global  CNES has detected a repetition of IODE for PRN...\n",
       "139  2020-08-04     Global  User: CNES (Centre National d Etudes Spatiales...\n",
       "165  2020-02-12  Worldwide  User: In February 2020 (Feb 12th, 13th, 15th a...\n",
       "256  2019-02-01     Global  User: Thanks to Navigation and Timing Monitori...\n",
       "326  2017-11-30     Global  User: GPS PRN22 orbit error started to wander ...\n",
       "342  2017-09-20  Worldwide  User: It appears that the Subframe-2 IODC mess..."
      ]
     },
     "execution_count": 15,
     "metadata": {},
     "output_type": "execute_result"
    }
   ],
   "source": [
    "gps_disruption_df.query('Location in (\"Worldwide\",\"Global\",\"At sea\")')[['local_date','Location','Description']]"
   ]
  },
  {
   "cell_type": "code",
   "execution_count": 11,
   "id": "3c44850e-65ae-4da3-b09e-5d1a47a87d66",
   "metadata": {},
   "outputs": [
    {
     "data": {
      "text/plain": [
       "<AxesSubplot:ylabel='location_clean2'>"
      ]
     },
     "execution_count": 11,
     "metadata": {},
     "output_type": "execute_result"
    },
    {
     "data": {
      "image/png": "[encoded data removed]",
      "text/plain": [
       "<Figure size 864x720 with 1 Axes>"
      ]
     },
     "metadata": {
      "needs_background": "light"
     },
     "output_type": "display_data"
    }
   ],
   "source": [
    "#def group_locations(string_x):\n",
    "#    if string_x==''\n",
    "\n",
    "disruptions_by_location[disruptions_by_location>1 ].drop(['WORLDWIDE','GLOBAL'])\\\n",
    ".plot(kind='barh',figsize=[12,10])"
   ]
  },
  {
   "cell_type": "code",
   "execution_count": 14,
   "id": "ada8cc63-5774-4605-8c2d-0994deaf691d",
   "metadata": {},
   "outputs": [
    {
     "data": {
      "text/html": [
       "<div>\n",
       "<style scoped>\n",
       "    .dataframe tbody tr th:only-of-type {\n",
       "        vertical-align: middle;\n",
       "    }\n",
       "\n",
       "    .dataframe tbody tr th {\n",
       "        vertical-align: top;\n",
       "    }\n",
       "\n",
       "    .dataframe thead th {\n",
       "        text-align: right;\n",
       "    }\n",
       "</style>\n",
       "<table border=\"1\" class=\"dataframe\">\n",
       "  <thead>\n",
       "    <tr style=\"text-align: right;\">\n",
       "      <th></th>\n",
       "      <th>Location</th>\n",
       "      <th>Description</th>\n",
       "    </tr>\n",
       "  </thead>\n",
       "  <tbody>\n",
       "    <tr>\n",
       "      <th>80</th>\n",
       "      <td>East Mediterranean Sea</td>\n",
       "      <td>User indicated an intermittent problem that wa...</td>\n",
       "    </tr>\n",
       "    <tr>\n",
       "      <th>90</th>\n",
       "      <td>Eastern Mediterranean</td>\n",
       "      <td>USER: roughly 12 hours of gps spoofing upon de...</td>\n",
       "    </tr>\n",
       "    <tr>\n",
       "      <th>93</th>\n",
       "      <td>East Mediterranean Sea</td>\n",
       "      <td>Lost GPS signal for six-minutes from 1620 GMT ...</td>\n",
       "    </tr>\n",
       "    <tr>\n",
       "      <th>94</th>\n",
       "      <td>Eastern Mediterranean</td>\n",
       "      <td>GPS jamming begins, affecting both GPS units. ...</td>\n",
       "    </tr>\n",
       "    <tr>\n",
       "      <th>122</th>\n",
       "      <td>Mediterranean Sea</td>\n",
       "      <td>User: Additional vessel in area were experienc...</td>\n",
       "    </tr>\n",
       "    <tr>\n",
       "      <th>124</th>\n",
       "      <td>Mediterranean Sea</td>\n",
       "      <td>User: Intermittent GPS signal beginning at 013...</td>\n",
       "    </tr>\n",
       "  </tbody>\n",
       "</table>\n",
       "</div>"
      ],
      "text/plain": [
       "                   Location                                        Description\n",
       "80   East Mediterranean Sea  User indicated an intermittent problem that wa...\n",
       "90    Eastern Mediterranean  USER: roughly 12 hours of gps spoofing upon de...\n",
       "93   East Mediterranean Sea  Lost GPS signal for six-minutes from 1620 GMT ...\n",
       "94    Eastern Mediterranean  GPS jamming begins, affecting both GPS units. ...\n",
       "122       Mediterranean Sea  User: Additional vessel in area were experienc...\n",
       "124       Mediterranean Sea  User: Intermittent GPS signal beginning at 013..."
      ]
     },
     "execution_count": 14,
     "metadata": {},
     "output_type": "execute_result"
    }
   ],
   "source": [
    "gps_disruption_df\\\n",
    ".query('location_clean2 in (\"MEDITERRANEAN SEA\",\"EASTERN MEDITERRANEAN\",\"EAST MEDITERRANEAN SEA\")')\\\n",
    "[['Location','Description']]"
   ]
  },
  {
   "cell_type": "code",
   "execution_count": 20,
   "id": "fdea7156-6773-4a64-830f-8f5569d31479",
   "metadata": {},
   "outputs": [
    {
     "name": "stdout",
     "output_type": "stream",
     "text": [
      "USER: roughly 12 hours of gps spoofing upon departure from port Said Egypt. GPS signal rapidly shifted numerous times, position 6-8 miles off. Position dropped for 90 percent of the 12 hours. GPS aboard connected to ECDIS, RADAR,AIS, GYRO repeater panel, GMDSS suite.NAVCEN: The GPS Operations Center reviewed the GPS Constellation and Control Segment, there are no known anomalies that might affect GPS signal integrity at the time and vicinity of the reported problem. Space weather was reviewed and found unlikely to have impacted GPS performance. There were no authorized GPS tests in the area. No correlating reports from interagency partners. The report of interference is similar to that outlined by U.S. Maritime Administration in Maritime Advisory 2021-004-Various GPS Interference. User encouraged to report the issue to the nearest communication authority.\n",
      "USER: For the length of our stay 23/0000 till 23/1900, we experienced intermittent reception or not at all (port approaches and alongside).NAVCEN: The GPS Operations Center reviewed the GPS Constellation and Control Segment, there are no known anomalies that might affect GPS signal integrity at the time and vicinity of the reported problem. Space weather was reviewed and found unlikely to have impacted GPS performance. There were no authorized GPS tests in the area. No correlating reports from interagency partners. The report of interference is similar to that outlined by U.S. Maritime Administration in Maritime Advisory 2021-004-Various GPS Interference. User encouraged to report the issue to the nearest communication authority.\n",
      "USER: GPS signal lost for 2 minutes.NAVCEN: The GPS Operations Center reviewed the GPS Constellation and Control Segment, there are no known anomalies that might affect GPS signal integrity at the time and vicinity of the reported problem. Space weather was reviewed and found unlikely to have impacted GPS performance. There were no authorized GPS tests in the area. No correlating reports from interagency partners. The report of interference is similar to that outlined by U.S. Maritime Administration in Maritime Advisory 2021-004-Various GPS Interference. User encouraged to report the issue to the nearest communication authority.\n",
      "Lost GPS signal for six-minutes from 1620 GMT to 1626 GMT.NAVCEN: The GPS Operations Center reviewed the GPS Constellation and Control Segment, there are no known anomalies that might affect GPS signal integrity at the time and vicinity of the reported problem. Space weather was reviewed and found unlikely to have impacted GPS performance. There were no authorized GPS tests in the area. No correlating reports from interagency partners. The report of interference is similar to that outlined by U.S. Maritime Administration in Maritime Advisory 2021-004-Various GPS Interference. User encouraged to report the issue to the nearest communication authority.\n",
      "GPS jamming begins, affecting both GPS units. Our position was @ 36-06N, 016-58E, and we were on a course of 100 T, with a speed of 17.8 kts. The GPS receivers had @ 8 satellites in view, but the Signal to Noise Ratio (SNR) of all satellites changed continuously from 0 to less than 30 for all satellites. Both GPS receivers were alarming, indicating a “loss of signal.” I switched GPS #2 to primary, because it also receives position data from GLONASS. This allowed our ECDIS to continue to function. The jamming was solid for 8 minutes. .NAVCEN: The GPS Operations Center reviewed the GPS Constellation and Control Segment, there are no known anomalies that might affect GPS signal integrity at the time and vicinity of the reported problem. Space weather was reviewed and found unlikely to have impacted GPS performance. There were no authorized GPS tests in the area. No correlating reports from interagency partners. The report of interference is similar to that outlined by U.S. Maritime Administration in Maritime Advisory 2021-004-Various GPS Interference. User encouraged to report the issue to the nearest communication authority.\n",
      "My GPS keeps going in and out saying satellite connection lost. I need this problem resolved as I am an over the road trucker.NAVCEN: The GPS Operations Center reviewed the GPS Constellation and Control Segment, there are no known anomalies that might affect GPS signal integrity at the time and vicinity of the reported problem. Space weather was reviewed and found unlikely to have impacted GPS performance. There were no authorized GPS tests in the area. No correlating reports from interagency partners or users. NAVCEN requested additional information, but the reporting source did not respond.\n"
     ]
    }
   ],
   "source": [
    "for description_str in gps_disruption_df.loc[90:95,'Description']:\n",
    "    print(description_str)"
   ]
  },
  {
   "cell_type": "code",
   "execution_count": null,
   "id": "c43a6f74-f7ac-4eb4-afcc-484fae7672fe",
   "metadata": {},
   "outputs": [],
   "source": []
  }
 ],
 "metadata": {
  "kernelspec": {
   "display_name": "Python 3 (ipykernel)",
   "language": "python",
   "name": "python3"
  },
  "language_info": {
   "codemirror_mode": {
    "name": "ipython",
    "version": 3
   },
   "file_extension": ".py",
   "mimetype": "text/x-python",
   "name": "python",
   "nbconvert_exporter": "python",
   "pygments_lexer": "ipython3",
   "version": "3.9.7"
  },
  "toc-autonumbering": true
 },
 "nbformat": 4,
 "nbformat_minor": 5
}
