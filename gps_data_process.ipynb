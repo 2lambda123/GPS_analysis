{
 "cells": [
  {
   "cell_type": "markdown",
   "id": "6a079093-9aa8-425a-8b05-684917048932",
   "metadata": {},
   "source": [
    "# Analysis of US Coastguard GPS disruption data"
   ]
  },
  {
   "cell_type": "markdown",
   "id": "f93a3faf-35cd-44f7-bf47-00a7a94184b7",
   "metadata": {},
   "source": [
    "## Prerequisites"
   ]
  },
  {
   "cell_type": "code",
   "execution_count": 1,
   "id": "09bbb9e4-54e4-46a3-8cbb-3430adfcad01",
   "metadata": {},
   "outputs": [],
   "source": [
    "import pandas as pd\n",
    "from datetime import datetime as dt"
   ]
  },
  {
   "cell_type": "code",
   "execution_count": 4,
   "id": "7703d7d6-2cb6-46a3-a09e-2c6c042eb3a9",
   "metadata": {},
   "outputs": [
    {
     "name": "stdout",
     "output_type": "stream",
     "text": [
      "Collecting lxml\n",
      "  Downloading lxml-4.9.1-cp310-cp310-manylinux_2_17_x86_64.manylinux2014_x86_64.manylinux_2_24_x86_64.whl (6.9 MB)\n",
      "\u001b[2K     \u001b[90m━━━━━━━━━━━━━━━━━━━━━━━━━━━━━━━━━━━━━━━━\u001b[0m \u001b[32m6.9/6.9 MB\u001b[0m \u001b[31m50.1 MB/s\u001b[0m eta \u001b[36m0:00:00\u001b[0m:00:01\u001b[0m00:01\u001b[0m\n",
      "\u001b[?25hInstalling collected packages: lxml\n",
      "Successfully installed lxml-4.9.1\n",
      "\n",
      "\u001b[1m[\u001b[0m\u001b[34;49mnotice\u001b[0m\u001b[1;39;49m]\u001b[0m\u001b[39;49m A new release of pip available: \u001b[0m\u001b[31;49m22.3\u001b[0m\u001b[39;49m -> \u001b[0m\u001b[32;49m22.3.1\u001b[0m\n",
      "\u001b[1m[\u001b[0m\u001b[34;49mnotice\u001b[0m\u001b[1;39;49m]\u001b[0m\u001b[39;49m To update, run: \u001b[0m\u001b[32;49mpython3 -m pip install --upgrade pip\u001b[0m\n",
      "Note: you may need to restart the kernel to use updated packages.\n"
     ]
    }
   ],
   "source": [
    "%pip install lxml"
   ]
  },
  {
   "cell_type": "markdown",
   "id": "400e0bb0-700b-477e-bec0-5505b7da33e4",
   "metadata": {},
   "source": [
    "## Webscrape\n",
    "Run this to webscrape the data to file. If you already have the data locally, skip the following cell"
   ]
  },
  {
   "cell_type": "code",
   "execution_count": 2,
   "id": "3ec7a4d4-671d-4057-b174-8fa8e9810751",
   "metadata": {},
   "outputs": [],
   "source": [
    "table_list = pd.read_html(r'https://navcen.uscg.gov/gps-problem-report-status')\n",
    "table_list[0].to_csv('gps_navcen.csv',index=False)"
   ]
  },
  {
   "cell_type": "markdown",
   "id": "d65d8779-a51f-4284-89db-5e55f94c6915",
   "metadata": {},
   "source": [
    "## Processing and Analysis"
   ]
  },
  {
   "cell_type": "code",
   "execution_count": 3,
   "id": "f0c07b05-a645-400f-919e-f2260bfc56ab",
   "metadata": {},
   "outputs": [],
   "source": [
    "gps_disruption_df=pd.read_csv('gps_navcen.csv')"
   ]
  },
  {
   "cell_type": "code",
   "execution_count": 4,
   "id": "b0e5bae0-d041-46a3-8ebc-8ac1069466a5",
   "metadata": {},
   "outputs": [
    {
     "data": {
      "text/html": [
       "<div>\n",
       "<style scoped>\n",
       "    .dataframe tbody tr th:only-of-type {\n",
       "        vertical-align: middle;\n",
       "    }\n",
       "\n",
       "    .dataframe tbody tr th {\n",
       "        vertical-align: top;\n",
       "    }\n",
       "\n",
       "    .dataframe thead th {\n",
       "        text-align: right;\n",
       "    }\n",
       "</style>\n",
       "<table border=\"1\" class=\"dataframe\">\n",
       "  <thead>\n",
       "    <tr style=\"text-align: right;\">\n",
       "      <th></th>\n",
       "      <th>Disruption Date/Time</th>\n",
       "      <th>Location</th>\n",
       "      <th>Type</th>\n",
       "      <th>Description</th>\n",
       "      <th>Cause</th>\n",
       "      <th>Closed Date</th>\n",
       "    </tr>\n",
       "  </thead>\n",
       "  <tbody>\n",
       "    <tr>\n",
       "      <th>0</th>\n",
       "      <td>10/16/2022 14:13:00 CST</td>\n",
       "      <td>Independence</td>\n",
       "      <td>Automobile</td>\n",
       "      <td>USER: My mapping services are constantly searc...</td>\n",
       "      <td>Mapping Issue</td>\n",
       "      <td>10/25/2022</td>\n",
       "    </tr>\n",
       "    <tr>\n",
       "      <th>1</th>\n",
       "      <td>10/06/2022 09:15:00 CST</td>\n",
       "      <td>Dallas, TX by Southern Methodist University</td>\n",
       "      <td>Other</td>\n",
       "      <td>USER: For several years now, on and off throug...</td>\n",
       "      <td>Insufficient Information</td>\n",
       "      <td>10/25/2022</td>\n",
       "    </tr>\n",
       "    <tr>\n",
       "      <th>2</th>\n",
       "      <td>09/17/2022 13:00:00 EST</td>\n",
       "      <td>Navy Yard, Washington DC</td>\n",
       "      <td>None</td>\n",
       "      <td>USER: Our car navigation system and our mobile...</td>\n",
       "      <td>Insufficient Information</td>\n",
       "      <td>10/25/2022</td>\n",
       "    </tr>\n",
       "    <tr>\n",
       "      <th>3</th>\n",
       "      <td>09/10/2022 09:45:00 CST</td>\n",
       "      <td>Chicago</td>\n",
       "      <td>Automobile</td>\n",
       "      <td>USER: Both my standalone gps and phone gps rep...</td>\n",
       "      <td>Insufficient Information</td>\n",
       "      <td>10/25/2022</td>\n",
       "    </tr>\n",
       "    <tr>\n",
       "      <th>4</th>\n",
       "      <td>09/07/2022 13:15:00 EST</td>\n",
       "      <td>I-20 near Columbia, SC</td>\n",
       "      <td>Automobile</td>\n",
       "      <td>USER: Several times, most recently yesterday, ...</td>\n",
       "      <td>Mapping Issue</td>\n",
       "      <td>09/13/2022</td>\n",
       "    </tr>\n",
       "  </tbody>\n",
       "</table>\n",
       "</div>"
      ],
      "text/plain": [
       "      Disruption Date/Time                                     Location  \\\n",
       "0  10/16/2022 14:13:00 CST                                 Independence   \n",
       "1  10/06/2022 09:15:00 CST  Dallas, TX by Southern Methodist University   \n",
       "2  09/17/2022 13:00:00 EST                     Navy Yard, Washington DC   \n",
       "3  09/10/2022 09:45:00 CST                                      Chicago   \n",
       "4  09/07/2022 13:15:00 EST                       I-20 near Columbia, SC   \n",
       "\n",
       "         Type                                        Description  \\\n",
       "0  Automobile  USER: My mapping services are constantly searc...   \n",
       "1       Other  USER: For several years now, on and off throug...   \n",
       "2        None  USER: Our car navigation system and our mobile...   \n",
       "3  Automobile  USER: Both my standalone gps and phone gps rep...   \n",
       "4  Automobile  USER: Several times, most recently yesterday, ...   \n",
       "\n",
       "                      Cause Closed Date  \n",
       "0             Mapping Issue  10/25/2022  \n",
       "1  Insufficient Information  10/25/2022  \n",
       "2  Insufficient Information  10/25/2022  \n",
       "3  Insufficient Information  10/25/2022  \n",
       "4             Mapping Issue  09/13/2022  "
      ]
     },
     "execution_count": 4,
     "metadata": {},
     "output_type": "execute_result"
    }
   ],
   "source": [
    "gps_disruption_df.head()"
   ]
  },
  {
   "cell_type": "markdown",
   "id": "1d640c40-c321-473f-aa00-5e6fa67dbcf6",
   "metadata": {},
   "source": [
    "## Analyse disruptions by date"
   ]
  },
  {
   "cell_type": "code",
   "execution_count": 5,
   "id": "bff75004-449c-4cbf-b543-7f58c5b10a1a",
   "metadata": {},
   "outputs": [],
   "source": [
    "gps_disruption_df['local_date']=gps_disruption_df['Disruption Date/Time']\\\n",
    ".apply(lambda x:dt.strptime(x[0:10],'%m/%d/%Y'))"
   ]
  },
  {
   "cell_type": "code",
   "execution_count": 6,
   "id": "1fd44f7d-b467-4af7-9a2c-10f79a964045",
   "metadata": {},
   "outputs": [
    {
     "data": {
      "text/plain": [
       "<AxesSubplot: xlabel='local_date'>"
      ]
     },
     "execution_count": 6,
     "metadata": {},
     "output_type": "execute_result"
    },
    {
     "data": {
      "image/png": "[encoded data removed]",
      "text/plain": [
       "<Figure size 640x480 with 1 Axes>"
      ]
     },
     "metadata": {},
     "output_type": "display_data"
    }
   ],
   "source": [
    "gps_disruption_df.resample('M', on='local_date').\\\n",
    "count()['Disruption Date/Time'].plot(rot=90)\n"
   ]
  },
  {
   "cell_type": "markdown",
   "id": "02920851-0daf-419a-8a52-a470621e5f45",
   "metadata": {},
   "source": [
    "## Analyse disruptions by location"
   ]
  },
  {
   "cell_type": "code",
   "execution_count": 7,
   "id": "85f097fa-b6c6-4375-a841-69005a2b6309",
   "metadata": {},
   "outputs": [],
   "source": [
    "gps_disruption_df['location_clean']=gps_disruption_df['Location'].\\\n",
    "apply(lambda x:x.split(',')[-1].strip().upper())\n",
    "gps_disruption_df['location_clean_group_len']=gps_disruption_df['location_clean']\\\n",
    ".apply(lambda x: len(x))\n",
    "gps_disruption_df['location_clean2']=gps_disruption_df['location_clean']\n"
   ]
  },
  {
   "cell_type": "code",
   "execution_count": 8,
   "id": "4fb93e05-a313-4bd6-976c-7496741e987e",
   "metadata": {},
   "outputs": [
    {
     "data": {
      "text/plain": [
       "array(['SC', 'CA', 'MA', 'NV', 'DC', 'OR', 'AR', 'SD', 'ND', 'UK', 'VA',\n",
       "       'WA', 'TX', 'NM', 'IA', 'CO', 'FL', 'CT', 'MD', 'AZ', 'NC', 'IN',\n",
       "       'NY', 'TN', 'OH', 'PA', 'AK', 'GA', 'NJ', 'OK', 'LA'], dtype=object)"
      ]
     },
     "execution_count": 8,
     "metadata": {},
     "output_type": "execute_result"
    }
   ],
   "source": [
    "gps_disruption_df[gps_disruption_df['location_clean_group_len']==2]['location_clean'].unique()"
   ]
  },
  {
   "cell_type": "code",
   "execution_count": 9,
   "id": "098d7fc4-2fdf-4c36-9e86-dbd8a49b243f",
   "metadata": {},
   "outputs": [
    {
     "data": {
      "text/html": [
       "<div>\n",
       "<style scoped>\n",
       "    .dataframe tbody tr th:only-of-type {\n",
       "        vertical-align: middle;\n",
       "    }\n",
       "\n",
       "    .dataframe tbody tr th {\n",
       "        vertical-align: top;\n",
       "    }\n",
       "\n",
       "    .dataframe thead th {\n",
       "        text-align: right;\n",
       "    }\n",
       "</style>\n",
       "<table border=\"1\" class=\"dataframe\">\n",
       "  <thead>\n",
       "    <tr style=\"text-align: right;\">\n",
       "      <th></th>\n",
       "      <th>Disruption Date/Time</th>\n",
       "      <th>Location</th>\n",
       "      <th>Type</th>\n",
       "      <th>Description</th>\n",
       "      <th>Cause</th>\n",
       "      <th>Closed Date</th>\n",
       "      <th>local_date</th>\n",
       "      <th>location_clean</th>\n",
       "      <th>location_clean_group_len</th>\n",
       "      <th>location_clean2</th>\n",
       "    </tr>\n",
       "  </thead>\n",
       "  <tbody>\n",
       "    <tr>\n",
       "      <th>0</th>\n",
       "      <td>10/16/2022 14:13:00 CST</td>\n",
       "      <td>Independence</td>\n",
       "      <td>Automobile</td>\n",
       "      <td>USER: My mapping services are constantly searc...</td>\n",
       "      <td>Mapping Issue</td>\n",
       "      <td>10/25/2022</td>\n",
       "      <td>2022-10-16</td>\n",
       "      <td>INDEPENDENCE</td>\n",
       "      <td>12</td>\n",
       "      <td>INDEPENDENCE</td>\n",
       "    </tr>\n",
       "    <tr>\n",
       "      <th>1</th>\n",
       "      <td>10/06/2022 09:15:00 CST</td>\n",
       "      <td>Dallas, TX by Southern Methodist University</td>\n",
       "      <td>Other</td>\n",
       "      <td>USER: For several years now, on and off throug...</td>\n",
       "      <td>Insufficient Information</td>\n",
       "      <td>10/25/2022</td>\n",
       "      <td>2022-10-06</td>\n",
       "      <td>TX BY SOUTHERN METHODIST UNIVERSITY</td>\n",
       "      <td>35</td>\n",
       "      <td>TX BY SOUTHERN METHODIST UNIVERSITY</td>\n",
       "    </tr>\n",
       "    <tr>\n",
       "      <th>2</th>\n",
       "      <td>09/17/2022 13:00:00 EST</td>\n",
       "      <td>Navy Yard, Washington DC</td>\n",
       "      <td>None</td>\n",
       "      <td>USER: Our car navigation system and our mobile...</td>\n",
       "      <td>Insufficient Information</td>\n",
       "      <td>10/25/2022</td>\n",
       "      <td>2022-09-17</td>\n",
       "      <td>WASHINGTON DC</td>\n",
       "      <td>13</td>\n",
       "      <td>WASHINGTON DC</td>\n",
       "    </tr>\n",
       "    <tr>\n",
       "      <th>3</th>\n",
       "      <td>09/10/2022 09:45:00 CST</td>\n",
       "      <td>Chicago</td>\n",
       "      <td>Automobile</td>\n",
       "      <td>USER: Both my standalone gps and phone gps rep...</td>\n",
       "      <td>Insufficient Information</td>\n",
       "      <td>10/25/2022</td>\n",
       "      <td>2022-09-10</td>\n",
       "      <td>CHICAGO</td>\n",
       "      <td>7</td>\n",
       "      <td>CHICAGO</td>\n",
       "    </tr>\n",
       "    <tr>\n",
       "      <th>4</th>\n",
       "      <td>09/07/2022 13:15:00 EST</td>\n",
       "      <td>I-20 near Columbia, SC</td>\n",
       "      <td>Automobile</td>\n",
       "      <td>USER: Several times, most recently yesterday, ...</td>\n",
       "      <td>Mapping Issue</td>\n",
       "      <td>09/13/2022</td>\n",
       "      <td>2022-09-07</td>\n",
       "      <td>SC</td>\n",
       "      <td>2</td>\n",
       "      <td>SC</td>\n",
       "    </tr>\n",
       "    <tr>\n",
       "      <th>...</th>\n",
       "      <td>...</td>\n",
       "      <td>...</td>\n",
       "      <td>...</td>\n",
       "      <td>...</td>\n",
       "      <td>...</td>\n",
       "      <td>...</td>\n",
       "      <td>...</td>\n",
       "      <td>...</td>\n",
       "      <td>...</td>\n",
       "      <td>...</td>\n",
       "    </tr>\n",
       "    <tr>\n",
       "      <th>414</th>\n",
       "      <td>01/05/2017 4:35 UTC</td>\n",
       "      <td>Chile</td>\n",
       "      <td>Law Enforcement</td>\n",
       "      <td>User: There were large spikes in geozone alarm...</td>\n",
       "      <td>User Equipment</td>\n",
       "      <td>05/20/2019</td>\n",
       "      <td>2017-01-05</td>\n",
       "      <td>CHILE</td>\n",
       "      <td>5</td>\n",
       "      <td>CHILE</td>\n",
       "    </tr>\n",
       "    <tr>\n",
       "      <th>415</th>\n",
       "      <td>01/03/2017 11:AM CST</td>\n",
       "      <td>San Angelo Airport</td>\n",
       "      <td>Aviation</td>\n",
       "      <td>User: The GPS systems in normal mode not milit...</td>\n",
       "      <td>Unintentional Interference</td>\n",
       "      <td>05/20/2019</td>\n",
       "      <td>2017-01-03</td>\n",
       "      <td>SAN ANGELO AIRPORT</td>\n",
       "      <td>18</td>\n",
       "      <td>SAN ANGELO AIRPORT</td>\n",
       "    </tr>\n",
       "    <tr>\n",
       "      <th>416</th>\n",
       "      <td>01/02/2017 3:00 EST</td>\n",
       "      <td>North Carolina - South Carolina border</td>\n",
       "      <td>Transportation</td>\n",
       "      <td>User: GPS would say when you plug in that ther...</td>\n",
       "      <td>User Equipment</td>\n",
       "      <td>05/20/2019</td>\n",
       "      <td>2017-01-02</td>\n",
       "      <td>NORTH CAROLINA - SOUTH CAROLINA BORDER</td>\n",
       "      <td>38</td>\n",
       "      <td>NORTH CAROLINA - SOUTH CAROLINA BORDER</td>\n",
       "    </tr>\n",
       "    <tr>\n",
       "      <th>417</th>\n",
       "      <td>01/01/2017 12:00 EST</td>\n",
       "      <td>Elizabeth, NJ</td>\n",
       "      <td>Transportation</td>\n",
       "      <td>User: My business is located in Elizabeth, NJ....</td>\n",
       "      <td>Mapping Issue</td>\n",
       "      <td>05/20/2019</td>\n",
       "      <td>2017-01-01</td>\n",
       "      <td>NJ</td>\n",
       "      <td>2</td>\n",
       "      <td>NJ</td>\n",
       "    </tr>\n",
       "    <tr>\n",
       "      <th>418</th>\n",
       "      <td>11/16/2016 7h37 UTC</td>\n",
       "      <td>Rennes, France</td>\n",
       "      <td>Research</td>\n",
       "      <td>User: I experimented high range error on PRN 3...</td>\n",
       "      <td>User Equipment</td>\n",
       "      <td>05/20/2019</td>\n",
       "      <td>2016-11-16</td>\n",
       "      <td>FRANCE</td>\n",
       "      <td>6</td>\n",
       "      <td>FRANCE</td>\n",
       "    </tr>\n",
       "  </tbody>\n",
       "</table>\n",
       "<p>419 rows × 10 columns</p>\n",
       "</div>"
      ],
      "text/plain": [
       "        Disruption Date/Time                                     Location  \\\n",
       "0    10/16/2022 14:13:00 CST                                 Independence   \n",
       "1    10/06/2022 09:15:00 CST  Dallas, TX by Southern Methodist University   \n",
       "2    09/17/2022 13:00:00 EST                     Navy Yard, Washington DC   \n",
       "3    09/10/2022 09:45:00 CST                                      Chicago   \n",
       "4    09/07/2022 13:15:00 EST                       I-20 near Columbia, SC   \n",
       "..                       ...                                          ...   \n",
       "414      01/05/2017 4:35 UTC                                        Chile   \n",
       "415     01/03/2017 11:AM CST                           San Angelo Airport   \n",
       "416      01/02/2017 3:00 EST       North Carolina - South Carolina border   \n",
       "417     01/01/2017 12:00 EST                                Elizabeth, NJ   \n",
       "418      11/16/2016 7h37 UTC                               Rennes, France   \n",
       "\n",
       "                Type                                        Description  \\\n",
       "0         Automobile  USER: My mapping services are constantly searc...   \n",
       "1              Other  USER: For several years now, on and off throug...   \n",
       "2               None  USER: Our car navigation system and our mobile...   \n",
       "3         Automobile  USER: Both my standalone gps and phone gps rep...   \n",
       "4         Automobile  USER: Several times, most recently yesterday, ...   \n",
       "..               ...                                                ...   \n",
       "414  Law Enforcement  User: There were large spikes in geozone alarm...   \n",
       "415         Aviation  User: The GPS systems in normal mode not milit...   \n",
       "416   Transportation  User: GPS would say when you plug in that ther...   \n",
       "417   Transportation  User: My business is located in Elizabeth, NJ....   \n",
       "418         Research  User: I experimented high range error on PRN 3...   \n",
       "\n",
       "                          Cause Closed Date local_date  \\\n",
       "0                 Mapping Issue  10/25/2022 2022-10-16   \n",
       "1      Insufficient Information  10/25/2022 2022-10-06   \n",
       "2      Insufficient Information  10/25/2022 2022-09-17   \n",
       "3      Insufficient Information  10/25/2022 2022-09-10   \n",
       "4                 Mapping Issue  09/13/2022 2022-09-07   \n",
       "..                          ...         ...        ...   \n",
       "414              User Equipment  05/20/2019 2017-01-05   \n",
       "415  Unintentional Interference  05/20/2019 2017-01-03   \n",
       "416              User Equipment  05/20/2019 2017-01-02   \n",
       "417               Mapping Issue  05/20/2019 2017-01-01   \n",
       "418              User Equipment  05/20/2019 2016-11-16   \n",
       "\n",
       "                             location_clean  location_clean_group_len  \\\n",
       "0                              INDEPENDENCE                        12   \n",
       "1       TX BY SOUTHERN METHODIST UNIVERSITY                        35   \n",
       "2                             WASHINGTON DC                        13   \n",
       "3                                   CHICAGO                         7   \n",
       "4                                        SC                         2   \n",
       "..                                      ...                       ...   \n",
       "414                                   CHILE                         5   \n",
       "415                      SAN ANGELO AIRPORT                        18   \n",
       "416  NORTH CAROLINA - SOUTH CAROLINA BORDER                        38   \n",
       "417                                      NJ                         2   \n",
       "418                                  FRANCE                         6   \n",
       "\n",
       "                            location_clean2  \n",
       "0                              INDEPENDENCE  \n",
       "1       TX BY SOUTHERN METHODIST UNIVERSITY  \n",
       "2                             WASHINGTON DC  \n",
       "3                                   CHICAGO  \n",
       "4                                        SC  \n",
       "..                                      ...  \n",
       "414                                   CHILE  \n",
       "415                      SAN ANGELO AIRPORT  \n",
       "416  NORTH CAROLINA - SOUTH CAROLINA BORDER  \n",
       "417                                      NJ  \n",
       "418                                  FRANCE  \n",
       "\n",
       "[419 rows x 10 columns]"
      ]
     },
     "execution_count": 9,
     "metadata": {},
     "output_type": "execute_result"
    }
   ],
   "source": [
    "gps_disruption_df"
   ]
  },
  {
   "cell_type": "code",
   "execution_count": 10,
   "id": "d53fd22d-7498-4bb6-8053-843e371fb9b4",
   "metadata": {},
   "outputs": [],
   "source": [
    "disruptions_by_location=gps_disruption_df[gps_disruption_df['location_clean_group_len']!=2].groupby('location_clean2').count()['Disruption Date/Time']\n"
   ]
  },
  {
   "cell_type": "code",
   "execution_count": 13,
   "id": "abf1fc0d-139a-47e0-b371-81175a966739",
   "metadata": {},
   "outputs": [
    {
     "data": {
      "text/plain": [
       "location_clean2\n",
       "ALABAMA                    2\n",
       "ALASKA                     2\n",
       "AT SEA                     2\n",
       "BRAZIL                     5\n",
       "CALIFORNIA                 3\n",
       "CHINA                      4\n",
       "CYPRUS                     6\n",
       "EAST MEDITERRANEAN SEA     2\n",
       "EAST OF MALTA              3\n",
       "EASTERN MEDITERRANEAN      2\n",
       "EGYPT                     23\n",
       "FINLAND                    2\n",
       "FLORIDA                    4\n",
       "GERMANY                    3\n",
       "GLOBAL                     4\n",
       "GREECE                     3\n",
       "INDIA                      2\n",
       "IRAN                       2\n",
       "ISRAEL                     3\n",
       "ISTANBUL                   2\n",
       "ITALY                      6\n",
       "LEBANON                    4\n",
       "LIBYA                      3\n",
       "LIMASSOL                   9\n",
       "MEDITERRANEAN SEA          2\n",
       "NEW YORK                   2\n",
       "OREGON                     2\n",
       "PRC                        2\n",
       "SAUDI ARABIA               3\n",
       "SPAIN                      3\n",
       "SUEZ CANAL                 2\n",
       "TEXAS                      2\n",
       "TURKEY                     2\n",
       "UNITED STATES              2\n",
       "WORLDWIDE                  2\n",
       "Name: Disruption Date/Time, dtype: int64"
      ]
     },
     "execution_count": 13,
     "metadata": {},
     "output_type": "execute_result"
    }
   ],
   "source": [
    "disruptions_by_location[disruptions_by_location>1]#.plot(kind='barh')"
   ]
  },
  {
   "cell_type": "code",
   "execution_count": 15,
   "id": "3137eb12-6ce5-44e6-9a2b-5942d3d41e1b",
   "metadata": {},
   "outputs": [
    {
     "data": {
      "text/html": [
       "<div>\n",
       "<style scoped>\n",
       "    .dataframe tbody tr th:only-of-type {\n",
       "        vertical-align: middle;\n",
       "    }\n",
       "\n",
       "    .dataframe tbody tr th {\n",
       "        vertical-align: top;\n",
       "    }\n",
       "\n",
       "    .dataframe thead th {\n",
       "        text-align: right;\n",
       "    }\n",
       "</style>\n",
       "<table border=\"1\" class=\"dataframe\">\n",
       "  <thead>\n",
       "    <tr style=\"text-align: right;\">\n",
       "      <th></th>\n",
       "      <th>local_date</th>\n",
       "      <th>Location</th>\n",
       "      <th>Description</th>\n",
       "      <th>Cause</th>\n",
       "    </tr>\n",
       "  </thead>\n",
       "  <tbody>\n",
       "    <tr>\n",
       "      <th>91</th>\n",
       "      <td>2021-07-28</td>\n",
       "      <td>At sea</td>\n",
       "      <td>USER: The vessel was sailing towards port said...</td>\n",
       "      <td>Unknown Interference</td>\n",
       "    </tr>\n",
       "    <tr>\n",
       "      <th>138</th>\n",
       "      <td>2021-01-16</td>\n",
       "      <td>Global</td>\n",
       "      <td>CNES has detected a repetition of IODE for PRN...</td>\n",
       "      <td>IODC_10-Bit</td>\n",
       "    </tr>\n",
       "    <tr>\n",
       "      <th>169</th>\n",
       "      <td>2020-08-04</td>\n",
       "      <td>Global</td>\n",
       "      <td>User: CNES (Centre National d Etudes Spatiales...</td>\n",
       "      <td>ICD_Violation</td>\n",
       "    </tr>\n",
       "    <tr>\n",
       "      <th>195</th>\n",
       "      <td>2020-02-12</td>\n",
       "      <td>Worldwide</td>\n",
       "      <td>User: In February 2020 (Feb 12th, 13th, 15th a...</td>\n",
       "      <td>ICD_Violation</td>\n",
       "    </tr>\n",
       "    <tr>\n",
       "      <th>286</th>\n",
       "      <td>2019-02-01</td>\n",
       "      <td>Global</td>\n",
       "      <td>User: Thanks to Navigation and Timing Monitori...</td>\n",
       "      <td>None</td>\n",
       "    </tr>\n",
       "    <tr>\n",
       "      <th>356</th>\n",
       "      <td>2017-11-30</td>\n",
       "      <td>Global</td>\n",
       "      <td>User: GPS PRN22 orbit error started to wander ...</td>\n",
       "      <td>User Equipment</td>\n",
       "    </tr>\n",
       "    <tr>\n",
       "      <th>372</th>\n",
       "      <td>2017-09-20</td>\n",
       "      <td>Worldwide</td>\n",
       "      <td>User: It appears that the Subframe-2 IODC mess...</td>\n",
       "      <td>User Equipment</td>\n",
       "    </tr>\n",
       "  </tbody>\n",
       "</table>\n",
       "</div>"
      ],
      "text/plain": [
       "    local_date   Location                                        Description  \\\n",
       "91  2021-07-28     At sea  USER: The vessel was sailing towards port said...   \n",
       "138 2021-01-16     Global  CNES has detected a repetition of IODE for PRN...   \n",
       "169 2020-08-04     Global  User: CNES (Centre National d Etudes Spatiales...   \n",
       "195 2020-02-12  Worldwide  User: In February 2020 (Feb 12th, 13th, 15th a...   \n",
       "286 2019-02-01     Global  User: Thanks to Navigation and Timing Monitori...   \n",
       "356 2017-11-30     Global  User: GPS PRN22 orbit error started to wander ...   \n",
       "372 2017-09-20  Worldwide  User: It appears that the Subframe-2 IODC mess...   \n",
       "\n",
       "                    Cause  \n",
       "91   Unknown Interference  \n",
       "138           IODC_10-Bit  \n",
       "169         ICD_Violation  \n",
       "195         ICD_Violation  \n",
       "286                  None  \n",
       "356        User Equipment  \n",
       "372        User Equipment  "
      ]
     },
     "execution_count": 15,
     "metadata": {},
     "output_type": "execute_result"
    }
   ],
   "source": [
    "gps_disruption_df.query('Location in (\"Worldwide\",\"Global\",\"At sea\")')[['local_date','Location','Description','Cause']]"
   ]
  },
  {
   "cell_type": "code",
   "execution_count": 16,
   "id": "3c44850e-65ae-4da3-b09e-5d1a47a87d66",
   "metadata": {},
   "outputs": [
    {
     "data": {
      "text/plain": [
       "<AxesSubplot: ylabel='location_clean2'>"
      ]
     },
     "execution_count": 16,
     "metadata": {},
     "output_type": "execute_result"
    },
    {
     "data": {
      "image/png": "[encoded data removed]",
      "text/plain": [
       "<Figure size 1200x1000 with 1 Axes>"
      ]
     },
     "metadata": {},
     "output_type": "display_data"
    }
   ],
   "source": [
    "#def group_locations(string_x):\n",
    "#    if string_x==''\n",
    "\n",
    "disruptions_by_location[disruptions_by_location>1 ].drop(['WORLDWIDE','GLOBAL'])\\\n",
    ".plot(kind='barh',figsize=[12,10])"
   ]
  },
  {
   "cell_type": "code",
   "execution_count": 17,
   "id": "ada8cc63-5774-4605-8c2d-0994deaf691d",
   "metadata": {},
   "outputs": [
    {
     "data": {
      "text/html": [
       "<div>\n",
       "<style scoped>\n",
       "    .dataframe tbody tr th:only-of-type {\n",
       "        vertical-align: middle;\n",
       "    }\n",
       "\n",
       "    .dataframe tbody tr th {\n",
       "        vertical-align: top;\n",
       "    }\n",
       "\n",
       "    .dataframe thead th {\n",
       "        text-align: right;\n",
       "    }\n",
       "</style>\n",
       "<table border=\"1\" class=\"dataframe\">\n",
       "  <thead>\n",
       "    <tr style=\"text-align: right;\">\n",
       "      <th></th>\n",
       "      <th>Location</th>\n",
       "      <th>Description</th>\n",
       "    </tr>\n",
       "  </thead>\n",
       "  <tbody>\n",
       "    <tr>\n",
       "      <th>110</th>\n",
       "      <td>East Mediterranean Sea</td>\n",
       "      <td>User indicated an intermittent problem that wa...</td>\n",
       "    </tr>\n",
       "    <tr>\n",
       "      <th>120</th>\n",
       "      <td>Eastern Mediterranean</td>\n",
       "      <td>USER: roughly 12 hours of gps spoofing upon de...</td>\n",
       "    </tr>\n",
       "    <tr>\n",
       "      <th>123</th>\n",
       "      <td>East Mediterranean Sea</td>\n",
       "      <td>Lost GPS signal for six-minutes from 1620 GMT ...</td>\n",
       "    </tr>\n",
       "    <tr>\n",
       "      <th>124</th>\n",
       "      <td>Eastern Mediterranean</td>\n",
       "      <td>GPS jamming begins, affecting both GPS units. ...</td>\n",
       "    </tr>\n",
       "    <tr>\n",
       "      <th>152</th>\n",
       "      <td>Mediterranean Sea</td>\n",
       "      <td>User: Additional vessel in area were experienc...</td>\n",
       "    </tr>\n",
       "    <tr>\n",
       "      <th>154</th>\n",
       "      <td>Mediterranean Sea</td>\n",
       "      <td>User: Intermittent GPS signal beginning at 013...</td>\n",
       "    </tr>\n",
       "  </tbody>\n",
       "</table>\n",
       "</div>"
      ],
      "text/plain": [
       "                   Location                                        Description\n",
       "110  East Mediterranean Sea  User indicated an intermittent problem that wa...\n",
       "120   Eastern Mediterranean  USER: roughly 12 hours of gps spoofing upon de...\n",
       "123  East Mediterranean Sea  Lost GPS signal for six-minutes from 1620 GMT ...\n",
       "124   Eastern Mediterranean  GPS jamming begins, affecting both GPS units. ...\n",
       "152       Mediterranean Sea  User: Additional vessel in area were experienc...\n",
       "154       Mediterranean Sea  User: Intermittent GPS signal beginning at 013..."
      ]
     },
     "execution_count": 17,
     "metadata": {},
     "output_type": "execute_result"
    }
   ],
   "source": [
    "gps_disruption_df\\\n",
    ".query('location_clean2 in (\"MEDITERRANEAN SEA\",\"EASTERN MEDITERRANEAN\",\"EAST MEDITERRANEAN SEA\")')\\\n",
    "[['Location','Description']]"
   ]
  },
  {
   "cell_type": "code",
   "execution_count": 18,
   "id": "fdea7156-6773-4a64-830f-8f5569d31479",
   "metadata": {},
   "outputs": [
    {
     "name": "stdout",
     "output_type": "stream",
     "text": [
      "USER: At 0300LT while getting underway from anchorage C-3, North Anchorage, Port Said, Egypt the vessel lost DGPS signal due to heavy Interference. We have two units on board. DGPS#2 regained signal after a couple of minutes while DGPS unit #1 had to be factory reset and rebooted several times before it was able to acquire satellites later in the day. Is this a common occurrence in the Suez Canal or was just an anomaly? The Suez canal Pilots said it is a common occurrence in the canal. NAVCEN: The GPS Operations Center reviewed the GPS Constellation and Control Segment, there are no known anomalies that might affect GPS signal integrity at the time and vicinity of the reported problem. Space weather was reviewed and found unlikely to have impacted GPS performance. There were no authorized GPS tests in the area. No correlating reports from interagency partners. The report of interference is similar to that outlined by U.S. Maritime Administration in Maritime Advisory 2021-004-Various GPS Interference. User encouraged to report the issue to the nearest communication authority.\n",
      "USER: The vessel was sailing towards port said when we first encountered interference, we are now at am anchorage position out of Suez canal and the interference keeps occuring at intervals of about 10 minutes. NAVCEN: The GPS Operations Center reviewed the GPS Constellation and Control Segment, there are no known anomalies that might affect GPS signal integrity at the time and vicinity of the reported problem. Space weather was reviewed and found unlikely to have impacted GPS performance. There were no authorized GPS tests in the area. No correlating reports from interagency partners. The report of interference is similar to that outlined by U.S. Maritime Administration in Maritime Advisory 2021-004-Various GPS Interference. User encouraged to report the issue to the nearest communication authority.\n",
      "USER: Vessel transiting Suez Canal Northbound. Bound for Algeciras Spain. NAVCEN: The GPS Operations Center reviewed the GPS Constellation and Control Segment, there are no known anomalies that might affect GPS signal integrity at the time and vicinity of the reported problem. Space weather was reviewed and found unlikely to have impacted GPS performance. There were no authorized GPS tests in the area. No correlating reports from interagency partners. The report of interference is similar to that outlined by U.S. Maritime Administration in Maritime Advisory 2021-004-Various GPS Interference. User encouraged to report the issue to the nearest communication authority.\n",
      "USER: Good afternoon, we have been observing anomalies for a long time, large scatter in the time scales of the satellites on receiver 1 according to the P code, receiver 2 also cannot correctly receive the p code. At the L5 frequency, the number of sessions was reduced to a few per day at the time of writing, at the L5 frequency during the week only 4 PRN 1,18,25,31 satellites were emitting. PRN 11 did not determine the azimuth and showed a large discrepancy between the satellite time and GPS time. please tell me what could be the problem. NAVCEN: The GPS Operations Center reviewed the GPS Constellation and Control Segment, there are no known anomalies that might affect GPS signal integrity at the time and vicinity of the reported problem. Space weather was reviewed and found unlikely to have impacted GPS performance. There were no authorized GPS tests in the area. No correlating reports from interagency partners. The L2 signal in this region can be unreliable due to proximity to conflict zones. Both L5 and PRN 11 are currently set UNHEALTHY to users. Update: RS reported that the anomalies have stopped. They stated that the use of the signals is primarily for timing. The anomalies were observed on L1 and L2, however, L5 timing was unaffected.\n",
      "User: Vessel was making way and lost GPS function. NAVCEN: The GPS Operations Center reviewed the GPS Constellation and Control Segment, there are no known anomalies that might affect GPS signal integrity at the time and vicinity of the reported problem. Space weather was reviewed and found unlikely to have impacted GPS performance. There were no authorized GPS tests in the area. No correlating reports from interagency partners. The report of interference is similar to that outlined by U.S. Maritime Administration in Maritime Advisory 2021-004-Various GPS Interference. User encouraged to report the issue to the nearest communication authority.\n",
      "User: The vessel was just finishing up transiting the suez canal when GPS interruption began. We would lose signal for about 5 minutes then it would come back for about 5 minutes. This lasted at least 1 to 2 hours as we exited the canal. We received reports from other vessels that they were having issues as well. The units on board are old models and scheduled to be upgraded during next docking period.. NAVCEN: The GPS Operations Center reviewed the GPS Constellation and Control Segment, there are no known anomalies that might affect GPS signal integrity at the time and vicinity of the reported problem. Space weather was reviewed and found unlikely to have impacted GPS performance. There were no authorized GPS tests in the area. No correlating reports from interagency partners. The report of interference is similar to that outlined by U.S. Maritime Administration in Maritime Advisory 2021-004-Various GPS Interference. User encouraged to report the issue to the nearest communication authority.\n"
     ]
    }
   ],
   "source": [
    "for description_str in gps_disruption_df.loc[90:95,'Description']:\n",
    "    print(description_str)"
   ]
  },
  {
   "cell_type": "code",
   "execution_count": null,
   "id": "c43a6f74-f7ac-4eb4-afcc-484fae7672fe",
   "metadata": {},
   "outputs": [],
   "source": []
  }
 ],
 "metadata": {
  "kernelspec": {
   "display_name": "Python 3 (ipykernel)",
   "language": "python",
   "name": "python3"
  },
  "language_info": {
   "codemirror_mode": {
    "name": "ipython",
    "version": 3
   },
   "file_extension": ".py",
   "mimetype": "text/x-python",
   "name": "python",
   "nbconvert_exporter": "python",
   "pygments_lexer": "ipython3",
   "version": "3.10.4"
  },
  "toc-autonumbering": true,
  "vscode": {
   "interpreter": {
    "hash": "3ad933181bd8a04b432d3370b9dc3b0662ad032c4dfaa4e4f1596c548f763858"
   }
  }
 },
 "nbformat": 4,
 "nbformat_minor": 5
}
