{
 "cells": [
  {
   "cell_type": "markdown",
   "id": "6a079093-9aa8-425a-8b05-684917048932",
   "metadata": {},
   "source": [
    "# Analysis of US Coastguard GPS disruption data"
   ]
  },
  {
   "cell_type": "markdown",
   "id": "f93a3faf-35cd-44f7-bf47-00a7a94184b7",
   "metadata": {},
   "source": [
    "## Prerequisites"
   ]
  },
  {
   "cell_type": "code",
   "execution_count": 3,
   "id": "09bbb9e4-54e4-46a3-8cbb-3430adfcad01",
   "metadata": {},
   "outputs": [],
   "source": [
    "import pandas as pd\n",
    "from datetime import datetime as dt"
   ]
  },
  {
   "cell_type": "code",
   "execution_count": 4,
   "id": "7703d7d6-2cb6-46a3-a09e-2c6c042eb3a9",
   "metadata": {},
   "outputs": [
    {
     "name": "stdout",
     "output_type": "stream",
     "text": [
      "Collecting lxml\n",
      "  Downloading lxml-4.9.1-cp310-cp310-manylinux_2_17_x86_64.manylinux2014_x86_64.manylinux_2_24_x86_64.whl (6.9 MB)\n",
      "\u001b[2K     \u001b[90m━━━━━━━━━━━━━━━━━━━━━━━━━━━━━━━━━━━━━━━━\u001b[0m \u001b[32m6.9/6.9 MB\u001b[0m \u001b[31m50.1 MB/s\u001b[0m eta \u001b[36m0:00:00\u001b[0m:00:01\u001b[0m00:01\u001b[0m\n",
      "\u001b[?25hInstalling collected packages: lxml\n",
      "Successfully installed lxml-4.9.1\n",
      "\n",
      "\u001b[1m[\u001b[0m\u001b[34;49mnotice\u001b[0m\u001b[1;39;49m]\u001b[0m\u001b[39;49m A new release of pip available: \u001b[0m\u001b[31;49m22.3\u001b[0m\u001b[39;49m -> \u001b[0m\u001b[32;49m22.3.1\u001b[0m\n",
      "\u001b[1m[\u001b[0m\u001b[34;49mnotice\u001b[0m\u001b[1;39;49m]\u001b[0m\u001b[39;49m To update, run: \u001b[0m\u001b[32;49mpython3 -m pip install --upgrade pip\u001b[0m\n",
      "Note: you may need to restart the kernel to use updated packages.\n"
     ]
    }
   ],
   "source": [
    "%pip install lxml"
   ]
  },
  {
   "cell_type": "markdown",
   "id": "400e0bb0-700b-477e-bec0-5505b7da33e4",
   "metadata": {},
   "source": [
    "## Webscrape\n",
    "Run this to webscrape the data to files. If you already have the data locally, skip this section."
   ]
  },
  {
   "cell_type": "markdown",
   "id": "2ca17ead-3145-4925-b3c7-65226f4cc0b9",
   "metadata": {},
   "source": [
    "### Web scrape GPS interruptions"
   ]
  },
  {
   "cell_type": "code",
   "execution_count": 2,
   "id": "3ec7a4d4-671d-4057-b174-8fa8e9810751",
   "metadata": {},
   "outputs": [],
   "source": [
    "table_list = pd.read_html(r'https://navcen.uscg.gov/gps-problem-report-status')\n",
    "table_list[0].to_csv('gps_navcen.csv',index=False)"
   ]
  },
  {
   "cell_type": "markdown",
   "id": "7560a2a1-b006-4f8a-9847-66d9b2eba912",
   "metadata": {},
   "source": [
    "### Web scrape wikipedia \n",
    "#### US state codes"
   ]
  },
  {
   "cell_type": "code",
   "execution_count": 2,
   "id": "a25e6e01-62c1-47e4-9b0c-7fb228179f7a",
   "metadata": {},
   "outputs": [],
   "source": [
    "table_list_iso3166= pd.read_html('https://en.wikipedia.org/wiki/ISO_3166-2:US')"
   ]
  },
  {
   "cell_type": "code",
   "execution_count": 4,
   "id": "611a8c12-0d0d-47c5-875f-b778f3cad45c",
   "metadata": {},
   "outputs": [],
   "source": [
    "US_states_iso3166=table_list_iso3166[0]\n",
    "US_states_iso3166['clean_state']=US_states_iso3166['Code'].apply(lambda x: x.split('-')[1])\n",
    "US_states_iso3166.to_csv('US_states_iso3166.csv',index=False)"
   ]
  },
  {
   "cell_type": "markdown",
   "id": "77465824-d22a-4e64-910b-28caafe867c1",
   "metadata": {},
   "source": [
    "#### List of sovereign states"
   ]
  },
  {
   "cell_type": "code",
   "execution_count": 8,
   "id": "29d10c65-ca6f-4500-bd32-510a9868cd52",
   "metadata": {},
   "outputs": [],
   "source": [
    "sovereign_states_list= pd.read_html('https://en.wikipedia.org/wiki/ISO_3166-1_alpha-2')[2]\n",
    "sovereign_states_list[sovereign_states_list['Country name (using title case)'].notna()].to_csv('sovereign_states.csv',index=False)"
   ]
  },
  {
   "cell_type": "markdown",
   "id": "21079639-93d7-4b29-8578-35bc7945d574",
   "metadata": {},
   "source": [
    "## Processing and Analysis"
   ]
  },
  {
   "cell_type": "markdown",
   "id": "9b6e2c48-2566-4369-bf82-5f35a582d794",
   "metadata": {},
   "source": [
    "### Load from csv files"
   ]
  },
  {
   "cell_type": "code",
   "execution_count": 56,
   "id": "f0c07b05-a645-400f-919e-f2260bfc56ab",
   "metadata": {},
   "outputs": [],
   "source": [
    "gps_disruption_df=pd.read_csv('gps_navcen.csv')\n",
    "two_letter_codes=pd.read_csv('US_states_iso3166.csv')\n",
    "sovereign_states=pd.read_csv('sovereign_states.csv')\n"
   ]
  },
  {
   "cell_type": "code",
   "execution_count": 57,
   "id": "82947d92-9898-423f-be62-8a744ff38c8e",
   "metadata": {},
   "outputs": [],
   "source": [
    "gps_disruption_df['User']=gps_disruption_df['Description'].apply(lambda x: x.split('NAVCEN')[0])\n",
    "gps_disruption_df['NAVCEN']=gps_disruption_df['Description'].apply(lambda x: x.split('NAVCEN')[1] if len(x.split('NAVCEN'))>1 else '')"
   ]
  },
  {
   "cell_type": "code",
   "execution_count": 58,
   "id": "29a65651-5871-410a-aa3c-24889de04d51",
   "metadata": {},
   "outputs": [
    {
     "data": {
      "text/html": [
       "<div>\n",
       "<style scoped>\n",
       "    .dataframe tbody tr th:only-of-type {\n",
       "        vertical-align: middle;\n",
       "    }\n",
       "\n",
       "    .dataframe tbody tr th {\n",
       "        vertical-align: top;\n",
       "    }\n",
       "\n",
       "    .dataframe thead th {\n",
       "        text-align: right;\n",
       "    }\n",
       "</style>\n",
       "<table border=\"1\" class=\"dataframe\">\n",
       "  <thead>\n",
       "    <tr style=\"text-align: right;\">\n",
       "      <th></th>\n",
       "      <th>Disruption Date/Time</th>\n",
       "      <th>Location</th>\n",
       "      <th>Type</th>\n",
       "      <th>Description</th>\n",
       "      <th>Cause</th>\n",
       "      <th>Closed Date</th>\n",
       "      <th>User</th>\n",
       "      <th>NAVCEN</th>\n",
       "    </tr>\n",
       "  </thead>\n",
       "  <tbody>\n",
       "    <tr>\n",
       "      <th>0</th>\n",
       "      <td>10/16/2022 14:13:00 CST</td>\n",
       "      <td>Independence</td>\n",
       "      <td>Automobile</td>\n",
       "      <td>USER: My mapping services are constantly searc...</td>\n",
       "      <td>Mapping Issue</td>\n",
       "      <td>10/25/2022</td>\n",
       "      <td>USER: My mapping services are constantly searc...</td>\n",
       "      <td>sent data mapping information.</td>\n",
       "    </tr>\n",
       "    <tr>\n",
       "      <th>1</th>\n",
       "      <td>10/06/2022 09:15:00 CST</td>\n",
       "      <td>Dallas, TX by Southern Methodist University</td>\n",
       "      <td>Other</td>\n",
       "      <td>USER: For several years now, on and off throug...</td>\n",
       "      <td>Insufficient Information</td>\n",
       "      <td>10/25/2022</td>\n",
       "      <td>USER: For several years now, on and off throug...</td>\n",
       "      <td>: The GPS Operations Center reviewed the GPS C...</td>\n",
       "    </tr>\n",
       "    <tr>\n",
       "      <th>2</th>\n",
       "      <td>09/17/2022 13:00:00 EST</td>\n",
       "      <td>Navy Yard, Washington DC</td>\n",
       "      <td>None</td>\n",
       "      <td>USER: Our car navigation system and our mobile...</td>\n",
       "      <td>Insufficient Information</td>\n",
       "      <td>10/25/2022</td>\n",
       "      <td>USER: Our car navigation system and our mobile...</td>\n",
       "      <td>: The GPS Operations Center reviewed the GPS C...</td>\n",
       "    </tr>\n",
       "    <tr>\n",
       "      <th>3</th>\n",
       "      <td>09/10/2022 09:45:00 CST</td>\n",
       "      <td>Chicago</td>\n",
       "      <td>Automobile</td>\n",
       "      <td>USER: Both my standalone gps and phone gps rep...</td>\n",
       "      <td>Insufficient Information</td>\n",
       "      <td>10/25/2022</td>\n",
       "      <td>USER: Both my standalone gps and phone gps rep...</td>\n",
       "      <td>: The GPS Operations Center reviewed the GPS C...</td>\n",
       "    </tr>\n",
       "    <tr>\n",
       "      <th>4</th>\n",
       "      <td>09/07/2022 13:15:00 EST</td>\n",
       "      <td>I-20 near Columbia, SC</td>\n",
       "      <td>Automobile</td>\n",
       "      <td>USER: Several times, most recently yesterday, ...</td>\n",
       "      <td>Mapping Issue</td>\n",
       "      <td>09/13/2022</td>\n",
       "      <td>USER: Several times, most recently yesterday, ...</td>\n",
       "      <td>sent data mapping information.</td>\n",
       "    </tr>\n",
       "    <tr>\n",
       "      <th>...</th>\n",
       "      <td>...</td>\n",
       "      <td>...</td>\n",
       "      <td>...</td>\n",
       "      <td>...</td>\n",
       "      <td>...</td>\n",
       "      <td>...</td>\n",
       "      <td>...</td>\n",
       "      <td>...</td>\n",
       "    </tr>\n",
       "    <tr>\n",
       "      <th>414</th>\n",
       "      <td>01/05/2017 4:35 UTC</td>\n",
       "      <td>Chile</td>\n",
       "      <td>Law Enforcement</td>\n",
       "      <td>User: There were large spikes in geozone alarm...</td>\n",
       "      <td>User Equipment</td>\n",
       "      <td>05/20/2019</td>\n",
       "      <td>User: There were large spikes in geozone alarm...</td>\n",
       "      <td>: The GPS Operations Center reviewed the GPS C...</td>\n",
       "    </tr>\n",
       "    <tr>\n",
       "      <th>415</th>\n",
       "      <td>01/03/2017 11:AM CST</td>\n",
       "      <td>San Angelo Airport</td>\n",
       "      <td>Aviation</td>\n",
       "      <td>User: The GPS systems in normal mode not milit...</td>\n",
       "      <td>Unintentional Interference</td>\n",
       "      <td>05/20/2019</td>\n",
       "      <td>User: The GPS systems in normal mode not milit...</td>\n",
       "      <td>: Report referred to FCC. FCC conducted an inv...</td>\n",
       "    </tr>\n",
       "    <tr>\n",
       "      <th>416</th>\n",
       "      <td>01/02/2017 3:00 EST</td>\n",
       "      <td>North Carolina - South Carolina border</td>\n",
       "      <td>Transportation</td>\n",
       "      <td>User: GPS would say when you plug in that ther...</td>\n",
       "      <td>User Equipment</td>\n",
       "      <td>05/20/2019</td>\n",
       "      <td>User: GPS would say when you plug in that ther...</td>\n",
       "      <td>: The GPS Operations Center reviewed the GPS C...</td>\n",
       "    </tr>\n",
       "    <tr>\n",
       "      <th>417</th>\n",
       "      <td>01/01/2017 12:00 EST</td>\n",
       "      <td>Elizabeth, NJ</td>\n",
       "      <td>Transportation</td>\n",
       "      <td>User: My business is located in Elizabeth, NJ....</td>\n",
       "      <td>Mapping Issue</td>\n",
       "      <td>05/20/2019</td>\n",
       "      <td>User: My business is located in Elizabeth, NJ....</td>\n",
       "      <td>: User provided information on how to contact ...</td>\n",
       "    </tr>\n",
       "    <tr>\n",
       "      <th>418</th>\n",
       "      <td>11/16/2016 7h37 UTC</td>\n",
       "      <td>Rennes, France</td>\n",
       "      <td>Research</td>\n",
       "      <td>User: I experimented high range error on PRN 3...</td>\n",
       "      <td>User Equipment</td>\n",
       "      <td>05/20/2019</td>\n",
       "      <td>User: I experimented high range error on PRN 3...</td>\n",
       "      <td>: The GPS Operations Center reviewed the GPS C...</td>\n",
       "    </tr>\n",
       "  </tbody>\n",
       "</table>\n",
       "<p>419 rows × 8 columns</p>\n",
       "</div>"
      ],
      "text/plain": [
       "        Disruption Date/Time                                     Location  \\\n",
       "0    10/16/2022 14:13:00 CST                                 Independence   \n",
       "1    10/06/2022 09:15:00 CST  Dallas, TX by Southern Methodist University   \n",
       "2    09/17/2022 13:00:00 EST                     Navy Yard, Washington DC   \n",
       "3    09/10/2022 09:45:00 CST                                      Chicago   \n",
       "4    09/07/2022 13:15:00 EST                       I-20 near Columbia, SC   \n",
       "..                       ...                                          ...   \n",
       "414      01/05/2017 4:35 UTC                                        Chile   \n",
       "415     01/03/2017 11:AM CST                           San Angelo Airport   \n",
       "416      01/02/2017 3:00 EST       North Carolina - South Carolina border   \n",
       "417     01/01/2017 12:00 EST                                Elizabeth, NJ   \n",
       "418      11/16/2016 7h37 UTC                               Rennes, France   \n",
       "\n",
       "                Type                                        Description  \\\n",
       "0         Automobile  USER: My mapping services are constantly searc...   \n",
       "1              Other  USER: For several years now, on and off throug...   \n",
       "2               None  USER: Our car navigation system and our mobile...   \n",
       "3         Automobile  USER: Both my standalone gps and phone gps rep...   \n",
       "4         Automobile  USER: Several times, most recently yesterday, ...   \n",
       "..               ...                                                ...   \n",
       "414  Law Enforcement  User: There were large spikes in geozone alarm...   \n",
       "415         Aviation  User: The GPS systems in normal mode not milit...   \n",
       "416   Transportation  User: GPS would say when you plug in that ther...   \n",
       "417   Transportation  User: My business is located in Elizabeth, NJ....   \n",
       "418         Research  User: I experimented high range error on PRN 3...   \n",
       "\n",
       "                          Cause Closed Date  \\\n",
       "0                 Mapping Issue  10/25/2022   \n",
       "1      Insufficient Information  10/25/2022   \n",
       "2      Insufficient Information  10/25/2022   \n",
       "3      Insufficient Information  10/25/2022   \n",
       "4                 Mapping Issue  09/13/2022   \n",
       "..                          ...         ...   \n",
       "414              User Equipment  05/20/2019   \n",
       "415  Unintentional Interference  05/20/2019   \n",
       "416              User Equipment  05/20/2019   \n",
       "417               Mapping Issue  05/20/2019   \n",
       "418              User Equipment  05/20/2019   \n",
       "\n",
       "                                                  User  \\\n",
       "0    USER: My mapping services are constantly searc...   \n",
       "1    USER: For several years now, on and off throug...   \n",
       "2    USER: Our car navigation system and our mobile...   \n",
       "3    USER: Both my standalone gps and phone gps rep...   \n",
       "4    USER: Several times, most recently yesterday, ...   \n",
       "..                                                 ...   \n",
       "414  User: There were large spikes in geozone alarm...   \n",
       "415  User: The GPS systems in normal mode not milit...   \n",
       "416  User: GPS would say when you plug in that ther...   \n",
       "417  User: My business is located in Elizabeth, NJ....   \n",
       "418  User: I experimented high range error on PRN 3...   \n",
       "\n",
       "                                                NAVCEN  \n",
       "0                       sent data mapping information.  \n",
       "1    : The GPS Operations Center reviewed the GPS C...  \n",
       "2    : The GPS Operations Center reviewed the GPS C...  \n",
       "3    : The GPS Operations Center reviewed the GPS C...  \n",
       "4                       sent data mapping information.  \n",
       "..                                                 ...  \n",
       "414  : The GPS Operations Center reviewed the GPS C...  \n",
       "415  : Report referred to FCC. FCC conducted an inv...  \n",
       "416  : The GPS Operations Center reviewed the GPS C...  \n",
       "417  : User provided information on how to contact ...  \n",
       "418  : The GPS Operations Center reviewed the GPS C...  \n",
       "\n",
       "[419 rows x 8 columns]"
      ]
     },
     "execution_count": 58,
     "metadata": {},
     "output_type": "execute_result"
    }
   ],
   "source": [
    "gps_disruption_df"
   ]
  },
  {
   "cell_type": "markdown",
   "id": "1d640c40-c321-473f-aa00-5e6fa67dbcf6",
   "metadata": {},
   "source": [
    "## Analyse disruptions by date"
   ]
  },
  {
   "cell_type": "code",
   "execution_count": 59,
   "id": "b0e5bae0-d041-46a3-8ebc-8ac1069466a5",
   "metadata": {},
   "outputs": [
    {
     "data": {
      "text/html": [
       "<div>\n",
       "<style scoped>\n",
       "    .dataframe tbody tr th:only-of-type {\n",
       "        vertical-align: middle;\n",
       "    }\n",
       "\n",
       "    .dataframe tbody tr th {\n",
       "        vertical-align: top;\n",
       "    }\n",
       "\n",
       "    .dataframe thead th {\n",
       "        text-align: right;\n",
       "    }\n",
       "</style>\n",
       "<table border=\"1\" class=\"dataframe\">\n",
       "  <thead>\n",
       "    <tr style=\"text-align: right;\">\n",
       "      <th></th>\n",
       "      <th>Disruption Date/Time</th>\n",
       "      <th>Location</th>\n",
       "      <th>Type</th>\n",
       "      <th>Description</th>\n",
       "      <th>Cause</th>\n",
       "      <th>Closed Date</th>\n",
       "      <th>User</th>\n",
       "      <th>NAVCEN</th>\n",
       "    </tr>\n",
       "  </thead>\n",
       "  <tbody>\n",
       "    <tr>\n",
       "      <th>0</th>\n",
       "      <td>10/16/2022 14:13:00 CST</td>\n",
       "      <td>Independence</td>\n",
       "      <td>Automobile</td>\n",
       "      <td>USER: My mapping services are constantly searc...</td>\n",
       "      <td>Mapping Issue</td>\n",
       "      <td>10/25/2022</td>\n",
       "      <td>USER: My mapping services are constantly searc...</td>\n",
       "      <td>sent data mapping information.</td>\n",
       "    </tr>\n",
       "    <tr>\n",
       "      <th>1</th>\n",
       "      <td>10/06/2022 09:15:00 CST</td>\n",
       "      <td>Dallas, TX by Southern Methodist University</td>\n",
       "      <td>Other</td>\n",
       "      <td>USER: For several years now, on and off throug...</td>\n",
       "      <td>Insufficient Information</td>\n",
       "      <td>10/25/2022</td>\n",
       "      <td>USER: For several years now, on and off throug...</td>\n",
       "      <td>: The GPS Operations Center reviewed the GPS C...</td>\n",
       "    </tr>\n",
       "    <tr>\n",
       "      <th>2</th>\n",
       "      <td>09/17/2022 13:00:00 EST</td>\n",
       "      <td>Navy Yard, Washington DC</td>\n",
       "      <td>None</td>\n",
       "      <td>USER: Our car navigation system and our mobile...</td>\n",
       "      <td>Insufficient Information</td>\n",
       "      <td>10/25/2022</td>\n",
       "      <td>USER: Our car navigation system and our mobile...</td>\n",
       "      <td>: The GPS Operations Center reviewed the GPS C...</td>\n",
       "    </tr>\n",
       "    <tr>\n",
       "      <th>3</th>\n",
       "      <td>09/10/2022 09:45:00 CST</td>\n",
       "      <td>Chicago</td>\n",
       "      <td>Automobile</td>\n",
       "      <td>USER: Both my standalone gps and phone gps rep...</td>\n",
       "      <td>Insufficient Information</td>\n",
       "      <td>10/25/2022</td>\n",
       "      <td>USER: Both my standalone gps and phone gps rep...</td>\n",
       "      <td>: The GPS Operations Center reviewed the GPS C...</td>\n",
       "    </tr>\n",
       "    <tr>\n",
       "      <th>4</th>\n",
       "      <td>09/07/2022 13:15:00 EST</td>\n",
       "      <td>I-20 near Columbia, SC</td>\n",
       "      <td>Automobile</td>\n",
       "      <td>USER: Several times, most recently yesterday, ...</td>\n",
       "      <td>Mapping Issue</td>\n",
       "      <td>09/13/2022</td>\n",
       "      <td>USER: Several times, most recently yesterday, ...</td>\n",
       "      <td>sent data mapping information.</td>\n",
       "    </tr>\n",
       "  </tbody>\n",
       "</table>\n",
       "</div>"
      ],
      "text/plain": [
       "      Disruption Date/Time                                     Location  \\\n",
       "0  10/16/2022 14:13:00 CST                                 Independence   \n",
       "1  10/06/2022 09:15:00 CST  Dallas, TX by Southern Methodist University   \n",
       "2  09/17/2022 13:00:00 EST                     Navy Yard, Washington DC   \n",
       "3  09/10/2022 09:45:00 CST                                      Chicago   \n",
       "4  09/07/2022 13:15:00 EST                       I-20 near Columbia, SC   \n",
       "\n",
       "         Type                                        Description  \\\n",
       "0  Automobile  USER: My mapping services are constantly searc...   \n",
       "1       Other  USER: For several years now, on and off throug...   \n",
       "2        None  USER: Our car navigation system and our mobile...   \n",
       "3  Automobile  USER: Both my standalone gps and phone gps rep...   \n",
       "4  Automobile  USER: Several times, most recently yesterday, ...   \n",
       "\n",
       "                      Cause Closed Date  \\\n",
       "0             Mapping Issue  10/25/2022   \n",
       "1  Insufficient Information  10/25/2022   \n",
       "2  Insufficient Information  10/25/2022   \n",
       "3  Insufficient Information  10/25/2022   \n",
       "4             Mapping Issue  09/13/2022   \n",
       "\n",
       "                                                User  \\\n",
       "0  USER: My mapping services are constantly searc...   \n",
       "1  USER: For several years now, on and off throug...   \n",
       "2  USER: Our car navigation system and our mobile...   \n",
       "3  USER: Both my standalone gps and phone gps rep...   \n",
       "4  USER: Several times, most recently yesterday, ...   \n",
       "\n",
       "                                              NAVCEN  \n",
       "0                     sent data mapping information.  \n",
       "1  : The GPS Operations Center reviewed the GPS C...  \n",
       "2  : The GPS Operations Center reviewed the GPS C...  \n",
       "3  : The GPS Operations Center reviewed the GPS C...  \n",
       "4                     sent data mapping information.  "
      ]
     },
     "execution_count": 59,
     "metadata": {},
     "output_type": "execute_result"
    }
   ],
   "source": [
    "gps_disruption_df.head()"
   ]
  },
  {
   "cell_type": "code",
   "execution_count": 60,
   "id": "bff75004-449c-4cbf-b543-7f58c5b10a1a",
   "metadata": {},
   "outputs": [],
   "source": [
    "gps_disruption_df['local_date']=gps_disruption_df['Disruption Date/Time']\\\n",
    ".apply(lambda x:dt.strptime(x[0:10],'%m/%d/%Y'))"
   ]
  },
  {
   "cell_type": "markdown",
   "id": "bdd2ca0f-64f8-4d63-b94b-b2425fd81c97",
   "metadata": {},
   "source": [
    "The local date is the UTC date with up to 0.5 day error. That's not bad for analysis to the nearest day. This will have to be improved for more precise analysis."
   ]
  },
  {
   "cell_type": "code",
   "execution_count": 61,
   "id": "1fd44f7d-b467-4af7-9a2c-10f79a964045",
   "metadata": {},
   "outputs": [
    {
     "data": {
      "text/plain": [
       "<AxesSubplot: xlabel='local_date'>"
      ]
     },
     "execution_count": 61,
     "metadata": {},
     "output_type": "execute_result"
    },
    {
     "data": {
      "image/png": "[encoded data removed]",
      "text/plain": [
       "<Figure size 640x480 with 1 Axes>"
      ]
     },
     "metadata": {},
     "output_type": "display_data"
    }
   ],
   "source": [
    "gps_disruption_df.resample('M', on='local_date').\\\n",
    "count()['Disruption Date/Time'].plot(rot=90)\n"
   ]
  },
  {
   "cell_type": "markdown",
   "id": "02920851-0daf-419a-8a52-a470621e5f45",
   "metadata": {},
   "source": [
    "## Analyse disruptions by location"
   ]
  },
  {
   "cell_type": "markdown",
   "id": "c85b235a-30c1-4e69-821b-458f535cd754",
   "metadata": {
    "tags": []
   },
   "source": [
    "### Add UK to two letter codes"
   ]
  },
  {
   "cell_type": "code",
   "execution_count": 62,
   "id": "3f54257e-a5cc-4220-956b-c4022c339925",
   "metadata": {},
   "outputs": [],
   "source": [
    "two_letter_codes=\\\n",
    "pd.concat([two_letter_codes,\\\n",
    "           pd.DataFrame({'Code':\"UK\",'Subdivision name (en)':\"United Kingdom\",'Subdivision category':\"Country\",'clean_state':\"UK\"},index=[two_letter_codes['Code'].count()])])"
   ]
  },
  {
   "cell_type": "markdown",
   "id": "3e62007b-d78a-47cf-b280-ff61f081d45c",
   "metadata": {},
   "source": [
    "### Add previous names to ISO list"
   ]
  },
  {
   "cell_type": "code",
   "execution_count": 63,
   "id": "363af887-ce78-49d3-8b7b-651667ae7aaa",
   "metadata": {},
   "outputs": [],
   "source": [
    "sovereign_states['previous country name']=sovereign_states['Notes'].apply(lambda x: str(x).split('Previous ISO country name: ')[-1])"
   ]
  },
  {
   "cell_type": "markdown",
   "id": "b05b6040-45cf-46bb-a3f4-7d0dad88b410",
   "metadata": {},
   "source": [
    "### Clean up Location to get country/code "
   ]
  },
  {
   "cell_type": "code",
   "execution_count": 64,
   "id": "85f097fa-b6c6-4375-a841-69005a2b6309",
   "metadata": {},
   "outputs": [],
   "source": [
    "gps_disruption_df['location_clean']=gps_disruption_df['Location'].apply(lambda x: x.upper())#\\\n",
    "#.replace('CYPRUS, LIMASSOL','LIMASSOL, CYPRUS').apply(lambda x:x.split(',')[-1].strip().split()[0])#.replace('WASHINGTON DC','DC')\n",
    "\n",
    "#gps_disruption_df['location_clean2']=gps_disruption_df['Location'].apply(lambda x: x.upper())\\\n",
    "#.replace('CYPRUS, LIMASSOL','LIMASSOL, CYPRUS').apply(lambda x:x.split(',')[-1].strip())"
   ]
  },
  {
   "cell_type": "code",
   "execution_count": 65,
   "id": "098d7fc4-2fdf-4c36-9e86-dbd8a49b243f",
   "metadata": {},
   "outputs": [],
   "source": [
    "#gps_disruption_df[\n",
    "def token_search(x_string):\n",
    "    #state_of_interest=None\n",
    "    #country_of_interest=None\n",
    "    for x_element in x_string.split():\n",
    "        x_el_stripped=x_element.strip(',').strip(',')\n",
    "        if x_el_stripped in list(two_letter_codes['clean_state' ]):\n",
    "            state_of_interest=two_letter_codes[two_letter_codes['clean_state']==x_el_stripped]\n",
    "            return list(state_of_interest['Subdivision name (en)'].to_dict().values())[0]\n",
    "    for sovereign_state in list(sovereign_states['Country name (using title case)'].apply(lambda x:x.upper())):\n",
    "        if sovereign_state in x_string:\n",
    "            return  sovereign_state\n",
    "    for sovereign_state in list(sovereign_states['previous country name'].apply(lambda x:x.upper())):\n",
    "        if sovereign_state in x_string:\n",
    "            return  sovereign_state\n",
    "        #return state_of_interest,country_of_interest    \n",
    "    #return state_of_interest,country_of_interest\n",
    "gps_disruption_df['matched_location']=gps_disruption_df['location_clean'].apply(token_search)#=='LIMASSOL']\n"
   ]
  },
  {
   "cell_type": "markdown",
   "id": "3c69f643-6a9f-4e97-9f5d-9ea2383c3089",
   "metadata": {},
   "source": [
    "### Analyse per country and US state"
   ]
  },
  {
   "cell_type": "code",
   "execution_count": 66,
   "id": "4fb93e05-a313-4bd6-976c-7496741e987e",
   "metadata": {},
   "outputs": [
    {
     "data": {
      "text/plain": [
       "<AxesSubplot: ylabel='matched_location'>"
      ]
     },
     "execution_count": 66,
     "metadata": {},
     "output_type": "execute_result"
    },
    {
     "data": {
      "image/png": "[encoded data removed]",
      "text/plain": [
       "<Figure size 1200x1000 with 1 Axes>"
      ]
     },
     "metadata": {},
     "output_type": "display_data"
    }
   ],
   "source": [
    "#.merge(two_letter_codes,how='left',left_on='location_clean',right_on='clean_state')\\\n",
    "gps_disruption_df[gps_disruption_df['matched_location'].notna()]\\\n",
    ".groupby('matched_location').count()['Disruption Date/Time'].sort_values()\\\n",
    ".plot(kind='barh',figsize=[12,10])"
   ]
  },
  {
   "cell_type": "code",
   "execution_count": 67,
   "id": "9f1cdb4a-4905-4336-b6d1-046c145a59a6",
   "metadata": {},
   "outputs": [
    {
     "data": {
      "text/plain": [
       "array([None, 'Texas', 'District of Columbia', 'South Carolina', 'CHINA',\n",
       "       'GEORGIA', 'PANAMA', 'GUINEA', 'California', 'Massachusetts',\n",
       "       'GREECE', 'Nevada', 'Nebraska', 'PERU', 'EGYPT', 'ESTONIA', 'IRAQ',\n",
       "       'New Mexico', 'TURKEY', 'BELGIUM', 'ISRAEL', 'Oregon', 'Arkansas',\n",
       "       'South Dakota', 'AUSTRALIA', 'BRAZIL', 'CYPRUS', 'MALTA',\n",
       "       'North Dakota', 'Indiana', 'POLAND', 'LEBANON', 'United Kingdom',\n",
       "       'ITALY', 'TUNISIA', 'Virginia', 'Washington', 'GUAM', 'MEXICO',\n",
       "       'BAHRAIN', 'INDIA', 'NETHERLANDS', 'Tennessee', 'Georgia',\n",
       "       'North Carolina', 'Pennsylvania', 'Iowa', 'Florida', 'Illinois',\n",
       "       'Colorado', 'SPAIN', 'LIBYA', 'Connecticut', 'SAUDI ARABIA',\n",
       "       'Maryland', 'DENMARK', 'NEW ZEALAND', 'Louisiana', 'UKRAINE',\n",
       "       'Arizona', 'NIGER', 'IRAN', 'OMAN', 'FINLAND', 'UNITED STATES',\n",
       "       'YEMEN', 'JAPAN', 'New York', 'SLOVAKIA', 'BULGARIA', 'Ohio',\n",
       "       'CANADA', 'ARMENIA', 'GERMANY', 'Alaska', 'New Jersey', 'ALGERIA',\n",
       "       'Oklahoma', 'FRANCE', 'CHILE'], dtype=object)"
      ]
     },
     "execution_count": 67,
     "metadata": {},
     "output_type": "execute_result"
    }
   ],
   "source": [
    "gps_disruption_df['matched_location'].unique()"
   ]
  },
  {
   "cell_type": "code",
   "execution_count": 68,
   "id": "21ededa4-df66-44a1-ae78-fc2e85a57c6f",
   "metadata": {},
   "outputs": [
    {
     "data": {
      "text/html": [
       "<div>\n",
       "<style scoped>\n",
       "    .dataframe tbody tr th:only-of-type {\n",
       "        vertical-align: middle;\n",
       "    }\n",
       "\n",
       "    .dataframe tbody tr th {\n",
       "        vertical-align: top;\n",
       "    }\n",
       "\n",
       "    .dataframe thead th {\n",
       "        text-align: right;\n",
       "    }\n",
       "</style>\n",
       "<table border=\"1\" class=\"dataframe\">\n",
       "  <thead>\n",
       "    <tr style=\"text-align: right;\">\n",
       "      <th></th>\n",
       "      <th>Disruption Date/Time</th>\n",
       "      <th>Location</th>\n",
       "      <th>Type</th>\n",
       "      <th>Description</th>\n",
       "      <th>Cause</th>\n",
       "      <th>Closed Date</th>\n",
       "      <th>User</th>\n",
       "      <th>NAVCEN</th>\n",
       "      <th>local_date</th>\n",
       "      <th>location_clean</th>\n",
       "      <th>matched_location</th>\n",
       "    </tr>\n",
       "  </thead>\n",
       "  <tbody>\n",
       "    <tr>\n",
       "      <th>14</th>\n",
       "      <td>07/22/2022 11:30:00 PST</td>\n",
       "      <td>Fontana, CA</td>\n",
       "      <td>Automobile</td>\n",
       "      <td>USER: Google maps and Garmin satellite recepti...</td>\n",
       "      <td>Insufficient Information</td>\n",
       "      <td>08/23/2022</td>\n",
       "      <td>USER: Google maps and Garmin satellite recepti...</td>\n",
       "      <td>: The GPS Operations Center reviewed the GPS C...</td>\n",
       "      <td>2022-07-22</td>\n",
       "      <td>FONTANA, CA</td>\n",
       "      <td>California</td>\n",
       "    </tr>\n",
       "    <tr>\n",
       "      <th>40</th>\n",
       "      <td>04/10/2022 13:37 PST</td>\n",
       "      <td>San Diego, CA (Fasihion Valley Mall area</td>\n",
       "      <td>Automobile</td>\n",
       "      <td>USER: GPS on automobile was not working from a...</td>\n",
       "      <td>User Equipment</td>\n",
       "      <td>05/04/2022</td>\n",
       "      <td>USER: GPS on automobile was not working from a...</td>\n",
       "      <td>: Spoke to the reporting source and determined...</td>\n",
       "      <td>2022-04-10</td>\n",
       "      <td>SAN DIEGO, CA (FASIHION VALLEY MALL AREA</td>\n",
       "      <td>California</td>\n",
       "    </tr>\n",
       "    <tr>\n",
       "      <th>69</th>\n",
       "      <td>10/28/2021 05:00 EST</td>\n",
       "      <td>San Diego CA, Providence RI, Baton Rouge LA</td>\n",
       "      <td>Timing</td>\n",
       "      <td>USER: We have GPS clocks deployed across the U...</td>\n",
       "      <td>Other</td>\n",
       "      <td>02/09/2022</td>\n",
       "      <td>USER: We have GPS clocks deployed across the U...</td>\n",
       "      <td>: The GPS Operations Center reviewed the GPS C...</td>\n",
       "      <td>2021-10-28</td>\n",
       "      <td>SAN DIEGO CA, PROVIDENCE RI, BATON ROUGE LA</td>\n",
       "      <td>California</td>\n",
       "    </tr>\n",
       "    <tr>\n",
       "      <th>112</th>\n",
       "      <td>05/14/2021 1400 PST</td>\n",
       "      <td>Lompoc, CA</td>\n",
       "      <td>NaN</td>\n",
       "      <td>USER: Was going to the beach, could not acquir...</td>\n",
       "      <td>Insufficient Information</td>\n",
       "      <td>05/27/2021</td>\n",
       "      <td>USER: Was going to the beach, could not acquir...</td>\n",
       "      <td>: The GPS Operations Center reviewed the GPS C...</td>\n",
       "      <td>2021-05-14</td>\n",
       "      <td>LOMPOC, CA</td>\n",
       "      <td>California</td>\n",
       "    </tr>\n",
       "    <tr>\n",
       "      <th>144</th>\n",
       "      <td>11/15/2020 2300 PST</td>\n",
       "      <td>Pacifica, CA</td>\n",
       "      <td>Marine</td>\n",
       "      <td>User: While conducting a search near Pacifica ...</td>\n",
       "      <td>Insufficient Information</td>\n",
       "      <td>12/15/2020</td>\n",
       "      <td>User: While conducting a search near Pacifica ...</td>\n",
       "      <td>: The GPS Operations Center reviewed the GPS C...</td>\n",
       "      <td>2020-11-15</td>\n",
       "      <td>PACIFICA, CA</td>\n",
       "      <td>California</td>\n",
       "    </tr>\n",
       "    <tr>\n",
       "      <th>201</th>\n",
       "      <td>01/01/2020 19:00 PST</td>\n",
       "      <td>Lancaster CA, Hwy CA-14 crossing Ave J</td>\n",
       "      <td>Transportation</td>\n",
       "      <td>User: This location, on CA-14 northbound cross...</td>\n",
       "      <td>Insufficient Information</td>\n",
       "      <td>07/30/2020</td>\n",
       "      <td>User: This location, on CA-14 northbound cross...</td>\n",
       "      <td>: The GPS Operations Center reviewed the GPS C...</td>\n",
       "      <td>2020-01-01</td>\n",
       "      <td>LANCASTER CA, HWY CA-14 CROSSING AVE J</td>\n",
       "      <td>California</td>\n",
       "    </tr>\n",
       "    <tr>\n",
       "      <th>255</th>\n",
       "      <td>05/30/2019 23:09 UTC</td>\n",
       "      <td>Tokyo, Japan. Santa Rosa, CA</td>\n",
       "      <td>Timing</td>\n",
       "      <td>The receiver logged anomalous time of week bei...</td>\n",
       "      <td>User Equipment</td>\n",
       "      <td>09/11/2019</td>\n",
       "      <td>The receiver logged anomalous time of week bei...</td>\n",
       "      <td>: The GPS Operations Center reviewed the GPS C...</td>\n",
       "      <td>2019-05-30</td>\n",
       "      <td>TOKYO, JAPAN. SANTA ROSA, CA</td>\n",
       "      <td>California</td>\n",
       "    </tr>\n",
       "    <tr>\n",
       "      <th>256</th>\n",
       "      <td>05/23/2019 9:30 PST</td>\n",
       "      <td>San Mateo, CA to Palo Alto, CA</td>\n",
       "      <td>Automobile</td>\n",
       "      <td>User: Both built-in and mobile phone GPS indic...</td>\n",
       "      <td>User Equipment</td>\n",
       "      <td>06/10/2019</td>\n",
       "      <td>User: Both built-in and mobile phone GPS indic...</td>\n",
       "      <td>: The GPS Operations Center reviewed the GPS C...</td>\n",
       "      <td>2019-05-23</td>\n",
       "      <td>SAN MATEO, CA TO PALO ALTO, CA</td>\n",
       "      <td>California</td>\n",
       "    </tr>\n",
       "    <tr>\n",
       "      <th>258</th>\n",
       "      <td>05/17/2019 2030 UTC</td>\n",
       "      <td>Lancaster, CA</td>\n",
       "      <td>Other</td>\n",
       "      <td>Synopsis: 4 [equipment] were powered on betwee...</td>\n",
       "      <td>User Equipment</td>\n",
       "      <td>06/03/2019</td>\n",
       "      <td>Synopsis: 4 [equipment] were powered on betwee...</td>\n",
       "      <td>: The GPS Operations Center reviewed the GPS C...</td>\n",
       "      <td>2019-05-17</td>\n",
       "      <td>LANCASTER, CA</td>\n",
       "      <td>California</td>\n",
       "    </tr>\n",
       "    <tr>\n",
       "      <th>261</th>\n",
       "      <td>05/14/2019 21:40 PST</td>\n",
       "      <td>Hawthorne, CA</td>\n",
       "      <td>Law Enforcement</td>\n",
       "      <td>User: For the past two days, our GPS receivers...</td>\n",
       "      <td>User Equipment</td>\n",
       "      <td>05/24/2019</td>\n",
       "      <td>User: For the past two days, our GPS receivers...</td>\n",
       "      <td>: The GPS Operations Center reviewed the GPS C...</td>\n",
       "      <td>2019-05-14</td>\n",
       "      <td>HAWTHORNE, CA</td>\n",
       "      <td>California</td>\n",
       "    </tr>\n",
       "    <tr>\n",
       "      <th>312</th>\n",
       "      <td>08/20/2018 1700 PST</td>\n",
       "      <td>San Bernardino, CA</td>\n",
       "      <td>Transportation</td>\n",
       "      <td>User: GPS diagnostic screen on [equipment] sho...</td>\n",
       "      <td>Unknown Interference</td>\n",
       "      <td>05/07/2019</td>\n",
       "      <td>User: GPS diagnostic screen on [equipment] sho...</td>\n",
       "      <td>: The GPS Operations Center reviewed the GPS C...</td>\n",
       "      <td>2018-08-20</td>\n",
       "      <td>SAN BERNARDINO, CA</td>\n",
       "      <td>California</td>\n",
       "    </tr>\n",
       "    <tr>\n",
       "      <th>357</th>\n",
       "      <td>11/19/2017 4:17 PM PST</td>\n",
       "      <td>Concord, CA</td>\n",
       "      <td>Other</td>\n",
       "      <td>User: Mobile phone GPS application unable to l...</td>\n",
       "      <td>User Equipment</td>\n",
       "      <td>05/20/2019</td>\n",
       "      <td>User: Mobile phone GPS application unable to l...</td>\n",
       "      <td></td>\n",
       "      <td>2017-11-19</td>\n",
       "      <td>CONCORD, CA</td>\n",
       "      <td>California</td>\n",
       "    </tr>\n",
       "    <tr>\n",
       "      <th>379</th>\n",
       "      <td>08/08/2017 0600 PST</td>\n",
       "      <td>San Clemente Island, CA</td>\n",
       "      <td>Marine</td>\n",
       "      <td>User: For the last two weeks in our area of op...</td>\n",
       "      <td>GPS Testing</td>\n",
       "      <td>05/20/2019</td>\n",
       "      <td>User: For the last two weeks in our area of op...</td>\n",
       "      <td>: The GPS Operations Center reviewed the GPS C...</td>\n",
       "      <td>2017-08-08</td>\n",
       "      <td>SAN CLEMENTE ISLAND, CA</td>\n",
       "      <td>California</td>\n",
       "    </tr>\n",
       "    <tr>\n",
       "      <th>401</th>\n",
       "      <td>04/02/2017 1007 PST</td>\n",
       "      <td>Channel Islands, CA</td>\n",
       "      <td>Marine</td>\n",
       "      <td>User: Several systems, across all of our asset...</td>\n",
       "      <td>GPS Testing</td>\n",
       "      <td>05/20/2019</td>\n",
       "      <td>User: Several systems, across all of our asset...</td>\n",
       "      <td>: The GPS Operations Center reviewed the GPS C...</td>\n",
       "      <td>2017-04-02</td>\n",
       "      <td>CHANNEL ISLANDS, CA</td>\n",
       "      <td>California</td>\n",
       "    </tr>\n",
       "    <tr>\n",
       "      <th>403</th>\n",
       "      <td>03/19/2017 2:36pm PST</td>\n",
       "      <td>El Monte, CA</td>\n",
       "      <td>NaN</td>\n",
       "      <td>User: I have lived her for over 1 year and no ...</td>\n",
       "      <td>Mapping Issue</td>\n",
       "      <td>05/20/2019</td>\n",
       "      <td>User: I have lived her for over 1 year and no ...</td>\n",
       "      <td>: User provided information on how to contact ...</td>\n",
       "      <td>2017-03-19</td>\n",
       "      <td>EL MONTE, CA</td>\n",
       "      <td>California</td>\n",
       "    </tr>\n",
       "  </tbody>\n",
       "</table>\n",
       "</div>"
      ],
      "text/plain": [
       "        Disruption Date/Time                                     Location  \\\n",
       "14   07/22/2022 11:30:00 PST                                  Fontana, CA   \n",
       "40      04/10/2022 13:37 PST     San Diego, CA (Fasihion Valley Mall area   \n",
       "69      10/28/2021 05:00 EST  San Diego CA, Providence RI, Baton Rouge LA   \n",
       "112      05/14/2021 1400 PST                                   Lompoc, CA   \n",
       "144      11/15/2020 2300 PST                                 Pacifica, CA   \n",
       "201     01/01/2020 19:00 PST       Lancaster CA, Hwy CA-14 crossing Ave J   \n",
       "255     05/30/2019 23:09 UTC                 Tokyo, Japan. Santa Rosa, CA   \n",
       "256      05/23/2019 9:30 PST               San Mateo, CA to Palo Alto, CA   \n",
       "258      05/17/2019 2030 UTC                                Lancaster, CA   \n",
       "261     05/14/2019 21:40 PST                                Hawthorne, CA   \n",
       "312      08/20/2018 1700 PST                           San Bernardino, CA   \n",
       "357   11/19/2017 4:17 PM PST                                  Concord, CA   \n",
       "379      08/08/2017 0600 PST                      San Clemente Island, CA   \n",
       "401      04/02/2017 1007 PST                          Channel Islands, CA   \n",
       "403    03/19/2017 2:36pm PST                                 El Monte, CA   \n",
       "\n",
       "                Type                                        Description  \\\n",
       "14        Automobile  USER: Google maps and Garmin satellite recepti...   \n",
       "40        Automobile  USER: GPS on automobile was not working from a...   \n",
       "69            Timing  USER: We have GPS clocks deployed across the U...   \n",
       "112              NaN  USER: Was going to the beach, could not acquir...   \n",
       "144           Marine  User: While conducting a search near Pacifica ...   \n",
       "201   Transportation  User: This location, on CA-14 northbound cross...   \n",
       "255           Timing  The receiver logged anomalous time of week bei...   \n",
       "256       Automobile  User: Both built-in and mobile phone GPS indic...   \n",
       "258            Other  Synopsis: 4 [equipment] were powered on betwee...   \n",
       "261  Law Enforcement  User: For the past two days, our GPS receivers...   \n",
       "312   Transportation  User: GPS diagnostic screen on [equipment] sho...   \n",
       "357            Other  User: Mobile phone GPS application unable to l...   \n",
       "379           Marine  User: For the last two weeks in our area of op...   \n",
       "401           Marine  User: Several systems, across all of our asset...   \n",
       "403              NaN  User: I have lived her for over 1 year and no ...   \n",
       "\n",
       "                        Cause Closed Date  \\\n",
       "14   Insufficient Information  08/23/2022   \n",
       "40             User Equipment  05/04/2022   \n",
       "69                      Other  02/09/2022   \n",
       "112  Insufficient Information  05/27/2021   \n",
       "144  Insufficient Information  12/15/2020   \n",
       "201  Insufficient Information  07/30/2020   \n",
       "255            User Equipment  09/11/2019   \n",
       "256            User Equipment  06/10/2019   \n",
       "258            User Equipment  06/03/2019   \n",
       "261            User Equipment  05/24/2019   \n",
       "312      Unknown Interference  05/07/2019   \n",
       "357            User Equipment  05/20/2019   \n",
       "379               GPS Testing  05/20/2019   \n",
       "401               GPS Testing  05/20/2019   \n",
       "403             Mapping Issue  05/20/2019   \n",
       "\n",
       "                                                  User  \\\n",
       "14   USER: Google maps and Garmin satellite recepti...   \n",
       "40   USER: GPS on automobile was not working from a...   \n",
       "69   USER: We have GPS clocks deployed across the U...   \n",
       "112  USER: Was going to the beach, could not acquir...   \n",
       "144  User: While conducting a search near Pacifica ...   \n",
       "201  User: This location, on CA-14 northbound cross...   \n",
       "255  The receiver logged anomalous time of week bei...   \n",
       "256  User: Both built-in and mobile phone GPS indic...   \n",
       "258  Synopsis: 4 [equipment] were powered on betwee...   \n",
       "261  User: For the past two days, our GPS receivers...   \n",
       "312  User: GPS diagnostic screen on [equipment] sho...   \n",
       "357  User: Mobile phone GPS application unable to l...   \n",
       "379  User: For the last two weeks in our area of op...   \n",
       "401  User: Several systems, across all of our asset...   \n",
       "403  User: I have lived her for over 1 year and no ...   \n",
       "\n",
       "                                                NAVCEN local_date  \\\n",
       "14   : The GPS Operations Center reviewed the GPS C... 2022-07-22   \n",
       "40   : Spoke to the reporting source and determined... 2022-04-10   \n",
       "69   : The GPS Operations Center reviewed the GPS C... 2021-10-28   \n",
       "112  : The GPS Operations Center reviewed the GPS C... 2021-05-14   \n",
       "144  : The GPS Operations Center reviewed the GPS C... 2020-11-15   \n",
       "201  : The GPS Operations Center reviewed the GPS C... 2020-01-01   \n",
       "255  : The GPS Operations Center reviewed the GPS C... 2019-05-30   \n",
       "256  : The GPS Operations Center reviewed the GPS C... 2019-05-23   \n",
       "258  : The GPS Operations Center reviewed the GPS C... 2019-05-17   \n",
       "261  : The GPS Operations Center reviewed the GPS C... 2019-05-14   \n",
       "312  : The GPS Operations Center reviewed the GPS C... 2018-08-20   \n",
       "357                                                    2017-11-19   \n",
       "379  : The GPS Operations Center reviewed the GPS C... 2017-08-08   \n",
       "401  : The GPS Operations Center reviewed the GPS C... 2017-04-02   \n",
       "403  : User provided information on how to contact ... 2017-03-19   \n",
       "\n",
       "                                  location_clean matched_location  \n",
       "14                                   FONTANA, CA       California  \n",
       "40      SAN DIEGO, CA (FASIHION VALLEY MALL AREA       California  \n",
       "69   SAN DIEGO CA, PROVIDENCE RI, BATON ROUGE LA       California  \n",
       "112                                   LOMPOC, CA       California  \n",
       "144                                 PACIFICA, CA       California  \n",
       "201       LANCASTER CA, HWY CA-14 CROSSING AVE J       California  \n",
       "255                 TOKYO, JAPAN. SANTA ROSA, CA       California  \n",
       "256               SAN MATEO, CA TO PALO ALTO, CA       California  \n",
       "258                                LANCASTER, CA       California  \n",
       "261                                HAWTHORNE, CA       California  \n",
       "312                           SAN BERNARDINO, CA       California  \n",
       "357                                  CONCORD, CA       California  \n",
       "379                      SAN CLEMENTE ISLAND, CA       California  \n",
       "401                          CHANNEL ISLANDS, CA       California  \n",
       "403                                 EL MONTE, CA       California  "
      ]
     },
     "execution_count": 68,
     "metadata": {},
     "output_type": "execute_result"
    }
   ],
   "source": [
    "gps_disruption_df[gps_disruption_df['matched_location']=='California']"
   ]
  },
  {
   "cell_type": "code",
   "execution_count": 69,
   "id": "3e2e1d4f-7fe4-4ce3-9b9f-a911e7717182",
   "metadata": {},
   "outputs": [
    {
     "data": {
      "text/plain": [
       "{401: 'User: Several systems, across all of our assets at sea, all affected NAVCEN: The GPS Operations Center reviewed the GPS Constellation and Control Segment, there are no known anomalies that might affect GPS signal integrity at the time and vicinity of the reported outage. Space Weather was reviewed and found unlikely to have impacted GPS performance. No correlating reports from other users or interagency partners. Authorized GPS testing was scheduled within 200 miles of the reported location and may have impacted GPS performance.'}"
      ]
     },
     "execution_count": 69,
     "metadata": {},
     "output_type": "execute_result"
    }
   ],
   "source": [
    "gps_disruption_df[gps_disruption_df['Location']=='Channel Islands, CA']['Description'].to_dict()"
   ]
  },
  {
   "cell_type": "markdown",
   "id": "fc32b913-1edc-4480-a7b0-e575f1326c17",
   "metadata": {},
   "source": [
    "There is such a thing as https://en.wikipedia.org/wiki/Channel_Islands_(California)"
   ]
  },
  {
   "cell_type": "markdown",
   "id": "3a395f78-f91a-490a-bae8-fe457a1bb9a9",
   "metadata": {},
   "source": [
    "### Unmatched location needs cleaning"
   ]
  },
  {
   "cell_type": "code",
   "execution_count": 70,
   "id": "d53fd22d-7498-4bb6-8053-843e371fb9b4",
   "metadata": {},
   "outputs": [],
   "source": [
    "disruptions_by_location=gps_disruption_df[gps_disruption_df['matched_location'].isna()].groupby('Location').count()['Disruption Date/Time']\n"
   ]
  },
  {
   "cell_type": "code",
   "execution_count": 71,
   "id": "abf1fc0d-139a-47e0-b371-81175a966739",
   "metadata": {},
   "outputs": [
    {
     "data": {
      "text/plain": [
       "Location\n",
       "Limassol                  6\n",
       "Global                    4\n",
       "East Mediterranean Sea    2\n",
       "Eastern Mediterranean     2\n",
       "Istanbul                  2\n",
       "Mediterranean Sea         2\n",
       "Shanghai, PRC             2\n",
       "Suez Canal                2\n",
       "Worldwide                 2\n",
       "Name: Disruption Date/Time, dtype: int64"
      ]
     },
     "execution_count": 71,
     "metadata": {},
     "output_type": "execute_result"
    }
   ],
   "source": [
    "disruptions_by_location[disruptions_by_location>1].sort_values(ascending=False)#.plot(kind='barh')"
   ]
  },
  {
   "cell_type": "code",
   "execution_count": 72,
   "id": "3c44850e-65ae-4da3-b09e-5d1a47a87d66",
   "metadata": {},
   "outputs": [
    {
     "data": {
      "text/plain": [
       "<AxesSubplot: ylabel='Location'>"
      ]
     },
     "execution_count": 72,
     "metadata": {},
     "output_type": "execute_result"
    },
    {
     "data": {
      "image/png": "[encoded data removed]",
      "text/plain": [
       "<Figure size 1200x1000 with 1 Axes>"
      ]
     },
     "metadata": {},
     "output_type": "display_data"
    }
   ],
   "source": [
    "#def group_locations(string_x):\n",
    "#    if string_x==''\n",
    "\n",
    "disruptions_by_location[disruptions_by_location>1 ].drop(['Worldwide','Global']).sort_values()\\\n",
    ".plot(kind='barh',figsize=[12,10])"
   ]
  },
  {
   "cell_type": "code",
   "execution_count": 73,
   "id": "3137eb12-6ce5-44e6-9a2b-5942d3d41e1b",
   "metadata": {},
   "outputs": [
    {
     "data": {
      "text/html": [
       "<div>\n",
       "<style scoped>\n",
       "    .dataframe tbody tr th:only-of-type {\n",
       "        vertical-align: middle;\n",
       "    }\n",
       "\n",
       "    .dataframe tbody tr th {\n",
       "        vertical-align: top;\n",
       "    }\n",
       "\n",
       "    .dataframe thead th {\n",
       "        text-align: right;\n",
       "    }\n",
       "</style>\n",
       "<table border=\"1\" class=\"dataframe\">\n",
       "  <thead>\n",
       "    <tr style=\"text-align: right;\">\n",
       "      <th></th>\n",
       "      <th>local_date</th>\n",
       "      <th>Location</th>\n",
       "      <th>Description</th>\n",
       "      <th>Cause</th>\n",
       "    </tr>\n",
       "  </thead>\n",
       "  <tbody>\n",
       "    <tr>\n",
       "      <th>91</th>\n",
       "      <td>2021-07-28</td>\n",
       "      <td>At sea</td>\n",
       "      <td>USER: The vessel was sailing towards port said...</td>\n",
       "      <td>Unknown Interference</td>\n",
       "    </tr>\n",
       "    <tr>\n",
       "      <th>138</th>\n",
       "      <td>2021-01-16</td>\n",
       "      <td>Global</td>\n",
       "      <td>CNES has detected a repetition of IODE for PRN...</td>\n",
       "      <td>IODC_10-Bit</td>\n",
       "    </tr>\n",
       "    <tr>\n",
       "      <th>169</th>\n",
       "      <td>2020-08-04</td>\n",
       "      <td>Global</td>\n",
       "      <td>User: CNES (Centre National d Etudes Spatiales...</td>\n",
       "      <td>ICD_Violation</td>\n",
       "    </tr>\n",
       "    <tr>\n",
       "      <th>195</th>\n",
       "      <td>2020-02-12</td>\n",
       "      <td>Worldwide</td>\n",
       "      <td>User: In February 2020 (Feb 12th, 13th, 15th a...</td>\n",
       "      <td>ICD_Violation</td>\n",
       "    </tr>\n",
       "    <tr>\n",
       "      <th>286</th>\n",
       "      <td>2019-02-01</td>\n",
       "      <td>Global</td>\n",
       "      <td>User: Thanks to Navigation and Timing Monitori...</td>\n",
       "      <td>None</td>\n",
       "    </tr>\n",
       "    <tr>\n",
       "      <th>356</th>\n",
       "      <td>2017-11-30</td>\n",
       "      <td>Global</td>\n",
       "      <td>User: GPS PRN22 orbit error started to wander ...</td>\n",
       "      <td>User Equipment</td>\n",
       "    </tr>\n",
       "    <tr>\n",
       "      <th>372</th>\n",
       "      <td>2017-09-20</td>\n",
       "      <td>Worldwide</td>\n",
       "      <td>User: It appears that the Subframe-2 IODC mess...</td>\n",
       "      <td>User Equipment</td>\n",
       "    </tr>\n",
       "  </tbody>\n",
       "</table>\n",
       "</div>"
      ],
      "text/plain": [
       "    local_date   Location                                        Description  \\\n",
       "91  2021-07-28     At sea  USER: The vessel was sailing towards port said...   \n",
       "138 2021-01-16     Global  CNES has detected a repetition of IODE for PRN...   \n",
       "169 2020-08-04     Global  User: CNES (Centre National d Etudes Spatiales...   \n",
       "195 2020-02-12  Worldwide  User: In February 2020 (Feb 12th, 13th, 15th a...   \n",
       "286 2019-02-01     Global  User: Thanks to Navigation and Timing Monitori...   \n",
       "356 2017-11-30     Global  User: GPS PRN22 orbit error started to wander ...   \n",
       "372 2017-09-20  Worldwide  User: It appears that the Subframe-2 IODC mess...   \n",
       "\n",
       "                    Cause  \n",
       "91   Unknown Interference  \n",
       "138           IODC_10-Bit  \n",
       "169         ICD_Violation  \n",
       "195         ICD_Violation  \n",
       "286                  None  \n",
       "356        User Equipment  \n",
       "372        User Equipment  "
      ]
     },
     "execution_count": 73,
     "metadata": {},
     "output_type": "execute_result"
    }
   ],
   "source": [
    "gps_disruption_df.query('Location in (\"Worldwide\",\"Global\",\"At sea\")')[['local_date','Location','Description','Cause']]"
   ]
  },
  {
   "cell_type": "code",
   "execution_count": 74,
   "id": "38f471ac-67cc-4b0b-9c77-7f4e9d0be4e7",
   "metadata": {},
   "outputs": [
    {
     "name": "stdout",
     "output_type": "stream",
     "text": [
      "At roughly 8:45 PM CST lost GPS Sync to various cell sites around the US. The common GPS is trend is dual cones feeding sync to UMTS and LTE technologies. To mitigate the issue Field Technicians have removed one of the GPS cones and have a master sync from LTE feeding UMTS. There was no back office or architectural changes to our network during this time that would have caused this failure. We are curious if there were any changes made in preparation of the GPS System rollover slated for tomorrow April 6th that may have affected the base stations to lose sync. NAVCEN: The U.S. Air Force points to Interface Specification IS-GPS-200, paragraph 20.3.3.5.2.2, Almanac Reference Time, which states: \"The almanac reference time, t(oa), is some some multiple of 2(12) seconds occurring approximately 70 hours after the first valid transmission time for this almanac data set (reference 20.3.4.5). The almanac is updated often enough to ensure that GPS time, t, shall differ from t(oa) by less than 3.5 days during the transmission period.\" They go on to point out \"For this reason, beginning late on JDay 094 [April 4th], the GPS constellation began, one satellite at a time, broadcasting almanacs with almanac reference times which, when un-truncated as necessary, translate(d) to a calendar date of 7 April 2019 (after the associated 1024-week rollover), correctly, and IAW IS-GPS-200.\" As the GPS Week Number Rollover may have been a factor, user encouraged to contact their equipment manufacturer for assistance. User did not respond to requests for additional information.\n",
      "User: Observation of GPS NANU times in relation to the time satellites are set to unhealthy do not match past NANUs and satellite status. What time should be used? The time listed in the NANU, or the time the satellite was set unhealthy? NAVCEN: The GPS Operations Center provided the following response: In reference to your question, no maintenance activities were initiated prior to the SVs being set UNHEALTHY. Moving forward, the GPS Master Control Station will work to ensure the NANU more closely tracks the exact time the SVs are set UNHEALTHY to avoid misconceptions. Again, thank you for bringing this matter to our attention.\n"
     ]
    }
   ],
   "source": [
    "for description_str in gps_disruption_df.query('Location==\"United States\"')['Description']:\n",
    "    print(description_str)"
   ]
  },
  {
   "cell_type": "code",
   "execution_count": 75,
   "id": "fdea7156-6773-4a64-830f-8f5569d31479",
   "metadata": {},
   "outputs": [
    {
     "name": "stdout",
     "output_type": "stream",
     "text": [
      "User indicated an intermittent problem that was otherwise unspecified. NAVCEN: The GPS Operations Center reviewed the GPS Constellation and Control Segment, there are no known anomalies that might affect GPS signal integrity at the time and vicinity of the reported problem. Space weather was reviewed and found unlikely to have impacted GPS performance. There were no authorized GPS tests in the area. No correlating reports from interagency partners. The report of interference is similar to that outlined by U.S. Maritime Administration in Maritime Advisory 2021-004-Various GPS Interference. User encouraged to report the issue to the nearest communication authority.\n",
      "USER: roughly 12 hours of gps spoofing upon departure from port Said Egypt. GPS signal rapidly shifted numerous times, position 6-8 miles off. Position dropped for 90 percent of the 12 hours. GPS aboard connected to ECDIS, RADAR,AIS, GYRO repeater panel, GMDSS suite. NAVCEN: The GPS Operations Center reviewed the GPS Constellation and Control Segment, there are no known anomalies that might affect GPS signal integrity at the time and vicinity of the reported problem. Space weather was reviewed and found unlikely to have impacted GPS performance. There were no authorized GPS tests in the area. No correlating reports from interagency partners. The report of interference is similar to that outlined by U.S. Maritime Administration in Maritime Advisory 2021-004-Various GPS Interference. User encouraged to report the issue to the nearest communication authority.\n",
      "Lost GPS signal for six-minutes from 1620 GMT to 1626 GMT. NAVCEN: The GPS Operations Center reviewed the GPS Constellation and Control Segment, there are no known anomalies that might affect GPS signal integrity at the time and vicinity of the reported problem. Space weather was reviewed and found unlikely to have impacted GPS performance. There were no authorized GPS tests in the area. No correlating reports from interagency partners. The report of interference is similar to that outlined by U.S. Maritime Administration in Maritime Advisory 2021-004-Various GPS Interference. User encouraged to report the issue to the nearest communication authority.\n",
      "GPS jamming begins, affecting both GPS units. Our position was @ 36-06N, 016-58E, and we were on a course of 100 T, with a speed of 17.8 kts. The GPS receivers had @ 8 satellites in view, but the Signal to Noise Ratio (SNR) of all satellites changed continuously from 0 to less than 30 for all satellites. Both GPS receivers were alarming, indicating a “loss of signal.” I switched GPS #2 to primary, because it also receives position data from GLONASS. This allowed our ECDIS to continue to function. The jamming was solid for 8 minutes. . NAVCEN: The GPS Operations Center reviewed the GPS Constellation and Control Segment, there are no known anomalies that might affect GPS signal integrity at the time and vicinity of the reported problem. Space weather was reviewed and found unlikely to have impacted GPS performance. There were no authorized GPS tests in the area. No correlating reports from interagency partners. The report of interference is similar to that outlined by U.S. Maritime Administration in Maritime Advisory 2021-004-Various GPS Interference. User encouraged to report the issue to the nearest communication authority.\n",
      "User: Additional vessel in area were experiencing similar GPS failures. NAVCEN: The GPS Operations Center reviewed the GPS Constellation and Control Segment, there are no known anomalies that might affect GPS signal integrity at the time and vicinity of the reported problem. Space weather was reviewed and found unlikely to have impacted GPS performance. There were no authorized GPS tests in the area. No correlating reports from interagency partners. The report of interference is similar to that outlined by U.S. Maritime Administration in Maritime Advisory 2020-016-Various GPS Interference. User encouraged to report the issue to the nearest communication authority.\n",
      "User: Intermittent GPS signal beginning at 0130Z which lasted for approx. 1-hour. Occurred again at 1030Z posn 35-20N 18-43E, and 1325Z posn 35-35N 17-40E for 15 minutes respectively. NAVCEN: The GPS Operations Center reviewed the GPS Constellation and Control Segment, there are no known anomalies that might affect GPS signal integrity at the time and vicinity of the reported problem. Space weather was reviewed and found unlikely to have impacted GPS performance. There were no authorized GPS tests in the area. No correlating reports from interagency partners. The report of interference is similar to that outlined by U.S. Maritime Administration in Maritime Advisory 2020-016-Various GPS Interference. User encouraged to report the issue to the nearest communication authority.\n"
     ]
    }
   ],
   "source": [
    "for description_str in gps_disruption_df.query('Location in (\"Mediterranean Sea\",\"Eastern Mediterranean\",\"East Mediterranean Sea\")')\\\n",
    "['Description']:\n",
    "    print(description_str)"
   ]
  },
  {
   "cell_type": "markdown",
   "id": "12aad695-6e7d-4bc6-8811-c962ead915ae",
   "metadata": {},
   "source": [
    "### Rare locations"
   ]
  },
  {
   "cell_type": "code",
   "execution_count": 76,
   "id": "1eb8e8d7-cb13-413c-9e26-ac894808f7ad",
   "metadata": {},
   "outputs": [
    {
     "data": {
      "text/plain": [
       "Location\n",
       "100NM off Port Said                     1\n",
       "35 - 04.4N, 034 - 48.1E                 1\n",
       "AT SEA                                  1\n",
       "Abu Musa Island                         1\n",
       "Albany, New York                        1\n",
       "                                       ..\n",
       "sikeston                                1\n",
       "tehran                                  1\n",
       "toledo, ohio                            1\n",
       "transiting inside Suez Canal N-bound    1\n",
       "Харьков                                 1\n",
       "Name: Disruption Date/Time, Length: 133, dtype: int64"
      ]
     },
     "execution_count": 76,
     "metadata": {},
     "output_type": "execute_result"
    }
   ],
   "source": [
    "disruptions_by_location[disruptions_by_location==1 ]\\\n",
    "#.plot(kind='barh',figsize=[12,10])\n",
    "#.drop(['AK','SD','OK','NM','DC','ND'])"
   ]
  },
  {
   "cell_type": "markdown",
   "id": "46c752ec-36bf-4104-af28-17f2508e76b3",
   "metadata": {
    "tags": []
   },
   "source": [
    "### quantify scale of each subgroup"
   ]
  },
  {
   "cell_type": "code",
   "execution_count": 77,
   "id": "45105054-3373-4fe8-8831-4dd1298f8214",
   "metadata": {},
   "outputs": [
    {
     "data": {
      "text/plain": [
       "79"
      ]
     },
     "execution_count": 77,
     "metadata": {},
     "output_type": "execute_result"
    }
   ],
   "source": [
    "gps_disruption_df['matched_location'].nunique()"
   ]
  },
  {
   "cell_type": "code",
   "execution_count": 78,
   "id": "92df1ded-8e0e-4beb-8b40-632192de786c",
   "metadata": {},
   "outputs": [
    {
     "data": {
      "text/plain": [
       "262"
      ]
     },
     "execution_count": 78,
     "metadata": {},
     "output_type": "execute_result"
    }
   ],
   "source": [
    "gps_disruption_df[gps_disruption_df['matched_location'].notna()]['Disruption Date/Time'].count()"
   ]
  },
  {
   "cell_type": "code",
   "execution_count": 79,
   "id": "08926765-1d1f-4877-b455-5bad65ee68e0",
   "metadata": {},
   "outputs": [
    {
     "data": {
      "text/plain": [
       "9"
      ]
     },
     "execution_count": 79,
     "metadata": {},
     "output_type": "execute_result"
    }
   ],
   "source": [
    "disruptions_by_location[disruptions_by_location>1 ].count()"
   ]
  },
  {
   "cell_type": "code",
   "execution_count": 80,
   "id": "cd3d6fa9-9640-412e-8af1-d237b522426f",
   "metadata": {},
   "outputs": [
    {
     "data": {
      "text/plain": [
       "133"
      ]
     },
     "execution_count": 80,
     "metadata": {},
     "output_type": "execute_result"
    }
   ],
   "source": [
    "disruptions_by_location[disruptions_by_location==1 ].count()"
   ]
  },
  {
   "cell_type": "code",
   "execution_count": null,
   "id": "dafefc9d-a2c4-4955-b546-4be9e42b844a",
   "metadata": {},
   "outputs": [],
   "source": []
  }
 ],
 "metadata": {
  "kernelspec": {
   "display_name": "Python 3 (ipykernel)",
   "language": "python",
   "name": "python3"
  },
  "language_info": {
   "codemirror_mode": {
    "name": "ipython",
    "version": 3
   },
   "file_extension": ".py",
   "mimetype": "text/x-python",
   "name": "python",
   "nbconvert_exporter": "python",
   "pygments_lexer": "ipython3",
   "version": "3.10.4"
  },
  "toc-autonumbering": true,
  "vscode": {
   "interpreter": {
    "hash": "3ad933181bd8a04b432d3370b9dc3b0662ad032c4dfaa4e4f1596c548f763858"
   }
  }
 },
 "nbformat": 4,
 "nbformat_minor": 5
}
